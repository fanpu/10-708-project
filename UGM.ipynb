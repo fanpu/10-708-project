{
 "cells": [
  {
   "cell_type": "code",
   "execution_count": 2,
   "id": "0e75509d",
   "metadata": {
    "scrolled": true
   },
   "outputs": [
    {
     "name": "stdout",
     "output_type": "stream",
     "text": [
      "Requirement already satisfied: numpy in ./venv/lib/python3.10/site-packages (1.21.6)\n",
      "\n",
      "\u001b[1m[\u001b[0m\u001b[34;49mnotice\u001b[0m\u001b[1;39;49m]\u001b[0m\u001b[39;49m A new release of pip available: \u001b[0m\u001b[31;49m22.2.2\u001b[0m\u001b[39;49m -> \u001b[0m\u001b[32;49m22.3.1\u001b[0m\n",
      "\u001b[1m[\u001b[0m\u001b[34;49mnotice\u001b[0m\u001b[1;39;49m]\u001b[0m\u001b[39;49m To update, run: \u001b[0m\u001b[32;49mpip install --upgrade pip\u001b[0m\n",
      "Requirement already satisfied: networkx in ./venv/lib/python3.10/site-packages (2.8.8)\n",
      "\n",
      "\u001b[1m[\u001b[0m\u001b[34;49mnotice\u001b[0m\u001b[1;39;49m]\u001b[0m\u001b[39;49m A new release of pip available: \u001b[0m\u001b[31;49m22.2.2\u001b[0m\u001b[39;49m -> \u001b[0m\u001b[32;49m22.3.1\u001b[0m\n",
      "\u001b[1m[\u001b[0m\u001b[34;49mnotice\u001b[0m\u001b[1;39;49m]\u001b[0m\u001b[39;49m To update, run: \u001b[0m\u001b[32;49mpip install --upgrade pip\u001b[0m\n",
      "Requirement already satisfied: pgmpy in ./venv/lib/python3.10/site-packages (0.1.20)\n",
      "Requirement already satisfied: joblib in ./venv/lib/python3.10/site-packages (from pgmpy) (1.2.0)\n",
      "Requirement already satisfied: scipy in ./venv/lib/python3.10/site-packages (from pgmpy) (1.9.3)\n",
      "Requirement already satisfied: tqdm in ./venv/lib/python3.10/site-packages (from pgmpy) (4.64.1)\n",
      "Requirement already satisfied: scikit-learn in ./venv/lib/python3.10/site-packages (from pgmpy) (1.1.3)\n",
      "Requirement already satisfied: opt-einsum in ./venv/lib/python3.10/site-packages (from pgmpy) (3.3.0)\n",
      "Requirement already satisfied: numpy in ./venv/lib/python3.10/site-packages (from pgmpy) (1.21.6)\n",
      "Requirement already satisfied: pandas in ./venv/lib/python3.10/site-packages (from pgmpy) (1.5.2)\n",
      "Requirement already satisfied: torch in ./venv/lib/python3.10/site-packages (from pgmpy) (1.13.0)\n",
      "Requirement already satisfied: networkx in ./venv/lib/python3.10/site-packages (from pgmpy) (2.8.8)\n",
      "Requirement already satisfied: statsmodels in ./venv/lib/python3.10/site-packages (from pgmpy) (0.13.5)\n",
      "Requirement already satisfied: pyparsing in ./venv/lib/python3.10/site-packages (from pgmpy) (3.0.9)\n",
      "Requirement already satisfied: pytz>=2020.1 in ./venv/lib/python3.10/site-packages (from pandas->pgmpy) (2022.6)\n",
      "Requirement already satisfied: python-dateutil>=2.8.1 in ./venv/lib/python3.10/site-packages (from pandas->pgmpy) (2.8.2)\n",
      "Requirement already satisfied: threadpoolctl>=2.0.0 in ./venv/lib/python3.10/site-packages (from scikit-learn->pgmpy) (3.1.0)\n",
      "Requirement already satisfied: patsy>=0.5.2 in ./venv/lib/python3.10/site-packages (from statsmodels->pgmpy) (0.5.3)\n",
      "Requirement already satisfied: packaging>=21.3 in ./venv/lib/python3.10/site-packages (from statsmodels->pgmpy) (21.3)\n",
      "Requirement already satisfied: nvidia-cudnn-cu11==8.5.0.96 in ./venv/lib/python3.10/site-packages (from torch->pgmpy) (8.5.0.96)\n",
      "Requirement already satisfied: nvidia-cuda-nvrtc-cu11==11.7.99 in ./venv/lib/python3.10/site-packages (from torch->pgmpy) (11.7.99)\n",
      "Requirement already satisfied: typing-extensions in ./venv/lib/python3.10/site-packages (from torch->pgmpy) (4.4.0)\n",
      "Requirement already satisfied: nvidia-cublas-cu11==11.10.3.66 in ./venv/lib/python3.10/site-packages (from torch->pgmpy) (11.10.3.66)\n",
      "Requirement already satisfied: nvidia-cuda-runtime-cu11==11.7.99 in ./venv/lib/python3.10/site-packages (from torch->pgmpy) (11.7.99)\n",
      "Requirement already satisfied: setuptools in ./venv/lib/python3.10/site-packages (from nvidia-cublas-cu11==11.10.3.66->torch->pgmpy) (63.2.0)\n",
      "Requirement already satisfied: wheel in ./venv/lib/python3.10/site-packages (from nvidia-cublas-cu11==11.10.3.66->torch->pgmpy) (0.38.4)\n",
      "Requirement already satisfied: six in ./venv/lib/python3.10/site-packages (from patsy>=0.5.2->statsmodels->pgmpy) (1.16.0)\n",
      "\n",
      "\u001b[1m[\u001b[0m\u001b[34;49mnotice\u001b[0m\u001b[1;39;49m]\u001b[0m\u001b[39;49m A new release of pip available: \u001b[0m\u001b[31;49m22.2.2\u001b[0m\u001b[39;49m -> \u001b[0m\u001b[32;49m22.3.1\u001b[0m\n",
      "\u001b[1m[\u001b[0m\u001b[34;49mnotice\u001b[0m\u001b[1;39;49m]\u001b[0m\u001b[39;49m To update, run: \u001b[0m\u001b[32;49mpip install --upgrade pip\u001b[0m\n",
      "Requirement already satisfied: ipdb in ./venv/lib/python3.10/site-packages (0.13.9)\n",
      "Requirement already satisfied: ipython>=7.17.0 in ./venv/lib/python3.10/site-packages (from ipdb) (8.7.0)\n",
      "Requirement already satisfied: decorator in ./venv/lib/python3.10/site-packages (from ipdb) (5.1.1)\n",
      "Requirement already satisfied: setuptools in ./venv/lib/python3.10/site-packages (from ipdb) (63.2.0)\n",
      "Requirement already satisfied: toml>=0.10.2 in ./venv/lib/python3.10/site-packages (from ipdb) (0.10.2)\n",
      "Requirement already satisfied: stack-data in ./venv/lib/python3.10/site-packages (from ipython>=7.17.0->ipdb) (0.6.2)\n",
      "Requirement already satisfied: pexpect>4.3 in ./venv/lib/python3.10/site-packages (from ipython>=7.17.0->ipdb) (4.8.0)\n",
      "Requirement already satisfied: pickleshare in ./venv/lib/python3.10/site-packages (from ipython>=7.17.0->ipdb) (0.7.5)\n",
      "Requirement already satisfied: traitlets>=5 in ./venv/lib/python3.10/site-packages (from ipython>=7.17.0->ipdb) (5.6.0)\n",
      "Requirement already satisfied: backcall in ./venv/lib/python3.10/site-packages (from ipython>=7.17.0->ipdb) (0.2.0)\n",
      "Requirement already satisfied: matplotlib-inline in ./venv/lib/python3.10/site-packages (from ipython>=7.17.0->ipdb) (0.1.6)\n",
      "Requirement already satisfied: pygments>=2.4.0 in ./venv/lib/python3.10/site-packages (from ipython>=7.17.0->ipdb) (2.13.0)\n",
      "Requirement already satisfied: jedi>=0.16 in ./venv/lib/python3.10/site-packages (from ipython>=7.17.0->ipdb) (0.18.2)\n",
      "Requirement already satisfied: prompt-toolkit<3.1.0,>=3.0.11 in ./venv/lib/python3.10/site-packages (from ipython>=7.17.0->ipdb) (3.0.33)\n",
      "Requirement already satisfied: parso<0.9.0,>=0.8.0 in ./venv/lib/python3.10/site-packages (from jedi>=0.16->ipython>=7.17.0->ipdb) (0.8.3)\n",
      "Requirement already satisfied: ptyprocess>=0.5 in ./venv/lib/python3.10/site-packages (from pexpect>4.3->ipython>=7.17.0->ipdb) (0.7.0)\n",
      "Requirement already satisfied: wcwidth in ./venv/lib/python3.10/site-packages (from prompt-toolkit<3.1.0,>=3.0.11->ipython>=7.17.0->ipdb) (0.2.5)\n",
      "Requirement already satisfied: executing>=1.2.0 in ./venv/lib/python3.10/site-packages (from stack-data->ipython>=7.17.0->ipdb) (1.2.0)\n",
      "Requirement already satisfied: pure-eval in ./venv/lib/python3.10/site-packages (from stack-data->ipython>=7.17.0->ipdb) (0.2.2)\n",
      "Requirement already satisfied: asttokens>=2.1.0 in ./venv/lib/python3.10/site-packages (from stack-data->ipython>=7.17.0->ipdb) (2.2.0)\n",
      "Requirement already satisfied: six in ./venv/lib/python3.10/site-packages (from asttokens>=2.1.0->stack-data->ipython>=7.17.0->ipdb) (1.16.0)\n",
      "\n",
      "\u001b[1m[\u001b[0m\u001b[34;49mnotice\u001b[0m\u001b[1;39;49m]\u001b[0m\u001b[39;49m A new release of pip available: \u001b[0m\u001b[31;49m22.2.2\u001b[0m\u001b[39;49m -> \u001b[0m\u001b[32;49m22.3.1\u001b[0m\n",
      "\u001b[1m[\u001b[0m\u001b[34;49mnotice\u001b[0m\u001b[1;39;49m]\u001b[0m\u001b[39;49m To update, run: \u001b[0m\u001b[32;49mpip install --upgrade pip\u001b[0m\n",
      "Requirement already satisfied: yfinance in ./venv/lib/python3.10/site-packages (0.1.87)\n",
      "Requirement already satisfied: pandas>=0.24.0 in ./venv/lib/python3.10/site-packages (from yfinance) (1.5.2)\n",
      "Requirement already satisfied: lxml>=4.5.1 in ./venv/lib/python3.10/site-packages (from yfinance) (4.9.1)\n",
      "Requirement already satisfied: multitasking>=0.0.7 in ./venv/lib/python3.10/site-packages (from yfinance) (0.0.11)\n",
      "Requirement already satisfied: appdirs>=1.4.4 in ./venv/lib/python3.10/site-packages (from yfinance) (1.4.4)\n",
      "Requirement already satisfied: requests>=2.26 in ./venv/lib/python3.10/site-packages (from yfinance) (2.28.1)\n",
      "Requirement already satisfied: numpy>=1.15 in ./venv/lib/python3.10/site-packages (from yfinance) (1.21.6)\n",
      "Requirement already satisfied: pytz>=2020.1 in ./venv/lib/python3.10/site-packages (from pandas>=0.24.0->yfinance) (2022.6)\n",
      "Requirement already satisfied: python-dateutil>=2.8.1 in ./venv/lib/python3.10/site-packages (from pandas>=0.24.0->yfinance) (2.8.2)\n",
      "Requirement already satisfied: certifi>=2017.4.17 in ./venv/lib/python3.10/site-packages (from requests>=2.26->yfinance) (2022.9.24)\n",
      "Requirement already satisfied: urllib3<1.27,>=1.21.1 in ./venv/lib/python3.10/site-packages (from requests>=2.26->yfinance) (1.26.13)\n",
      "Requirement already satisfied: charset-normalizer<3,>=2 in ./venv/lib/python3.10/site-packages (from requests>=2.26->yfinance) (2.1.1)\n",
      "Requirement already satisfied: idna<4,>=2.5 in ./venv/lib/python3.10/site-packages (from requests>=2.26->yfinance) (3.4)\n",
      "Requirement already satisfied: six>=1.5 in ./venv/lib/python3.10/site-packages (from python-dateutil>=2.8.1->pandas>=0.24.0->yfinance) (1.16.0)\n"
     ]
    },
    {
     "name": "stdout",
     "output_type": "stream",
     "text": [
      "\n",
      "\u001b[1m[\u001b[0m\u001b[34;49mnotice\u001b[0m\u001b[1;39;49m]\u001b[0m\u001b[39;49m A new release of pip available: \u001b[0m\u001b[31;49m22.2.2\u001b[0m\u001b[39;49m -> \u001b[0m\u001b[32;49m22.3.1\u001b[0m\n",
      "\u001b[1m[\u001b[0m\u001b[34;49mnotice\u001b[0m\u001b[1;39;49m]\u001b[0m\u001b[39;49m To update, run: \u001b[0m\u001b[32;49mpip install --upgrade pip\u001b[0m\n",
      "Requirement already satisfied: matplotlib in ./venv/lib/python3.10/site-packages (3.6.2)\n",
      "Requirement already satisfied: python-dateutil>=2.7 in ./venv/lib/python3.10/site-packages (from matplotlib) (2.8.2)\n",
      "Requirement already satisfied: fonttools>=4.22.0 in ./venv/lib/python3.10/site-packages (from matplotlib) (4.38.0)\n",
      "Requirement already satisfied: pyparsing>=2.2.1 in ./venv/lib/python3.10/site-packages (from matplotlib) (3.0.9)\n",
      "Requirement already satisfied: packaging>=20.0 in ./venv/lib/python3.10/site-packages (from matplotlib) (21.3)\n",
      "Requirement already satisfied: numpy>=1.19 in ./venv/lib/python3.10/site-packages (from matplotlib) (1.21.6)\n",
      "Requirement already satisfied: contourpy>=1.0.1 in ./venv/lib/python3.10/site-packages (from matplotlib) (1.0.6)\n",
      "Requirement already satisfied: kiwisolver>=1.0.1 in ./venv/lib/python3.10/site-packages (from matplotlib) (1.4.4)\n",
      "Requirement already satisfied: cycler>=0.10 in ./venv/lib/python3.10/site-packages (from matplotlib) (0.11.0)\n",
      "Requirement already satisfied: pillow>=6.2.0 in ./venv/lib/python3.10/site-packages (from matplotlib) (9.3.0)\n",
      "Requirement already satisfied: six>=1.5 in ./venv/lib/python3.10/site-packages (from python-dateutil>=2.7->matplotlib) (1.16.0)\n",
      "\n",
      "\u001b[1m[\u001b[0m\u001b[34;49mnotice\u001b[0m\u001b[1;39;49m]\u001b[0m\u001b[39;49m A new release of pip available: \u001b[0m\u001b[31;49m22.2.2\u001b[0m\u001b[39;49m -> \u001b[0m\u001b[32;49m22.3.1\u001b[0m\n",
      "\u001b[1m[\u001b[0m\u001b[34;49mnotice\u001b[0m\u001b[1;39;49m]\u001b[0m\u001b[39;49m To update, run: \u001b[0m\u001b[32;49mpip install --upgrade pip\u001b[0m\n",
      "Requirement already satisfied: arviz in ./venv/lib/python3.10/site-packages (0.14.0)\n",
      "Requirement already satisfied: numpy>=1.20.0 in ./venv/lib/python3.10/site-packages (from arviz) (1.21.6)\n",
      "Requirement already satisfied: matplotlib>=3.5 in ./venv/lib/python3.10/site-packages (from arviz) (3.6.2)\n",
      "Requirement already satisfied: scipy>=1.8.0 in ./venv/lib/python3.10/site-packages (from arviz) (1.9.3)\n",
      "Requirement already satisfied: xarray-einstats>=0.3 in ./venv/lib/python3.10/site-packages (from arviz) (0.3.0)\n",
      "Requirement already satisfied: packaging in ./venv/lib/python3.10/site-packages (from arviz) (21.3)\n",
      "Requirement already satisfied: setuptools>=60.0.0 in ./venv/lib/python3.10/site-packages (from arviz) (63.2.0)\n",
      "Requirement already satisfied: pandas>=1.4.0 in ./venv/lib/python3.10/site-packages (from arviz) (1.5.2)\n",
      "Requirement already satisfied: netcdf4 in ./venv/lib/python3.10/site-packages (from arviz) (1.6.2)\n",
      "Requirement already satisfied: xarray>=0.21.0 in ./venv/lib/python3.10/site-packages (from arviz) (2022.12.0)\n",
      "Requirement already satisfied: typing-extensions>=4.1.0 in ./venv/lib/python3.10/site-packages (from arviz) (4.4.0)\n",
      "Requirement already satisfied: pyparsing>=2.2.1 in ./venv/lib/python3.10/site-packages (from matplotlib>=3.5->arviz) (3.0.9)\n",
      "Requirement already satisfied: contourpy>=1.0.1 in ./venv/lib/python3.10/site-packages (from matplotlib>=3.5->arviz) (1.0.6)\n",
      "Requirement already satisfied: python-dateutil>=2.7 in ./venv/lib/python3.10/site-packages (from matplotlib>=3.5->arviz) (2.8.2)\n",
      "Requirement already satisfied: fonttools>=4.22.0 in ./venv/lib/python3.10/site-packages (from matplotlib>=3.5->arviz) (4.38.0)\n",
      "Requirement already satisfied: kiwisolver>=1.0.1 in ./venv/lib/python3.10/site-packages (from matplotlib>=3.5->arviz) (1.4.4)\n",
      "Requirement already satisfied: cycler>=0.10 in ./venv/lib/python3.10/site-packages (from matplotlib>=3.5->arviz) (0.11.0)\n",
      "Requirement already satisfied: pillow>=6.2.0 in ./venv/lib/python3.10/site-packages (from matplotlib>=3.5->arviz) (9.3.0)\n",
      "Requirement already satisfied: pytz>=2020.1 in ./venv/lib/python3.10/site-packages (from pandas>=1.4.0->arviz) (2022.6)\n",
      "Requirement already satisfied: cftime in ./venv/lib/python3.10/site-packages (from netcdf4->arviz) (1.6.2)\n",
      "Requirement already satisfied: six>=1.5 in ./venv/lib/python3.10/site-packages (from python-dateutil>=2.7->matplotlib>=3.5->arviz) (1.16.0)\n",
      "\n",
      "\u001b[1m[\u001b[0m\u001b[34;49mnotice\u001b[0m\u001b[1;39;49m]\u001b[0m\u001b[39;49m A new release of pip available: \u001b[0m\u001b[31;49m22.2.2\u001b[0m\u001b[39;49m -> \u001b[0m\u001b[32;49m22.3.1\u001b[0m\n",
      "\u001b[1m[\u001b[0m\u001b[34;49mnotice\u001b[0m\u001b[1;39;49m]\u001b[0m\u001b[39;49m To update, run: \u001b[0m\u001b[32;49mpip install --upgrade pip\u001b[0m\n",
      "Requirement already satisfied: pymc in ./venv/lib/python3.10/site-packages (4.4.0)\n",
      "Requirement already satisfied: typing-extensions>=3.7.4 in ./venv/lib/python3.10/site-packages (from pymc) (4.4.0)\n",
      "Requirement already satisfied: pandas>=0.24.0 in ./venv/lib/python3.10/site-packages (from pymc) (1.5.2)\n",
      "Requirement already satisfied: cachetools>=4.2.1 in ./venv/lib/python3.10/site-packages (from pymc) (5.2.0)\n",
      "Requirement already satisfied: scipy>=1.4.1 in ./venv/lib/python3.10/site-packages (from pymc) (1.9.3)\n",
      "Requirement already satisfied: fastprogress>=0.2.0 in ./venv/lib/python3.10/site-packages (from pymc) (1.0.3)\n",
      "Requirement already satisfied: cloudpickle in ./venv/lib/python3.10/site-packages (from pymc) (2.2.0)\n",
      "Requirement already satisfied: aesara==2.8.7 in ./venv/lib/python3.10/site-packages (from pymc) (2.8.7)\n",
      "Requirement already satisfied: numpy>=1.15.0 in ./venv/lib/python3.10/site-packages (from pymc) (1.21.6)\n",
      "Requirement already satisfied: aeppl==0.0.38 in ./venv/lib/python3.10/site-packages (from pymc) (0.0.38)\n",
      "Requirement already satisfied: arviz>=0.13.0 in ./venv/lib/python3.10/site-packages (from pymc) (0.14.0)\n",
      "Requirement already satisfied: filelock in ./venv/lib/python3.10/site-packages (from aesara==2.8.7->pymc) (3.8.0)\n",
      "Requirement already satisfied: etuples in ./venv/lib/python3.10/site-packages (from aesara==2.8.7->pymc) (0.3.8)\n",
      "Requirement already satisfied: cons in ./venv/lib/python3.10/site-packages (from aesara==2.8.7->pymc) (0.4.5)\n",
      "Requirement already satisfied: miniKanren in ./venv/lib/python3.10/site-packages (from aesara==2.8.7->pymc) (1.0.3)\n",
      "Requirement already satisfied: setuptools>=48.0.0 in ./venv/lib/python3.10/site-packages (from aesara==2.8.7->pymc) (63.2.0)\n",
      "Requirement already satisfied: logical-unification in ./venv/lib/python3.10/site-packages (from aesara==2.8.7->pymc) (0.4.5)\n",
      "Requirement already satisfied: xarray-einstats>=0.3 in ./venv/lib/python3.10/site-packages (from arviz>=0.13.0->pymc) (0.3.0)\n",
      "Requirement already satisfied: xarray>=0.21.0 in ./venv/lib/python3.10/site-packages (from arviz>=0.13.0->pymc) (2022.12.0)\n",
      "Requirement already satisfied: packaging in ./venv/lib/python3.10/site-packages (from arviz>=0.13.0->pymc) (21.3)\n",
      "Requirement already satisfied: netcdf4 in ./venv/lib/python3.10/site-packages (from arviz>=0.13.0->pymc) (1.6.2)\n",
      "Requirement already satisfied: matplotlib>=3.5 in ./venv/lib/python3.10/site-packages (from arviz>=0.13.0->pymc) (3.6.2)\n",
      "Requirement already satisfied: pytz>=2020.1 in ./venv/lib/python3.10/site-packages (from pandas>=0.24.0->pymc) (2022.6)\n",
      "Requirement already satisfied: python-dateutil>=2.8.1 in ./venv/lib/python3.10/site-packages (from pandas>=0.24.0->pymc) (2.8.2)\n",
      "Requirement already satisfied: pyparsing>=2.2.1 in ./venv/lib/python3.10/site-packages (from matplotlib>=3.5->arviz>=0.13.0->pymc) (3.0.9)\n",
      "Requirement already satisfied: fonttools>=4.22.0 in ./venv/lib/python3.10/site-packages (from matplotlib>=3.5->arviz>=0.13.0->pymc) (4.38.0)\n",
      "Requirement already satisfied: cycler>=0.10 in ./venv/lib/python3.10/site-packages (from matplotlib>=3.5->arviz>=0.13.0->pymc) (0.11.0)\n",
      "Requirement already satisfied: contourpy>=1.0.1 in ./venv/lib/python3.10/site-packages (from matplotlib>=3.5->arviz>=0.13.0->pymc) (1.0.6)\n",
      "Requirement already satisfied: pillow>=6.2.0 in ./venv/lib/python3.10/site-packages (from matplotlib>=3.5->arviz>=0.13.0->pymc) (9.3.0)\n",
      "Requirement already satisfied: kiwisolver>=1.0.1 in ./venv/lib/python3.10/site-packages (from matplotlib>=3.5->arviz>=0.13.0->pymc) (1.4.4)\n",
      "Requirement already satisfied: six>=1.5 in ./venv/lib/python3.10/site-packages (from python-dateutil>=2.8.1->pandas>=0.24.0->pymc) (1.16.0)\n",
      "Requirement already satisfied: toolz in ./venv/lib/python3.10/site-packages (from logical-unification->aesara==2.8.7->pymc) (0.12.0)\n",
      "Requirement already satisfied: multipledispatch in ./venv/lib/python3.10/site-packages (from logical-unification->aesara==2.8.7->pymc) (0.6.0)\n",
      "Requirement already satisfied: cftime in ./venv/lib/python3.10/site-packages (from netcdf4->arviz>=0.13.0->pymc) (1.6.2)\n"
     ]
    },
    {
     "name": "stdout",
     "output_type": "stream",
     "text": [
      "\n",
      "\u001b[1m[\u001b[0m\u001b[34;49mnotice\u001b[0m\u001b[1;39;49m]\u001b[0m\u001b[39;49m A new release of pip available: \u001b[0m\u001b[31;49m22.2.2\u001b[0m\u001b[39;49m -> \u001b[0m\u001b[32;49m22.3.1\u001b[0m\n",
      "\u001b[1m[\u001b[0m\u001b[34;49mnotice\u001b[0m\u001b[1;39;49m]\u001b[0m\u001b[39;49m To update, run: \u001b[0m\u001b[32;49mpip install --upgrade pip\u001b[0m\n",
      "Requirement already satisfied: bambi in ./venv/lib/python3.10/site-packages (0.9.1)\n",
      "Requirement already satisfied: scipy>=1.7.0 in ./venv/lib/python3.10/site-packages (from bambi) (1.9.3)\n",
      "Requirement already satisfied: numpy<1.22.0,>=1.16.1 in ./venv/lib/python3.10/site-packages (from bambi) (1.21.6)\n",
      "Requirement already satisfied: pymc>=4.0.0 in ./venv/lib/python3.10/site-packages (from bambi) (4.4.0)\n",
      "Requirement already satisfied: pandas>=1.0.0 in ./venv/lib/python3.10/site-packages (from bambi) (1.5.2)\n",
      "Requirement already satisfied: setuptools>47.1.0 in ./venv/lib/python3.10/site-packages (from bambi) (63.2.0)\n",
      "Requirement already satisfied: formulae==0.3.4 in ./venv/lib/python3.10/site-packages (from bambi) (0.3.4)\n",
      "Requirement already satisfied: arviz>=0.11.2 in ./venv/lib/python3.10/site-packages (from bambi) (0.14.0)\n",
      "Requirement already satisfied: packaging in ./venv/lib/python3.10/site-packages (from arviz>=0.11.2->bambi) (21.3)\n",
      "Requirement already satisfied: typing-extensions>=4.1.0 in ./venv/lib/python3.10/site-packages (from arviz>=0.11.2->bambi) (4.4.0)\n",
      "Requirement already satisfied: netcdf4 in ./venv/lib/python3.10/site-packages (from arviz>=0.11.2->bambi) (1.6.2)\n",
      "Requirement already satisfied: xarray-einstats>=0.3 in ./venv/lib/python3.10/site-packages (from arviz>=0.11.2->bambi) (0.3.0)\n",
      "Requirement already satisfied: xarray>=0.21.0 in ./venv/lib/python3.10/site-packages (from arviz>=0.11.2->bambi) (2022.12.0)\n",
      "Requirement already satisfied: matplotlib>=3.5 in ./venv/lib/python3.10/site-packages (from arviz>=0.11.2->bambi) (3.6.2)\n",
      "Requirement already satisfied: python-dateutil>=2.8.1 in ./venv/lib/python3.10/site-packages (from pandas>=1.0.0->bambi) (2.8.2)\n",
      "Requirement already satisfied: pytz>=2020.1 in ./venv/lib/python3.10/site-packages (from pandas>=1.0.0->bambi) (2022.6)\n",
      "Requirement already satisfied: aesara==2.8.7 in ./venv/lib/python3.10/site-packages (from pymc>=4.0.0->bambi) (2.8.7)\n",
      "Requirement already satisfied: fastprogress>=0.2.0 in ./venv/lib/python3.10/site-packages (from pymc>=4.0.0->bambi) (1.0.3)\n",
      "Requirement already satisfied: cachetools>=4.2.1 in ./venv/lib/python3.10/site-packages (from pymc>=4.0.0->bambi) (5.2.0)\n",
      "Requirement already satisfied: cloudpickle in ./venv/lib/python3.10/site-packages (from pymc>=4.0.0->bambi) (2.2.0)\n",
      "Requirement already satisfied: aeppl==0.0.38 in ./venv/lib/python3.10/site-packages (from pymc>=4.0.0->bambi) (0.0.38)\n",
      "Requirement already satisfied: etuples in ./venv/lib/python3.10/site-packages (from aesara==2.8.7->pymc>=4.0.0->bambi) (0.3.8)\n",
      "Requirement already satisfied: logical-unification in ./venv/lib/python3.10/site-packages (from aesara==2.8.7->pymc>=4.0.0->bambi) (0.4.5)\n",
      "Requirement already satisfied: cons in ./venv/lib/python3.10/site-packages (from aesara==2.8.7->pymc>=4.0.0->bambi) (0.4.5)\n",
      "Requirement already satisfied: filelock in ./venv/lib/python3.10/site-packages (from aesara==2.8.7->pymc>=4.0.0->bambi) (3.8.0)\n",
      "Requirement already satisfied: miniKanren in ./venv/lib/python3.10/site-packages (from aesara==2.8.7->pymc>=4.0.0->bambi) (1.0.3)\n",
      "Requirement already satisfied: contourpy>=1.0.1 in ./venv/lib/python3.10/site-packages (from matplotlib>=3.5->arviz>=0.11.2->bambi) (1.0.6)\n",
      "Requirement already satisfied: fonttools>=4.22.0 in ./venv/lib/python3.10/site-packages (from matplotlib>=3.5->arviz>=0.11.2->bambi) (4.38.0)\n",
      "Requirement already satisfied: kiwisolver>=1.0.1 in ./venv/lib/python3.10/site-packages (from matplotlib>=3.5->arviz>=0.11.2->bambi) (1.4.4)\n",
      "Requirement already satisfied: pyparsing>=2.2.1 in ./venv/lib/python3.10/site-packages (from matplotlib>=3.5->arviz>=0.11.2->bambi) (3.0.9)\n",
      "Requirement already satisfied: cycler>=0.10 in ./venv/lib/python3.10/site-packages (from matplotlib>=3.5->arviz>=0.11.2->bambi) (0.11.0)\n",
      "Requirement already satisfied: pillow>=6.2.0 in ./venv/lib/python3.10/site-packages (from matplotlib>=3.5->arviz>=0.11.2->bambi) (9.3.0)\n",
      "Requirement already satisfied: six>=1.5 in ./venv/lib/python3.10/site-packages (from python-dateutil>=2.8.1->pandas>=1.0.0->bambi) (1.16.0)\n",
      "Requirement already satisfied: cftime in ./venv/lib/python3.10/site-packages (from netcdf4->arviz>=0.11.2->bambi) (1.6.2)\n",
      "Requirement already satisfied: multipledispatch in ./venv/lib/python3.10/site-packages (from logical-unification->aesara==2.8.7->pymc>=4.0.0->bambi) (0.6.0)\n",
      "Requirement already satisfied: toolz in ./venv/lib/python3.10/site-packages (from logical-unification->aesara==2.8.7->pymc>=4.0.0->bambi) (0.12.0)\n",
      "\n",
      "\u001b[1m[\u001b[0m\u001b[34;49mnotice\u001b[0m\u001b[1;39;49m]\u001b[0m\u001b[39;49m A new release of pip available: \u001b[0m\u001b[31;49m22.2.2\u001b[0m\u001b[39;49m -> \u001b[0m\u001b[32;49m22.3.1\u001b[0m\n",
      "\u001b[1m[\u001b[0m\u001b[34;49mnotice\u001b[0m\u001b[1;39;49m]\u001b[0m\u001b[39;49m To update, run: \u001b[0m\u001b[32;49mpip install --upgrade pip\u001b[0m\n",
      "Requirement already satisfied: pyreadline in ./venv/lib/python3.10/site-packages (2.1)\n",
      "\n",
      "\u001b[1m[\u001b[0m\u001b[34;49mnotice\u001b[0m\u001b[1;39;49m]\u001b[0m\u001b[39;49m A new release of pip available: \u001b[0m\u001b[31;49m22.2.2\u001b[0m\u001b[39;49m -> \u001b[0m\u001b[32;49m22.3.1\u001b[0m\n",
      "\u001b[1m[\u001b[0m\u001b[34;49mnotice\u001b[0m\u001b[1;39;49m]\u001b[0m\u001b[39;49m To update, run: \u001b[0m\u001b[32;49mpip install --upgrade pip\u001b[0m\n"
     ]
    }
   ],
   "source": [
    "! pip install numpy\n",
    "! pip install networkx\n",
    "! pip install pgmpy\n",
    "! pip install ipdb\n",
    "! pip install yfinance\n",
    "! pip install matplotlib\n",
    "! pip install arviz\n",
    "! pip install pymc\n",
    "! pip install bambi\n",
    "! pip install pyreadline\n"
   ]
  },
  {
   "cell_type": "code",
   "execution_count": 1,
   "id": "91da8540",
   "metadata": {},
   "outputs": [],
   "source": [
    "import networkx\n",
    "import pickle\n",
    "import numpy as np\n",
    "from stocks import Stocks, Ticker\n",
    "import arviz as az\n",
    "import pandas as pd\n",
    "import matplotlib.pyplot as plt\n",
    "import numpy as np\n",
    "import pymc as pm\n",
    "import pickle\n",
    "import matplotlib.pyplot as plt\n",
    "from pprint import pprint\n",
    "from stocks import Stocks, Ticker\n",
    "import bambi as bmb\n",
    "import xarray as xr\n",
    "from StockEngine import StockEngine\n",
    "from tqdm import tqdm\n",
    "\n",
    "%config IPCompleter.greedy=True\n"
   ]
  },
  {
   "cell_type": "code",
   "execution_count": 2,
   "id": "58959411",
   "metadata": {},
   "outputs": [
    {
     "name": "stdout",
     "output_type": "stream",
     "text": [
      "['CTSH', 'CI', 'CMS', 'ROST', 'JNJ', 'PFG', 'PAYX', 'AON', 'FIS', 'DXC', 'ROK', 'AMZN', 'ISRG', 'PNR', 'GWW', 'LNT', 'CE', 'NKE', 'MCO', 'AEP', 'TPR', 'UNH', 'NVR', 'XEL', 'TTWO', 'CMG', 'GIS', 'WST', 'CAT', 'XRAY', 'ANSS', 'QCOM', 'INTC', 'LIN', 'MU', 'GPC', 'ITW', 'EL', 'DXCM', 'COO', 'PKG', 'AMD', 'ETN', 'MHK', 'IEX', 'HON', 'MKC', 'MO', 'BIO', 'DIS', 'NFLX', 'RL', 'CSX', 'T', 'WM', 'TER', 'CRL', 'CL', 'JKHY', 'USB', 'COF', 'TFC', 'GS', 'AVB', 'UDR', 'ESS', 'HIG', 'PEAK', 'SYY', 'WAT', 'BWA', 'NEE', 'PPL', 'LLY', 'INCY', 'LVS', 'COST', 'XOM', 'SLB', 'DVN', 'WMB', 'PXD', 'EOG', 'PSA', 'TSCO', 'TAP']\n",
      "{'CTSH': 0, 'CI': 1, 'CMS': 2, 'ROST': 3, 'JNJ': 4, 'PFG': 5, 'PAYX': 6, 'AON': 7, 'FIS': 8, 'DXC': 9, 'ROK': 10, 'AMZN': 11, 'ISRG': 12, 'PNR': 13, 'GWW': 14, 'LNT': 15, 'CE': 16, 'NKE': 17, 'MCO': 18, 'AEP': 19, 'TPR': 20, 'UNH': 21, 'NVR': 22, 'XEL': 23, 'TTWO': 24, 'CMG': 25, 'GIS': 26, 'WST': 27, 'CAT': 28, 'XRAY': 29, 'ANSS': 30, 'QCOM': 31, 'INTC': 32, 'LIN': 33, 'MU': 34, 'GPC': 35, 'ITW': 36, 'EL': 37, 'DXCM': 38, 'COO': 39, 'PKG': 40, 'AMD': 41, 'ETN': 42, 'MHK': 43, 'IEX': 44, 'HON': 45, 'MKC': 46, 'MO': 47, 'BIO': 48, 'DIS': 49, 'NFLX': 50, 'RL': 51, 'CSX': 52, 'T': 53, 'WM': 54, 'TER': 55, 'CRL': 56, 'CL': 57, 'JKHY': 58, 'USB': 59, 'COF': 60, 'TFC': 61, 'GS': 62, 'AVB': 63, 'UDR': 64, 'ESS': 65, 'HIG': 66, 'PEAK': 67, 'SYY': 68, 'WAT': 69, 'BWA': 70, 'NEE': 71, 'PPL': 72, 'LLY': 73, 'INCY': 74, 'LVS': 75, 'COST': 76, 'XOM': 77, 'SLB': 78, 'DVN': 79, 'WMB': 80, 'PXD': 81, 'EOG': 82, 'PSA': 83, 'TSCO': 84, 'TAP': 85}\n",
      "[*********************100%***********************]  86 of 86 completed\n"
     ]
    },
    {
     "name": "stderr",
     "output_type": "stream",
     "text": [
      "100%|███████████████████████████████████████████████████████████████| 86/86 [00:00<00:00, 508.64it/s]\n"
     ]
    }
   ],
   "source": [
    "with open(\"adj_mat.pkl\", \"rb\") as f:\n",
    "    G = pickle.load(f)\n",
    "    \n",
    "G.remove_node('DVA')\n",
    "G.remove_node('ULTA')\n",
    "\n",
    "tickers = list(G.nodes())\n",
    "\n",
    "# UNCOMMENT IN FUTURE\n",
    "# tickers = tickers[:5]\n",
    "\n",
    "ticker_to_index = {}\n",
    "for i, ticker in enumerate(tickers):\n",
    "    ticker_to_index[ticker] = i\n",
    "print(tickers)\n",
    "print(ticker_to_index)\n",
    "num_tickers = len(tickers)\n",
    "corr_len = num_tickers * (num_tickers - 1) // 2\n",
    "\n",
    "start_date = \"2010-01-01\"\n",
    "end_date = \"2021-01-01\"\n",
    "\n",
    "engine = StockEngine(tickers, start_date=start_date, end_date=end_date)"
   ]
  },
  {
   "cell_type": "code",
   "execution_count": 9,
   "id": "fec5f21e",
   "metadata": {},
   "outputs": [],
   "source": [
    "x_models = {}\n",
    "x_model_pairs = []\n",
    "\n",
    "# for ticker in tickers:\n",
    "#     rv_models[ticker] = model\n",
    "\n",
    "for i in range(len(tickers)):\n",
    "    for j in range(i + 1, len(tickers)):\n",
    "        ticker_i = tickers[i]\n",
    "        ticker_j = tickers[j]\n",
    "        model = pm.Model()\n",
    "        model = pm.Model(name=f\"x_{ticker_i}_{ticker_j}\")\n",
    "        if ticker_i not in x_models:\n",
    "            x_models[ticker_i] = {}\n",
    "            \n",
    "        x_models[ticker_i][ticker_j] = model\n",
    "        x_model_pairs.append((ticker_i, ticker_j))"
   ]
  },
  {
   "cell_type": "code",
   "execution_count": 10,
   "id": "73e8e21b",
   "metadata": {},
   "outputs": [],
   "source": [
    "import datetime\n",
    "\n",
    "num_prev_trading_days = 126\n",
    "months_to_evaluate = 12 * 10 # * 10\n",
    "evaluation_year_month_start = \"2018-01\""
   ]
  },
  {
   "cell_type": "code",
   "execution_count": 11,
   "id": "33a72739",
   "metadata": {},
   "outputs": [],
   "source": [
    "num_draws = 500\n",
    "num_tune = 200\n",
    "num_chains = 1"
   ]
  },
  {
   "cell_type": "code",
   "execution_count": 12,
   "id": "adfb3bd5",
   "metadata": {},
   "outputs": [],
   "source": [
    "import ipdb\n",
    "\n",
    "def train_volatilities(ticker, rv_observed, rv_day, rv_week, rv_month):\n",
    "#     model = pm.Model(name=f\"rv_{ticker}\")\n",
    "    model = pm.Model()\n",
    "    with model:\n",
    "        neighbors = list(G.adj[ticker].keys())\n",
    "        num_neighbors_and_self = len(neighbors) + 1\n",
    "        sigma = pm.HalfCauchy(\"sigma\", beta=3)\n",
    "        alpha = pm.HalfNormal(\"alpha\", sigma=1)\n",
    "#         alpha = pm.HalfNormal(\"alpha\", mu=0, sigma=1)\n",
    "        \n",
    "        # Take self to be the first\n",
    "        betas_day = pm.HalfNormal(\"betas_day\", sigma=1, shape=num_neighbors_and_self)\n",
    "        betas_week = pm.HalfNormal(\"betas_week\", sigma=1, shape=num_neighbors_and_self)\n",
    "        betas_month = pm.HalfNormal(\"betas_month\", sigma=1, shape=num_neighbors_and_self)\n",
    "#         betas_day = pm.HalfNormal(\"betas_day\", mu=1/3, sigma=1, shape=num_neighbors_and_self)\n",
    "#         betas_week = pm.HalfNormal(\"betas_week\", mu=1/3, sigma=1, shape=num_neighbors_and_self)\n",
    "#         betas_month = pm.HalfNormal(\"betas_month\", mu=1/3, sigma=1, shape=num_neighbors_and_self)\n",
    "    \n",
    "        # Add myself\n",
    "        ticker_index = ticker_to_index[ticker]\n",
    "        pred = betas_day[0] * rv_day[:, ticker_index]\n",
    "        pred += betas_week[0] * rv_week[:, ticker_index]\n",
    "        pred += betas_month[0] * rv_month[:, ticker_index]\n",
    "        \n",
    "        pred += alpha\n",
    "        \n",
    "        for i, neighbor_ticker in enumerate(neighbors):\n",
    "            neighbor_ticker_index = ticker_to_index[neighbor_ticker]\n",
    "            pred += betas_day[i+1] * rv_day[:, neighbor_ticker_index]\n",
    "            pred += betas_week[i+1] * rv_week[:, neighbor_ticker_index]\n",
    "            pred += betas_month[i+1] * rv_month[:, neighbor_ticker_index]\n",
    "            \n",
    "        likelihood = pm.Normal(f\"predicted_RV_{ticker}\", mu = pred, sigma=sigma, observed=rv_observed[:, ticker_index])\n",
    "        \n",
    "        idata = pm.sample(draws=num_draws, tune=num_tune, chains=num_chains)\n",
    "        \n",
    "        return idata"
   ]
  },
  {
   "cell_type": "code",
   "execution_count": 13,
   "id": "3ef12ecc",
   "metadata": {},
   "outputs": [],
   "source": [
    "def convert_to_lower_triangular(A, dimension):\n",
    "    C = np.zeros((A.shape[0], dimension, dimension))\n",
    "    B = np.zeros((dimension, dimension))\n",
    "    idx = np.tril_indices_from(B, -1)\n",
    "    \n",
    "    for i in range(len(A)):\n",
    "        C[i][idx] = A[i]\n",
    "    return C"
   ]
  },
  {
   "cell_type": "code",
   "execution_count": 14,
   "id": "aeef866c",
   "metadata": {},
   "outputs": [],
   "source": [
    "def train_correlations_distinct_coeff(ticker_1, ticker_2, x_observed, x_day, x_week, x_month):\n",
    "    # model = pm.Model(name=f\"rv_{ticker}\")\n",
    "    model = pm.Model()\n",
    "    \n",
    "    x_observed_mat = convert_to_lower_triangular(x_observed, num_tickers)\n",
    "    x_day_mat = convert_to_lower_triangular(x_day, num_tickers)\n",
    "    x_week_mat = convert_to_lower_triangular(x_week, num_tickers)\n",
    "    x_month_mat = convert_to_lower_triangular(x_month, num_tickers)\n",
    "    \n",
    "    with model:\n",
    "        sigma = pm.HalfCauchy(\"sigma\", beta=3)\n",
    "        alpha = pm.Normal(\"alpha\", mu=0, sigma=1)\n",
    "        \n",
    "        betas_day = pm.Normal(\"betas_day\", mu=1/3, sigma=1)\n",
    "        betas_week = pm.Normal(\"betas_week\", mu=1/3, sigma=1)\n",
    "        betas_month = pm.Normal(\"betas_month\", mu=1/3, sigma=1)\n",
    "    \n",
    "        ticker_1_index = ticker_to_index[ticker_1]\n",
    "        ticker_2_index = ticker_to_index[ticker_2]\n",
    "        pred = betas_day * x_day_mat[:, ticker_1_index, ticker_2_index]\n",
    "        pred += betas_week * x_week_mat[:, ticker_1_index, ticker_2_index]\n",
    "        pred += betas_month * x_month_mat[:, ticker_1_index, ticker_2_index]\n",
    "        \n",
    "        pred += alpha\n",
    "        \n",
    "        likelihood = pm.Normal(f\"predicted_corr_{ticker}\", mu = pred, sigma=sigma, observed=x_observed_mat[:, ticker_1_index, ticker_2_index])\n",
    "        \n",
    "        idata = pm.sample(draws=num_draws, tune=num_tune, chains=num_chains)\n",
    "        \n",
    "        return idata\n",
    "    \n",
    "    \n",
    "def train_correlations_shared_coeff(x_observed, x_day, x_week, x_month):\n",
    "    model = pm.Model()\n",
    "    \n",
    "    with model:\n",
    "        sigma = pm.HalfCauchy(\"sigma\", beta=3)\n",
    "        alpha = pm.Normal(\"alpha\", mu=0, sigma=1)\n",
    "        \n",
    "        betas_day = pm.Normal(\"betas_day\", mu=1/3, sigma=1)\n",
    "        betas_week = pm.Normal(\"betas_week\", mu=1/3, sigma=1)\n",
    "        betas_month = pm.Normal(\"betas_month\", mu=1/3, sigma=1)\n",
    "    \n",
    "        pred = alpha\n",
    "        pred += betas_day * x_day\n",
    "        pred += betas_week * x_week\n",
    "        pred += betas_month * x_month\n",
    "        \n",
    "        likelihood = pm.Normal(f\"predicted_corr_{ticker}\", mu = pred, sigma=sigma, observed=x_observed)\n",
    "        \n",
    "        idata = pm.sample(draws=num_draws, tune=num_tune, chains=num_chains)\n",
    "        \n",
    "        return idata"
   ]
  },
  {
   "cell_type": "code",
   "execution_count": 15,
   "id": "399598c7",
   "metadata": {},
   "outputs": [],
   "source": [
    "def predictions_vol_file(tday):\n",
    "    return f\"predictions/{tday}_vol.pkl\"\n",
    "\n",
    "def predictions_corr_file(tday):\n",
    "    return f\"predictions/{tday}_corr.pkl\""
   ]
  },
  {
   "cell_type": "code",
   "execution_count": null,
   "id": "9b5512a4",
   "metadata": {
    "scrolled": true
   },
   "outputs": [
    {
     "name": "stdout",
     "output_type": "stream",
     "text": [
      "Months to evaluate:  120\n"
     ]
    },
    {
     "name": "stderr",
     "output_type": "stream",
     "text": [
      "\r",
      "  0%|                                                                        | 0/120 [00:00<?, ?it/s]"
     ]
    },
    {
     "name": "stdout",
     "output_type": "stream",
     "text": [
      "Evaluating for 2018-01-02\n"
     ]
    },
    {
     "name": "stderr",
     "output_type": "stream",
     "text": [
      "Auto-assigning NUTS sampler...\n",
      "Initializing NUTS using jitter+adapt_diag...\n",
      "Sequential sampling (1 chains in 1 job)\n",
      "NUTS: [sigma, alpha, betas_day, betas_week, betas_month]\n"
     ]
    },
    {
     "data": {
      "text/html": [
       "\n",
       "<style>\n",
       "    /* Turns off some styling */\n",
       "    progress {\n",
       "        /* gets rid of default border in Firefox and Opera. */\n",
       "        border: none;\n",
       "        /* Needs to be in here for Safari polyfill so background images work as expected. */\n",
       "        background-size: auto;\n",
       "    }\n",
       "    progress:not([value]), progress:not([value])::-webkit-progress-bar {\n",
       "        background: repeating-linear-gradient(45deg, #7e7e7e, #7e7e7e 10px, #5c5c5c 10px, #5c5c5c 20px);\n",
       "    }\n",
       "    .progress-bar-interrupted, .progress-bar-interrupted::-webkit-progress-bar {\n",
       "        background: #F44336;\n",
       "    }\n",
       "</style>\n"
      ],
      "text/plain": [
       "<IPython.core.display.HTML object>"
      ]
     },
     "metadata": {},
     "output_type": "display_data"
    },
    {
     "data": {
      "text/html": [
       "\n",
       "    <div>\n",
       "      <progress value='700' class='' max='700' style='width:300px; height:20px; vertical-align: middle;'></progress>\n",
       "      100.00% [700/700 02:01&lt;00:00 Sampling chain 0, 0 divergences]\n",
       "    </div>\n",
       "    "
      ],
      "text/plain": [
       "<IPython.core.display.HTML object>"
      ]
     },
     "metadata": {},
     "output_type": "display_data"
    },
    {
     "name": "stderr",
     "output_type": "stream",
     "text": [
      "Sampling 1 chain for 200 tune and 500 draw iterations (200 + 500 draws total) took 122 seconds.\n",
      "/home/fanpu/Documents/carnegie-mellon/10708/10-708-project/venv/lib/python3.10/site-packages/arviz/data/base.py:221: UserWarning: More chains (500) than draws (1). Passed array should have shape (chains, draws, *shape)\n",
      "  warnings.warn(\n",
      "\n",
      "  0%|                                                                         | 0/86 [00:00<?, ?it/s]\u001b[A"
     ]
    },
    {
     "name": "stdout",
     "output_type": "stream",
     "text": [
      "[Vol] CTSH\n"
     ]
    },
    {
     "name": "stderr",
     "output_type": "stream",
     "text": [
      "Auto-assigning NUTS sampler...\n",
      "Initializing NUTS using jitter+adapt_diag...\n",
      "Sequential sampling (1 chains in 1 job)\n",
      "NUTS: [sigma, alpha, betas_day, betas_week, betas_month]\n"
     ]
    },
    {
     "data": {
      "text/html": [
       "\n",
       "<style>\n",
       "    /* Turns off some styling */\n",
       "    progress {\n",
       "        /* gets rid of default border in Firefox and Opera. */\n",
       "        border: none;\n",
       "        /* Needs to be in here for Safari polyfill so background images work as expected. */\n",
       "        background-size: auto;\n",
       "    }\n",
       "    progress:not([value]), progress:not([value])::-webkit-progress-bar {\n",
       "        background: repeating-linear-gradient(45deg, #7e7e7e, #7e7e7e 10px, #5c5c5c 10px, #5c5c5c 20px);\n",
       "    }\n",
       "    .progress-bar-interrupted, .progress-bar-interrupted::-webkit-progress-bar {\n",
       "        background: #F44336;\n",
       "    }\n",
       "</style>\n"
      ],
      "text/plain": [
       "<IPython.core.display.HTML object>"
      ]
     },
     "metadata": {},
     "output_type": "display_data"
    },
    {
     "data": {
      "text/html": [
       "\n",
       "    <div>\n",
       "      <progress value='700' class='' max='700' style='width:300px; height:20px; vertical-align: middle;'></progress>\n",
       "      100.00% [700/700 00:11&lt;00:00 Sampling chain 0, 0 divergences]\n",
       "    </div>\n",
       "    "
      ],
      "text/plain": [
       "<IPython.core.display.HTML object>"
      ]
     },
     "metadata": {},
     "output_type": "display_data"
    },
    {
     "name": "stderr",
     "output_type": "stream",
     "text": [
      "Sampling 1 chain for 200 tune and 500 draw iterations (200 + 500 draws total) took 12 seconds.\n",
      "/home/fanpu/Documents/carnegie-mellon/10708/10-708-project/venv/lib/python3.10/site-packages/arviz/data/base.py:221: UserWarning: More chains (500) than draws (1). Passed array should have shape (chains, draws, *shape)\n",
      "  warnings.warn(\n",
      "\n",
      "  1%|▋                                                              | 1/86 [01:05<1:32:22, 65.21s/it]\u001b[A"
     ]
    },
    {
     "name": "stdout",
     "output_type": "stream",
     "text": [
      "[Vol] CI\n"
     ]
    },
    {
     "name": "stderr",
     "output_type": "stream",
     "text": [
      "Auto-assigning NUTS sampler...\n",
      "Initializing NUTS using jitter+adapt_diag...\n",
      "Sequential sampling (1 chains in 1 job)\n",
      "NUTS: [sigma, alpha, betas_day, betas_week, betas_month]\n"
     ]
    },
    {
     "data": {
      "text/html": [
       "\n",
       "<style>\n",
       "    /* Turns off some styling */\n",
       "    progress {\n",
       "        /* gets rid of default border in Firefox and Opera. */\n",
       "        border: none;\n",
       "        /* Needs to be in here for Safari polyfill so background images work as expected. */\n",
       "        background-size: auto;\n",
       "    }\n",
       "    progress:not([value]), progress:not([value])::-webkit-progress-bar {\n",
       "        background: repeating-linear-gradient(45deg, #7e7e7e, #7e7e7e 10px, #5c5c5c 10px, #5c5c5c 20px);\n",
       "    }\n",
       "    .progress-bar-interrupted, .progress-bar-interrupted::-webkit-progress-bar {\n",
       "        background: #F44336;\n",
       "    }\n",
       "</style>\n"
      ],
      "text/plain": [
       "<IPython.core.display.HTML object>"
      ]
     },
     "metadata": {},
     "output_type": "display_data"
    },
    {
     "data": {
      "text/html": [
       "\n",
       "    <div>\n",
       "      <progress value='700' class='' max='700' style='width:300px; height:20px; vertical-align: middle;'></progress>\n",
       "      100.00% [700/700 00:10&lt;00:00 Sampling chain 0, 0 divergences]\n",
       "    </div>\n",
       "    "
      ],
      "text/plain": [
       "<IPython.core.display.HTML object>"
      ]
     },
     "metadata": {},
     "output_type": "display_data"
    },
    {
     "name": "stderr",
     "output_type": "stream",
     "text": [
      "Sampling 1 chain for 200 tune and 500 draw iterations (200 + 500 draws total) took 11 seconds.\n",
      "/home/fanpu/Documents/carnegie-mellon/10708/10-708-project/venv/lib/python3.10/site-packages/arviz/data/base.py:221: UserWarning: More chains (500) than draws (1). Passed array should have shape (chains, draws, *shape)\n",
      "  warnings.warn(\n",
      "\n",
      "  2%|█▌                                                               | 2/86 [01:28<56:29, 40.36s/it]\u001b[A"
     ]
    },
    {
     "name": "stdout",
     "output_type": "stream",
     "text": [
      "[Vol] CMS\n"
     ]
    },
    {
     "name": "stderr",
     "output_type": "stream",
     "text": [
      "Auto-assigning NUTS sampler...\n",
      "Initializing NUTS using jitter+adapt_diag...\n",
      "Sequential sampling (1 chains in 1 job)\n",
      "NUTS: [sigma, alpha, betas_day, betas_week, betas_month]\n"
     ]
    },
    {
     "data": {
      "text/html": [
       "\n",
       "<style>\n",
       "    /* Turns off some styling */\n",
       "    progress {\n",
       "        /* gets rid of default border in Firefox and Opera. */\n",
       "        border: none;\n",
       "        /* Needs to be in here for Safari polyfill so background images work as expected. */\n",
       "        background-size: auto;\n",
       "    }\n",
       "    progress:not([value]), progress:not([value])::-webkit-progress-bar {\n",
       "        background: repeating-linear-gradient(45deg, #7e7e7e, #7e7e7e 10px, #5c5c5c 10px, #5c5c5c 20px);\n",
       "    }\n",
       "    .progress-bar-interrupted, .progress-bar-interrupted::-webkit-progress-bar {\n",
       "        background: #F44336;\n",
       "    }\n",
       "</style>\n"
      ],
      "text/plain": [
       "<IPython.core.display.HTML object>"
      ]
     },
     "metadata": {},
     "output_type": "display_data"
    },
    {
     "data": {
      "text/html": [
       "\n",
       "    <div>\n",
       "      <progress value='700' class='' max='700' style='width:300px; height:20px; vertical-align: middle;'></progress>\n",
       "      100.00% [700/700 00:08&lt;00:00 Sampling chain 0, 0 divergences]\n",
       "    </div>\n",
       "    "
      ],
      "text/plain": [
       "<IPython.core.display.HTML object>"
      ]
     },
     "metadata": {},
     "output_type": "display_data"
    },
    {
     "name": "stderr",
     "output_type": "stream",
     "text": [
      "Sampling 1 chain for 200 tune and 500 draw iterations (200 + 500 draws total) took 8 seconds.\n",
      "/home/fanpu/Documents/carnegie-mellon/10708/10-708-project/venv/lib/python3.10/site-packages/arviz/data/base.py:221: UserWarning: More chains (500) than draws (1). Passed array should have shape (chains, draws, *shape)\n",
      "  warnings.warn(\n",
      "\n",
      "  3%|██▎                                                              | 3/86 [01:53<46:11, 33.39s/it]\u001b[A"
     ]
    },
    {
     "name": "stdout",
     "output_type": "stream",
     "text": [
      "[Vol] ROST\n"
     ]
    },
    {
     "name": "stderr",
     "output_type": "stream",
     "text": [
      "Auto-assigning NUTS sampler...\n",
      "Initializing NUTS using jitter+adapt_diag...\n",
      "Sequential sampling (1 chains in 1 job)\n",
      "NUTS: [sigma, alpha, betas_day, betas_week, betas_month]\n"
     ]
    },
    {
     "data": {
      "text/html": [
       "\n",
       "<style>\n",
       "    /* Turns off some styling */\n",
       "    progress {\n",
       "        /* gets rid of default border in Firefox and Opera. */\n",
       "        border: none;\n",
       "        /* Needs to be in here for Safari polyfill so background images work as expected. */\n",
       "        background-size: auto;\n",
       "    }\n",
       "    progress:not([value]), progress:not([value])::-webkit-progress-bar {\n",
       "        background: repeating-linear-gradient(45deg, #7e7e7e, #7e7e7e 10px, #5c5c5c 10px, #5c5c5c 20px);\n",
       "    }\n",
       "    .progress-bar-interrupted, .progress-bar-interrupted::-webkit-progress-bar {\n",
       "        background: #F44336;\n",
       "    }\n",
       "</style>\n"
      ],
      "text/plain": [
       "<IPython.core.display.HTML object>"
      ]
     },
     "metadata": {},
     "output_type": "display_data"
    },
    {
     "data": {
      "text/html": [
       "\n",
       "    <div>\n",
       "      <progress value='700' class='' max='700' style='width:300px; height:20px; vertical-align: middle;'></progress>\n",
       "      100.00% [700/700 00:09&lt;00:00 Sampling chain 0, 0 divergences]\n",
       "    </div>\n",
       "    "
      ],
      "text/plain": [
       "<IPython.core.display.HTML object>"
      ]
     },
     "metadata": {},
     "output_type": "display_data"
    },
    {
     "name": "stderr",
     "output_type": "stream",
     "text": [
      "Sampling 1 chain for 200 tune and 500 draw iterations (200 + 500 draws total) took 10 seconds.\n",
      "/home/fanpu/Documents/carnegie-mellon/10708/10-708-project/venv/lib/python3.10/site-packages/arviz/data/base.py:221: UserWarning: More chains (500) than draws (1). Passed array should have shape (chains, draws, *shape)\n",
      "  warnings.warn(\n",
      "\n",
      "  5%|███                                                              | 4/86 [02:15<39:32, 28.93s/it]\u001b[A"
     ]
    },
    {
     "name": "stdout",
     "output_type": "stream",
     "text": [
      "[Vol] JNJ\n"
     ]
    },
    {
     "name": "stderr",
     "output_type": "stream",
     "text": [
      "Auto-assigning NUTS sampler...\n",
      "Initializing NUTS using jitter+adapt_diag...\n",
      "Sequential sampling (1 chains in 1 job)\n",
      "NUTS: [sigma, alpha, betas_day, betas_week, betas_month]\n"
     ]
    },
    {
     "data": {
      "text/html": [
       "\n",
       "<style>\n",
       "    /* Turns off some styling */\n",
       "    progress {\n",
       "        /* gets rid of default border in Firefox and Opera. */\n",
       "        border: none;\n",
       "        /* Needs to be in here for Safari polyfill so background images work as expected. */\n",
       "        background-size: auto;\n",
       "    }\n",
       "    progress:not([value]), progress:not([value])::-webkit-progress-bar {\n",
       "        background: repeating-linear-gradient(45deg, #7e7e7e, #7e7e7e 10px, #5c5c5c 10px, #5c5c5c 20px);\n",
       "    }\n",
       "    .progress-bar-interrupted, .progress-bar-interrupted::-webkit-progress-bar {\n",
       "        background: #F44336;\n",
       "    }\n",
       "</style>\n"
      ],
      "text/plain": [
       "<IPython.core.display.HTML object>"
      ]
     },
     "metadata": {},
     "output_type": "display_data"
    },
    {
     "data": {
      "text/html": [
       "\n",
       "    <div>\n",
       "      <progress value='700' class='' max='700' style='width:300px; height:20px; vertical-align: middle;'></progress>\n",
       "      100.00% [700/700 00:11&lt;00:00 Sampling chain 0, 0 divergences]\n",
       "    </div>\n",
       "    "
      ],
      "text/plain": [
       "<IPython.core.display.HTML object>"
      ]
     },
     "metadata": {},
     "output_type": "display_data"
    },
    {
     "name": "stderr",
     "output_type": "stream",
     "text": [
      "Sampling 1 chain for 200 tune and 500 draw iterations (200 + 500 draws total) took 12 seconds.\n",
      "/home/fanpu/Documents/carnegie-mellon/10708/10-708-project/venv/lib/python3.10/site-packages/arviz/data/base.py:221: UserWarning: More chains (500) than draws (1). Passed array should have shape (chains, draws, *shape)\n",
      "  warnings.warn(\n",
      "\n",
      "  6%|███▊                                                             | 5/86 [02:48<41:04, 30.42s/it]\u001b[A"
     ]
    },
    {
     "name": "stdout",
     "output_type": "stream",
     "text": [
      "[Vol] PFG\n"
     ]
    },
    {
     "name": "stderr",
     "output_type": "stream",
     "text": [
      "Auto-assigning NUTS sampler...\n",
      "Initializing NUTS using jitter+adapt_diag...\n",
      "Sequential sampling (1 chains in 1 job)\n",
      "NUTS: [sigma, alpha, betas_day, betas_week, betas_month]\n"
     ]
    },
    {
     "data": {
      "text/html": [
       "\n",
       "<style>\n",
       "    /* Turns off some styling */\n",
       "    progress {\n",
       "        /* gets rid of default border in Firefox and Opera. */\n",
       "        border: none;\n",
       "        /* Needs to be in here for Safari polyfill so background images work as expected. */\n",
       "        background-size: auto;\n",
       "    }\n",
       "    progress:not([value]), progress:not([value])::-webkit-progress-bar {\n",
       "        background: repeating-linear-gradient(45deg, #7e7e7e, #7e7e7e 10px, #5c5c5c 10px, #5c5c5c 20px);\n",
       "    }\n",
       "    .progress-bar-interrupted, .progress-bar-interrupted::-webkit-progress-bar {\n",
       "        background: #F44336;\n",
       "    }\n",
       "</style>\n"
      ],
      "text/plain": [
       "<IPython.core.display.HTML object>"
      ]
     },
     "metadata": {},
     "output_type": "display_data"
    },
    {
     "data": {
      "text/html": [
       "\n",
       "    <div>\n",
       "      <progress value='700' class='' max='700' style='width:300px; height:20px; vertical-align: middle;'></progress>\n",
       "      100.00% [700/700 00:09&lt;00:00 Sampling chain 0, 0 divergences]\n",
       "    </div>\n",
       "    "
      ],
      "text/plain": [
       "<IPython.core.display.HTML object>"
      ]
     },
     "metadata": {},
     "output_type": "display_data"
    },
    {
     "name": "stderr",
     "output_type": "stream",
     "text": [
      "Sampling 1 chain for 200 tune and 500 draw iterations (200 + 500 draws total) took 9 seconds.\n",
      "/home/fanpu/Documents/carnegie-mellon/10708/10-708-project/venv/lib/python3.10/site-packages/arviz/data/base.py:221: UserWarning: More chains (500) than draws (1). Passed array should have shape (chains, draws, *shape)\n",
      "  warnings.warn(\n",
      "\n",
      "  7%|████▌                                                            | 6/86 [03:14<38:22, 28.78s/it]\u001b[A"
     ]
    },
    {
     "name": "stdout",
     "output_type": "stream",
     "text": [
      "[Vol] PAYX\n"
     ]
    },
    {
     "name": "stderr",
     "output_type": "stream",
     "text": [
      "Auto-assigning NUTS sampler...\n",
      "Initializing NUTS using jitter+adapt_diag...\n",
      "Sequential sampling (1 chains in 1 job)\n",
      "NUTS: [sigma, alpha, betas_day, betas_week, betas_month]\n"
     ]
    },
    {
     "data": {
      "text/html": [
       "\n",
       "<style>\n",
       "    /* Turns off some styling */\n",
       "    progress {\n",
       "        /* gets rid of default border in Firefox and Opera. */\n",
       "        border: none;\n",
       "        /* Needs to be in here for Safari polyfill so background images work as expected. */\n",
       "        background-size: auto;\n",
       "    }\n",
       "    progress:not([value]), progress:not([value])::-webkit-progress-bar {\n",
       "        background: repeating-linear-gradient(45deg, #7e7e7e, #7e7e7e 10px, #5c5c5c 10px, #5c5c5c 20px);\n",
       "    }\n",
       "    .progress-bar-interrupted, .progress-bar-interrupted::-webkit-progress-bar {\n",
       "        background: #F44336;\n",
       "    }\n",
       "</style>\n"
      ],
      "text/plain": [
       "<IPython.core.display.HTML object>"
      ]
     },
     "metadata": {},
     "output_type": "display_data"
    },
    {
     "data": {
      "text/html": [
       "\n",
       "    <div>\n",
       "      <progress value='700' class='' max='700' style='width:300px; height:20px; vertical-align: middle;'></progress>\n",
       "      100.00% [700/700 00:11&lt;00:00 Sampling chain 0, 0 divergences]\n",
       "    </div>\n",
       "    "
      ],
      "text/plain": [
       "<IPython.core.display.HTML object>"
      ]
     },
     "metadata": {},
     "output_type": "display_data"
    },
    {
     "name": "stderr",
     "output_type": "stream",
     "text": [
      "Sampling 1 chain for 200 tune and 500 draw iterations (200 + 500 draws total) took 12 seconds.\n",
      "/home/fanpu/Documents/carnegie-mellon/10708/10-708-project/venv/lib/python3.10/site-packages/arviz/data/base.py:221: UserWarning: More chains (500) than draws (1). Passed array should have shape (chains, draws, *shape)\n",
      "  warnings.warn(\n",
      "\n",
      "  8%|█████▎                                                           | 7/86 [03:40<37:02, 28.13s/it]\u001b[A"
     ]
    },
    {
     "name": "stdout",
     "output_type": "stream",
     "text": [
      "[Vol] AON\n"
     ]
    },
    {
     "name": "stderr",
     "output_type": "stream",
     "text": [
      "Auto-assigning NUTS sampler...\n",
      "Initializing NUTS using jitter+adapt_diag...\n",
      "Sequential sampling (1 chains in 1 job)\n",
      "NUTS: [sigma, alpha, betas_day, betas_week, betas_month]\n"
     ]
    },
    {
     "data": {
      "text/html": [
       "\n",
       "<style>\n",
       "    /* Turns off some styling */\n",
       "    progress {\n",
       "        /* gets rid of default border in Firefox and Opera. */\n",
       "        border: none;\n",
       "        /* Needs to be in here for Safari polyfill so background images work as expected. */\n",
       "        background-size: auto;\n",
       "    }\n",
       "    progress:not([value]), progress:not([value])::-webkit-progress-bar {\n",
       "        background: repeating-linear-gradient(45deg, #7e7e7e, #7e7e7e 10px, #5c5c5c 10px, #5c5c5c 20px);\n",
       "    }\n",
       "    .progress-bar-interrupted, .progress-bar-interrupted::-webkit-progress-bar {\n",
       "        background: #F44336;\n",
       "    }\n",
       "</style>\n"
      ],
      "text/plain": [
       "<IPython.core.display.HTML object>"
      ]
     },
     "metadata": {},
     "output_type": "display_data"
    },
    {
     "data": {
      "text/html": [
       "\n",
       "    <div>\n",
       "      <progress value='700' class='' max='700' style='width:300px; height:20px; vertical-align: middle;'></progress>\n",
       "      100.00% [700/700 00:10&lt;00:00 Sampling chain 0, 0 divergences]\n",
       "    </div>\n",
       "    "
      ],
      "text/plain": [
       "<IPython.core.display.HTML object>"
      ]
     },
     "metadata": {},
     "output_type": "display_data"
    },
    {
     "name": "stderr",
     "output_type": "stream",
     "text": [
      "Sampling 1 chain for 200 tune and 500 draw iterations (200 + 500 draws total) took 11 seconds.\n",
      "/home/fanpu/Documents/carnegie-mellon/10708/10-708-project/venv/lib/python3.10/site-packages/arviz/data/base.py:221: UserWarning: More chains (500) than draws (1). Passed array should have shape (chains, draws, *shape)\n",
      "  warnings.warn(\n",
      "\n",
      "  9%|██████                                                           | 8/86 [04:02<33:49, 26.02s/it]\u001b[A"
     ]
    },
    {
     "name": "stdout",
     "output_type": "stream",
     "text": [
      "[Vol] FIS\n"
     ]
    },
    {
     "name": "stderr",
     "output_type": "stream",
     "text": [
      "Auto-assigning NUTS sampler...\n",
      "Initializing NUTS using jitter+adapt_diag...\n",
      "Sequential sampling (1 chains in 1 job)\n",
      "NUTS: [sigma, alpha, betas_day, betas_week, betas_month]\n"
     ]
    },
    {
     "data": {
      "text/html": [
       "\n",
       "<style>\n",
       "    /* Turns off some styling */\n",
       "    progress {\n",
       "        /* gets rid of default border in Firefox and Opera. */\n",
       "        border: none;\n",
       "        /* Needs to be in here for Safari polyfill so background images work as expected. */\n",
       "        background-size: auto;\n",
       "    }\n",
       "    progress:not([value]), progress:not([value])::-webkit-progress-bar {\n",
       "        background: repeating-linear-gradient(45deg, #7e7e7e, #7e7e7e 10px, #5c5c5c 10px, #5c5c5c 20px);\n",
       "    }\n",
       "    .progress-bar-interrupted, .progress-bar-interrupted::-webkit-progress-bar {\n",
       "        background: #F44336;\n",
       "    }\n",
       "</style>\n"
      ],
      "text/plain": [
       "<IPython.core.display.HTML object>"
      ]
     },
     "metadata": {},
     "output_type": "display_data"
    },
    {
     "data": {
      "text/html": [
       "\n",
       "    <div>\n",
       "      <progress value='700' class='' max='700' style='width:300px; height:20px; vertical-align: middle;'></progress>\n",
       "      100.00% [700/700 00:11&lt;00:00 Sampling chain 0, 0 divergences]\n",
       "    </div>\n",
       "    "
      ],
      "text/plain": [
       "<IPython.core.display.HTML object>"
      ]
     },
     "metadata": {},
     "output_type": "display_data"
    },
    {
     "name": "stderr",
     "output_type": "stream",
     "text": [
      "Sampling 1 chain for 200 tune and 500 draw iterations (200 + 500 draws total) took 11 seconds.\n",
      "/home/fanpu/Documents/carnegie-mellon/10708/10-708-project/venv/lib/python3.10/site-packages/arviz/data/base.py:221: UserWarning: More chains (500) than draws (1). Passed array should have shape (chains, draws, *shape)\n",
      "  warnings.warn(\n",
      "\n",
      " 10%|██████▊                                                          | 9/86 [04:29<33:47, 26.34s/it]\u001b[A"
     ]
    },
    {
     "name": "stdout",
     "output_type": "stream",
     "text": [
      "[Vol] DXC\n"
     ]
    },
    {
     "name": "stderr",
     "output_type": "stream",
     "text": [
      "Auto-assigning NUTS sampler...\n",
      "Initializing NUTS using jitter+adapt_diag...\n",
      "Sequential sampling (1 chains in 1 job)\n",
      "NUTS: [sigma, alpha, betas_day, betas_week, betas_month]\n"
     ]
    },
    {
     "data": {
      "text/html": [
       "\n",
       "<style>\n",
       "    /* Turns off some styling */\n",
       "    progress {\n",
       "        /* gets rid of default border in Firefox and Opera. */\n",
       "        border: none;\n",
       "        /* Needs to be in here for Safari polyfill so background images work as expected. */\n",
       "        background-size: auto;\n",
       "    }\n",
       "    progress:not([value]), progress:not([value])::-webkit-progress-bar {\n",
       "        background: repeating-linear-gradient(45deg, #7e7e7e, #7e7e7e 10px, #5c5c5c 10px, #5c5c5c 20px);\n",
       "    }\n",
       "    .progress-bar-interrupted, .progress-bar-interrupted::-webkit-progress-bar {\n",
       "        background: #F44336;\n",
       "    }\n",
       "</style>\n"
      ],
      "text/plain": [
       "<IPython.core.display.HTML object>"
      ]
     },
     "metadata": {},
     "output_type": "display_data"
    },
    {
     "data": {
      "text/html": [
       "\n",
       "    <div>\n",
       "      <progress value='700' class='' max='700' style='width:300px; height:20px; vertical-align: middle;'></progress>\n",
       "      100.00% [700/700 00:14&lt;00:00 Sampling chain 0, 0 divergences]\n",
       "    </div>\n",
       "    "
      ],
      "text/plain": [
       "<IPython.core.display.HTML object>"
      ]
     },
     "metadata": {},
     "output_type": "display_data"
    },
    {
     "name": "stderr",
     "output_type": "stream",
     "text": [
      "Sampling 1 chain for 200 tune and 500 draw iterations (200 + 500 draws total) took 14 seconds.\n",
      "/home/fanpu/Documents/carnegie-mellon/10708/10-708-project/venv/lib/python3.10/site-packages/arviz/data/base.py:221: UserWarning: More chains (500) than draws (1). Passed array should have shape (chains, draws, *shape)\n",
      "  warnings.warn(\n",
      "\n",
      " 12%|███████▍                                                        | 10/86 [05:10<39:06, 30.87s/it]\u001b[A"
     ]
    },
    {
     "name": "stdout",
     "output_type": "stream",
     "text": [
      "[Vol] ROK\n"
     ]
    },
    {
     "name": "stderr",
     "output_type": "stream",
     "text": [
      "Auto-assigning NUTS sampler...\n",
      "Initializing NUTS using jitter+adapt_diag...\n",
      "Sequential sampling (1 chains in 1 job)\n",
      "NUTS: [sigma, alpha, betas_day, betas_week, betas_month]\n"
     ]
    },
    {
     "data": {
      "text/html": [
       "\n",
       "<style>\n",
       "    /* Turns off some styling */\n",
       "    progress {\n",
       "        /* gets rid of default border in Firefox and Opera. */\n",
       "        border: none;\n",
       "        /* Needs to be in here for Safari polyfill so background images work as expected. */\n",
       "        background-size: auto;\n",
       "    }\n",
       "    progress:not([value]), progress:not([value])::-webkit-progress-bar {\n",
       "        background: repeating-linear-gradient(45deg, #7e7e7e, #7e7e7e 10px, #5c5c5c 10px, #5c5c5c 20px);\n",
       "    }\n",
       "    .progress-bar-interrupted, .progress-bar-interrupted::-webkit-progress-bar {\n",
       "        background: #F44336;\n",
       "    }\n",
       "</style>\n"
      ],
      "text/plain": [
       "<IPython.core.display.HTML object>"
      ]
     },
     "metadata": {},
     "output_type": "display_data"
    },
    {
     "data": {
      "text/html": [
       "\n",
       "    <div>\n",
       "      <progress value='700' class='' max='700' style='width:300px; height:20px; vertical-align: middle;'></progress>\n",
       "      100.00% [700/700 00:10&lt;00:00 Sampling chain 0, 0 divergences]\n",
       "    </div>\n",
       "    "
      ],
      "text/plain": [
       "<IPython.core.display.HTML object>"
      ]
     },
     "metadata": {},
     "output_type": "display_data"
    },
    {
     "name": "stderr",
     "output_type": "stream",
     "text": [
      "Sampling 1 chain for 200 tune and 500 draw iterations (200 + 500 draws total) took 11 seconds.\n",
      "/home/fanpu/Documents/carnegie-mellon/10708/10-708-project/venv/lib/python3.10/site-packages/arviz/data/base.py:221: UserWarning: More chains (500) than draws (1). Passed array should have shape (chains, draws, *shape)\n",
      "  warnings.warn(\n",
      "\n",
      " 13%|████████▏                                                       | 11/86 [05:42<39:06, 31.29s/it]\u001b[A"
     ]
    },
    {
     "name": "stdout",
     "output_type": "stream",
     "text": [
      "[Vol] AMZN\n"
     ]
    },
    {
     "name": "stderr",
     "output_type": "stream",
     "text": [
      "Auto-assigning NUTS sampler...\n",
      "Initializing NUTS using jitter+adapt_diag...\n",
      "Sequential sampling (1 chains in 1 job)\n",
      "NUTS: [sigma, alpha, betas_day, betas_week, betas_month]\n"
     ]
    },
    {
     "data": {
      "text/html": [
       "\n",
       "<style>\n",
       "    /* Turns off some styling */\n",
       "    progress {\n",
       "        /* gets rid of default border in Firefox and Opera. */\n",
       "        border: none;\n",
       "        /* Needs to be in here for Safari polyfill so background images work as expected. */\n",
       "        background-size: auto;\n",
       "    }\n",
       "    progress:not([value]), progress:not([value])::-webkit-progress-bar {\n",
       "        background: repeating-linear-gradient(45deg, #7e7e7e, #7e7e7e 10px, #5c5c5c 10px, #5c5c5c 20px);\n",
       "    }\n",
       "    .progress-bar-interrupted, .progress-bar-interrupted::-webkit-progress-bar {\n",
       "        background: #F44336;\n",
       "    }\n",
       "</style>\n"
      ],
      "text/plain": [
       "<IPython.core.display.HTML object>"
      ]
     },
     "metadata": {},
     "output_type": "display_data"
    },
    {
     "data": {
      "text/html": [
       "\n",
       "    <div>\n",
       "      <progress value='700' class='' max='700' style='width:300px; height:20px; vertical-align: middle;'></progress>\n",
       "      100.00% [700/700 00:11&lt;00:00 Sampling chain 0, 0 divergences]\n",
       "    </div>\n",
       "    "
      ],
      "text/plain": [
       "<IPython.core.display.HTML object>"
      ]
     },
     "metadata": {},
     "output_type": "display_data"
    },
    {
     "name": "stderr",
     "output_type": "stream",
     "text": [
      "Sampling 1 chain for 200 tune and 500 draw iterations (200 + 500 draws total) took 11 seconds.\n",
      "/home/fanpu/Documents/carnegie-mellon/10708/10-708-project/venv/lib/python3.10/site-packages/arviz/data/base.py:221: UserWarning: More chains (500) than draws (1). Passed array should have shape (chains, draws, *shape)\n",
      "  warnings.warn(\n",
      "\n",
      " 14%|████████▉                                                       | 12/86 [06:17<40:02, 32.47s/it]\u001b[A"
     ]
    },
    {
     "name": "stdout",
     "output_type": "stream",
     "text": [
      "[Vol] ISRG\n"
     ]
    },
    {
     "name": "stderr",
     "output_type": "stream",
     "text": [
      "Auto-assigning NUTS sampler...\n",
      "Initializing NUTS using jitter+adapt_diag...\n",
      "Sequential sampling (1 chains in 1 job)\n",
      "NUTS: [sigma, alpha, betas_day, betas_week, betas_month]\n"
     ]
    },
    {
     "data": {
      "text/html": [
       "\n",
       "<style>\n",
       "    /* Turns off some styling */\n",
       "    progress {\n",
       "        /* gets rid of default border in Firefox and Opera. */\n",
       "        border: none;\n",
       "        /* Needs to be in here for Safari polyfill so background images work as expected. */\n",
       "        background-size: auto;\n",
       "    }\n",
       "    progress:not([value]), progress:not([value])::-webkit-progress-bar {\n",
       "        background: repeating-linear-gradient(45deg, #7e7e7e, #7e7e7e 10px, #5c5c5c 10px, #5c5c5c 20px);\n",
       "    }\n",
       "    .progress-bar-interrupted, .progress-bar-interrupted::-webkit-progress-bar {\n",
       "        background: #F44336;\n",
       "    }\n",
       "</style>\n"
      ],
      "text/plain": [
       "<IPython.core.display.HTML object>"
      ]
     },
     "metadata": {},
     "output_type": "display_data"
    },
    {
     "data": {
      "text/html": [
       "\n",
       "    <div>\n",
       "      <progress value='700' class='' max='700' style='width:300px; height:20px; vertical-align: middle;'></progress>\n",
       "      100.00% [700/700 00:05&lt;00:00 Sampling chain 0, 0 divergences]\n",
       "    </div>\n",
       "    "
      ],
      "text/plain": [
       "<IPython.core.display.HTML object>"
      ]
     },
     "metadata": {},
     "output_type": "display_data"
    },
    {
     "name": "stderr",
     "output_type": "stream",
     "text": [
      "Sampling 1 chain for 200 tune and 500 draw iterations (200 + 500 draws total) took 6 seconds.\n",
      "/home/fanpu/Documents/carnegie-mellon/10708/10-708-project/venv/lib/python3.10/site-packages/arviz/data/base.py:221: UserWarning: More chains (500) than draws (1). Passed array should have shape (chains, draws, *shape)\n",
      "  warnings.warn(\n",
      "\n",
      " 15%|█████████▋                                                      | 13/86 [06:30<32:24, 26.63s/it]\u001b[A"
     ]
    },
    {
     "name": "stdout",
     "output_type": "stream",
     "text": [
      "[Vol] PNR\n"
     ]
    },
    {
     "name": "stderr",
     "output_type": "stream",
     "text": [
      "Auto-assigning NUTS sampler...\n",
      "Initializing NUTS using jitter+adapt_diag...\n",
      "Sequential sampling (1 chains in 1 job)\n",
      "NUTS: [sigma, alpha, betas_day, betas_week, betas_month]\n"
     ]
    },
    {
     "data": {
      "text/html": [
       "\n",
       "<style>\n",
       "    /* Turns off some styling */\n",
       "    progress {\n",
       "        /* gets rid of default border in Firefox and Opera. */\n",
       "        border: none;\n",
       "        /* Needs to be in here for Safari polyfill so background images work as expected. */\n",
       "        background-size: auto;\n",
       "    }\n",
       "    progress:not([value]), progress:not([value])::-webkit-progress-bar {\n",
       "        background: repeating-linear-gradient(45deg, #7e7e7e, #7e7e7e 10px, #5c5c5c 10px, #5c5c5c 20px);\n",
       "    }\n",
       "    .progress-bar-interrupted, .progress-bar-interrupted::-webkit-progress-bar {\n",
       "        background: #F44336;\n",
       "    }\n",
       "</style>\n"
      ],
      "text/plain": [
       "<IPython.core.display.HTML object>"
      ]
     },
     "metadata": {},
     "output_type": "display_data"
    },
    {
     "data": {
      "text/html": [
       "\n",
       "    <div>\n",
       "      <progress value='700' class='' max='700' style='width:300px; height:20px; vertical-align: middle;'></progress>\n",
       "      100.00% [700/700 00:13&lt;00:00 Sampling chain 0, 0 divergences]\n",
       "    </div>\n",
       "    "
      ],
      "text/plain": [
       "<IPython.core.display.HTML object>"
      ]
     },
     "metadata": {},
     "output_type": "display_data"
    },
    {
     "name": "stderr",
     "output_type": "stream",
     "text": [
      "Sampling 1 chain for 200 tune and 500 draw iterations (200 + 500 draws total) took 14 seconds.\n",
      "/home/fanpu/Documents/carnegie-mellon/10708/10-708-project/venv/lib/python3.10/site-packages/arviz/data/base.py:221: UserWarning: More chains (500) than draws (1). Passed array should have shape (chains, draws, *shape)\n",
      "  warnings.warn(\n",
      "\n",
      " 16%|██████████▍                                                     | 14/86 [07:17<39:11, 32.66s/it]\u001b[A"
     ]
    },
    {
     "name": "stdout",
     "output_type": "stream",
     "text": [
      "[Vol] GWW\n"
     ]
    },
    {
     "name": "stderr",
     "output_type": "stream",
     "text": [
      "Auto-assigning NUTS sampler...\n",
      "Initializing NUTS using jitter+adapt_diag...\n",
      "Sequential sampling (1 chains in 1 job)\n",
      "NUTS: [sigma, alpha, betas_day, betas_week, betas_month]\n"
     ]
    },
    {
     "data": {
      "text/html": [
       "\n",
       "<style>\n",
       "    /* Turns off some styling */\n",
       "    progress {\n",
       "        /* gets rid of default border in Firefox and Opera. */\n",
       "        border: none;\n",
       "        /* Needs to be in here for Safari polyfill so background images work as expected. */\n",
       "        background-size: auto;\n",
       "    }\n",
       "    progress:not([value]), progress:not([value])::-webkit-progress-bar {\n",
       "        background: repeating-linear-gradient(45deg, #7e7e7e, #7e7e7e 10px, #5c5c5c 10px, #5c5c5c 20px);\n",
       "    }\n",
       "    .progress-bar-interrupted, .progress-bar-interrupted::-webkit-progress-bar {\n",
       "        background: #F44336;\n",
       "    }\n",
       "</style>\n"
      ],
      "text/plain": [
       "<IPython.core.display.HTML object>"
      ]
     },
     "metadata": {},
     "output_type": "display_data"
    },
    {
     "data": {
      "text/html": [
       "\n",
       "    <div>\n",
       "      <progress value='700' class='' max='700' style='width:300px; height:20px; vertical-align: middle;'></progress>\n",
       "      100.00% [700/700 00:10&lt;00:00 Sampling chain 0, 0 divergences]\n",
       "    </div>\n",
       "    "
      ],
      "text/plain": [
       "<IPython.core.display.HTML object>"
      ]
     },
     "metadata": {},
     "output_type": "display_data"
    },
    {
     "name": "stderr",
     "output_type": "stream",
     "text": [
      "Sampling 1 chain for 200 tune and 500 draw iterations (200 + 500 draws total) took 10 seconds.\n",
      "/home/fanpu/Documents/carnegie-mellon/10708/10-708-project/venv/lib/python3.10/site-packages/arviz/data/base.py:221: UserWarning: More chains (500) than draws (1). Passed array should have shape (chains, draws, *shape)\n",
      "  warnings.warn(\n",
      "\n",
      " 17%|███████████▏                                                    | 15/86 [07:41<35:25, 29.94s/it]\u001b[A"
     ]
    },
    {
     "name": "stdout",
     "output_type": "stream",
     "text": [
      "[Vol] LNT\n"
     ]
    },
    {
     "name": "stderr",
     "output_type": "stream",
     "text": [
      "Auto-assigning NUTS sampler...\n",
      "Initializing NUTS using jitter+adapt_diag...\n",
      "Sequential sampling (1 chains in 1 job)\n",
      "NUTS: [sigma, alpha, betas_day, betas_week, betas_month]\n"
     ]
    },
    {
     "data": {
      "text/html": [
       "\n",
       "<style>\n",
       "    /* Turns off some styling */\n",
       "    progress {\n",
       "        /* gets rid of default border in Firefox and Opera. */\n",
       "        border: none;\n",
       "        /* Needs to be in here for Safari polyfill so background images work as expected. */\n",
       "        background-size: auto;\n",
       "    }\n",
       "    progress:not([value]), progress:not([value])::-webkit-progress-bar {\n",
       "        background: repeating-linear-gradient(45deg, #7e7e7e, #7e7e7e 10px, #5c5c5c 10px, #5c5c5c 20px);\n",
       "    }\n",
       "    .progress-bar-interrupted, .progress-bar-interrupted::-webkit-progress-bar {\n",
       "        background: #F44336;\n",
       "    }\n",
       "</style>\n"
      ],
      "text/plain": [
       "<IPython.core.display.HTML object>"
      ]
     },
     "metadata": {},
     "output_type": "display_data"
    },
    {
     "data": {
      "text/html": [
       "\n",
       "    <div>\n",
       "      <progress value='700' class='' max='700' style='width:300px; height:20px; vertical-align: middle;'></progress>\n",
       "      100.00% [700/700 00:08&lt;00:00 Sampling chain 0, 0 divergences]\n",
       "    </div>\n",
       "    "
      ],
      "text/plain": [
       "<IPython.core.display.HTML object>"
      ]
     },
     "metadata": {},
     "output_type": "display_data"
    },
    {
     "name": "stderr",
     "output_type": "stream",
     "text": [
      "Sampling 1 chain for 200 tune and 500 draw iterations (200 + 500 draws total) took 9 seconds.\n",
      "/home/fanpu/Documents/carnegie-mellon/10708/10-708-project/venv/lib/python3.10/site-packages/arviz/data/base.py:221: UserWarning: More chains (500) than draws (1). Passed array should have shape (chains, draws, *shape)\n",
      "  warnings.warn(\n",
      "\n",
      " 19%|███████████▉                                                    | 16/86 [07:58<30:37, 26.25s/it]\u001b[A"
     ]
    },
    {
     "name": "stdout",
     "output_type": "stream",
     "text": [
      "[Vol] CE\n"
     ]
    },
    {
     "name": "stderr",
     "output_type": "stream",
     "text": [
      "Auto-assigning NUTS sampler...\n",
      "Initializing NUTS using jitter+adapt_diag...\n",
      "Sequential sampling (1 chains in 1 job)\n",
      "NUTS: [sigma, alpha, betas_day, betas_week, betas_month]\n"
     ]
    },
    {
     "data": {
      "text/html": [
       "\n",
       "<style>\n",
       "    /* Turns off some styling */\n",
       "    progress {\n",
       "        /* gets rid of default border in Firefox and Opera. */\n",
       "        border: none;\n",
       "        /* Needs to be in here for Safari polyfill so background images work as expected. */\n",
       "        background-size: auto;\n",
       "    }\n",
       "    progress:not([value]), progress:not([value])::-webkit-progress-bar {\n",
       "        background: repeating-linear-gradient(45deg, #7e7e7e, #7e7e7e 10px, #5c5c5c 10px, #5c5c5c 20px);\n",
       "    }\n",
       "    .progress-bar-interrupted, .progress-bar-interrupted::-webkit-progress-bar {\n",
       "        background: #F44336;\n",
       "    }\n",
       "</style>\n"
      ],
      "text/plain": [
       "<IPython.core.display.HTML object>"
      ]
     },
     "metadata": {},
     "output_type": "display_data"
    },
    {
     "data": {
      "text/html": [
       "\n",
       "    <div>\n",
       "      <progress value='700' class='' max='700' style='width:300px; height:20px; vertical-align: middle;'></progress>\n",
       "      100.00% [700/700 00:12&lt;00:00 Sampling chain 0, 0 divergences]\n",
       "    </div>\n",
       "    "
      ],
      "text/plain": [
       "<IPython.core.display.HTML object>"
      ]
     },
     "metadata": {},
     "output_type": "display_data"
    },
    {
     "name": "stderr",
     "output_type": "stream",
     "text": [
      "Sampling 1 chain for 200 tune and 500 draw iterations (200 + 500 draws total) took 12 seconds.\n",
      "/home/fanpu/Documents/carnegie-mellon/10708/10-708-project/venv/lib/python3.10/site-packages/arviz/data/base.py:221: UserWarning: More chains (500) than draws (1). Passed array should have shape (chains, draws, *shape)\n",
      "  warnings.warn(\n",
      "\n",
      " 20%|████████████▋                                                   | 17/86 [08:37<34:32, 30.04s/it]\u001b[A"
     ]
    },
    {
     "name": "stdout",
     "output_type": "stream",
     "text": [
      "[Vol] NKE\n"
     ]
    },
    {
     "name": "stderr",
     "output_type": "stream",
     "text": [
      "Auto-assigning NUTS sampler...\n",
      "Initializing NUTS using jitter+adapt_diag...\n",
      "Sequential sampling (1 chains in 1 job)\n",
      "NUTS: [sigma, alpha, betas_day, betas_week, betas_month]\n"
     ]
    },
    {
     "data": {
      "text/html": [
       "\n",
       "<style>\n",
       "    /* Turns off some styling */\n",
       "    progress {\n",
       "        /* gets rid of default border in Firefox and Opera. */\n",
       "        border: none;\n",
       "        /* Needs to be in here for Safari polyfill so background images work as expected. */\n",
       "        background-size: auto;\n",
       "    }\n",
       "    progress:not([value]), progress:not([value])::-webkit-progress-bar {\n",
       "        background: repeating-linear-gradient(45deg, #7e7e7e, #7e7e7e 10px, #5c5c5c 10px, #5c5c5c 20px);\n",
       "    }\n",
       "    .progress-bar-interrupted, .progress-bar-interrupted::-webkit-progress-bar {\n",
       "        background: #F44336;\n",
       "    }\n",
       "</style>\n"
      ],
      "text/plain": [
       "<IPython.core.display.HTML object>"
      ]
     },
     "metadata": {},
     "output_type": "display_data"
    },
    {
     "data": {
      "text/html": [
       "\n",
       "    <div>\n",
       "      <progress value='700' class='' max='700' style='width:300px; height:20px; vertical-align: middle;'></progress>\n",
       "      100.00% [700/700 00:12&lt;00:00 Sampling chain 0, 0 divergences]\n",
       "    </div>\n",
       "    "
      ],
      "text/plain": [
       "<IPython.core.display.HTML object>"
      ]
     },
     "metadata": {},
     "output_type": "display_data"
    },
    {
     "name": "stderr",
     "output_type": "stream",
     "text": [
      "Sampling 1 chain for 200 tune and 500 draw iterations (200 + 500 draws total) took 12 seconds.\n",
      "/home/fanpu/Documents/carnegie-mellon/10708/10-708-project/venv/lib/python3.10/site-packages/arviz/data/base.py:221: UserWarning: More chains (500) than draws (1). Passed array should have shape (chains, draws, *shape)\n",
      "  warnings.warn(\n",
      "\n",
      " 21%|█████████████▍                                                  | 18/86 [09:07<33:53, 29.91s/it]\u001b[A"
     ]
    },
    {
     "name": "stdout",
     "output_type": "stream",
     "text": [
      "[Vol] MCO\n"
     ]
    },
    {
     "name": "stderr",
     "output_type": "stream",
     "text": [
      "Auto-assigning NUTS sampler...\n",
      "Initializing NUTS using jitter+adapt_diag...\n",
      "Sequential sampling (1 chains in 1 job)\n",
      "NUTS: [sigma, alpha, betas_day, betas_week, betas_month]\n"
     ]
    },
    {
     "data": {
      "text/html": [
       "\n",
       "<style>\n",
       "    /* Turns off some styling */\n",
       "    progress {\n",
       "        /* gets rid of default border in Firefox and Opera. */\n",
       "        border: none;\n",
       "        /* Needs to be in here for Safari polyfill so background images work as expected. */\n",
       "        background-size: auto;\n",
       "    }\n",
       "    progress:not([value]), progress:not([value])::-webkit-progress-bar {\n",
       "        background: repeating-linear-gradient(45deg, #7e7e7e, #7e7e7e 10px, #5c5c5c 10px, #5c5c5c 20px);\n",
       "    }\n",
       "    .progress-bar-interrupted, .progress-bar-interrupted::-webkit-progress-bar {\n",
       "        background: #F44336;\n",
       "    }\n",
       "</style>\n"
      ],
      "text/plain": [
       "<IPython.core.display.HTML object>"
      ]
     },
     "metadata": {},
     "output_type": "display_data"
    },
    {
     "data": {
      "text/html": [
       "\n",
       "    <div>\n",
       "      <progress value='700' class='' max='700' style='width:300px; height:20px; vertical-align: middle;'></progress>\n",
       "      100.00% [700/700 00:10&lt;00:00 Sampling chain 0, 0 divergences]\n",
       "    </div>\n",
       "    "
      ],
      "text/plain": [
       "<IPython.core.display.HTML object>"
      ]
     },
     "metadata": {},
     "output_type": "display_data"
    },
    {
     "name": "stderr",
     "output_type": "stream",
     "text": [
      "Sampling 1 chain for 200 tune and 500 draw iterations (200 + 500 draws total) took 11 seconds.\n",
      "/home/fanpu/Documents/carnegie-mellon/10708/10-708-project/venv/lib/python3.10/site-packages/arviz/data/base.py:221: UserWarning: More chains (500) than draws (1). Passed array should have shape (chains, draws, *shape)\n",
      "  warnings.warn(\n",
      "\n",
      " 22%|██████████████▏                                                 | 19/86 [09:37<33:30, 30.01s/it]\u001b[A"
     ]
    },
    {
     "name": "stdout",
     "output_type": "stream",
     "text": [
      "[Vol] AEP\n"
     ]
    },
    {
     "name": "stderr",
     "output_type": "stream",
     "text": [
      "Auto-assigning NUTS sampler...\n",
      "Initializing NUTS using jitter+adapt_diag...\n",
      "Sequential sampling (1 chains in 1 job)\n",
      "NUTS: [sigma, alpha, betas_day, betas_week, betas_month]\n"
     ]
    },
    {
     "data": {
      "text/html": [
       "\n",
       "<style>\n",
       "    /* Turns off some styling */\n",
       "    progress {\n",
       "        /* gets rid of default border in Firefox and Opera. */\n",
       "        border: none;\n",
       "        /* Needs to be in here for Safari polyfill so background images work as expected. */\n",
       "        background-size: auto;\n",
       "    }\n",
       "    progress:not([value]), progress:not([value])::-webkit-progress-bar {\n",
       "        background: repeating-linear-gradient(45deg, #7e7e7e, #7e7e7e 10px, #5c5c5c 10px, #5c5c5c 20px);\n",
       "    }\n",
       "    .progress-bar-interrupted, .progress-bar-interrupted::-webkit-progress-bar {\n",
       "        background: #F44336;\n",
       "    }\n",
       "</style>\n"
      ],
      "text/plain": [
       "<IPython.core.display.HTML object>"
      ]
     },
     "metadata": {},
     "output_type": "display_data"
    },
    {
     "data": {
      "text/html": [
       "\n",
       "    <div>\n",
       "      <progress value='700' class='' max='700' style='width:300px; height:20px; vertical-align: middle;'></progress>\n",
       "      100.00% [700/700 00:08&lt;00:00 Sampling chain 0, 0 divergences]\n",
       "    </div>\n",
       "    "
      ],
      "text/plain": [
       "<IPython.core.display.HTML object>"
      ]
     },
     "metadata": {},
     "output_type": "display_data"
    },
    {
     "name": "stderr",
     "output_type": "stream",
     "text": [
      "Sampling 1 chain for 200 tune and 500 draw iterations (200 + 500 draws total) took 9 seconds.\n",
      "/home/fanpu/Documents/carnegie-mellon/10708/10-708-project/venv/lib/python3.10/site-packages/arviz/data/base.py:221: UserWarning: More chains (500) than draws (1). Passed array should have shape (chains, draws, *shape)\n",
      "  warnings.warn(\n",
      "\n",
      " 23%|██████████████▉                                                 | 20/86 [09:55<28:58, 26.34s/it]\u001b[A"
     ]
    },
    {
     "name": "stdout",
     "output_type": "stream",
     "text": [
      "[Vol] TPR\n"
     ]
    },
    {
     "name": "stderr",
     "output_type": "stream",
     "text": [
      "Auto-assigning NUTS sampler...\n",
      "Initializing NUTS using jitter+adapt_diag...\n",
      "Sequential sampling (1 chains in 1 job)\n",
      "NUTS: [sigma, alpha, betas_day, betas_week, betas_month]\n"
     ]
    },
    {
     "data": {
      "text/html": [
       "\n",
       "<style>\n",
       "    /* Turns off some styling */\n",
       "    progress {\n",
       "        /* gets rid of default border in Firefox and Opera. */\n",
       "        border: none;\n",
       "        /* Needs to be in here for Safari polyfill so background images work as expected. */\n",
       "        background-size: auto;\n",
       "    }\n",
       "    progress:not([value]), progress:not([value])::-webkit-progress-bar {\n",
       "        background: repeating-linear-gradient(45deg, #7e7e7e, #7e7e7e 10px, #5c5c5c 10px, #5c5c5c 20px);\n",
       "    }\n",
       "    .progress-bar-interrupted, .progress-bar-interrupted::-webkit-progress-bar {\n",
       "        background: #F44336;\n",
       "    }\n",
       "</style>\n"
      ],
      "text/plain": [
       "<IPython.core.display.HTML object>"
      ]
     },
     "metadata": {},
     "output_type": "display_data"
    },
    {
     "data": {
      "text/html": [
       "\n",
       "    <div>\n",
       "      <progress value='700' class='' max='700' style='width:300px; height:20px; vertical-align: middle;'></progress>\n",
       "      100.00% [700/700 00:09&lt;00:00 Sampling chain 0, 0 divergences]\n",
       "    </div>\n",
       "    "
      ],
      "text/plain": [
       "<IPython.core.display.HTML object>"
      ]
     },
     "metadata": {},
     "output_type": "display_data"
    },
    {
     "name": "stderr",
     "output_type": "stream",
     "text": [
      "Sampling 1 chain for 200 tune and 500 draw iterations (200 + 500 draws total) took 10 seconds.\n",
      "/home/fanpu/Documents/carnegie-mellon/10708/10-708-project/venv/lib/python3.10/site-packages/arviz/data/base.py:221: UserWarning: More chains (500) than draws (1). Passed array should have shape (chains, draws, *shape)\n",
      "  warnings.warn(\n",
      "\n",
      " 24%|███████████████▋                                                | 21/86 [10:14<26:18, 24.28s/it]\u001b[A"
     ]
    },
    {
     "name": "stdout",
     "output_type": "stream",
     "text": [
      "[Vol] UNH\n"
     ]
    },
    {
     "name": "stderr",
     "output_type": "stream",
     "text": [
      "Auto-assigning NUTS sampler...\n",
      "Initializing NUTS using jitter+adapt_diag...\n",
      "Sequential sampling (1 chains in 1 job)\n",
      "NUTS: [sigma, alpha, betas_day, betas_week, betas_month]\n"
     ]
    },
    {
     "data": {
      "text/html": [
       "\n",
       "<style>\n",
       "    /* Turns off some styling */\n",
       "    progress {\n",
       "        /* gets rid of default border in Firefox and Opera. */\n",
       "        border: none;\n",
       "        /* Needs to be in here for Safari polyfill so background images work as expected. */\n",
       "        background-size: auto;\n",
       "    }\n",
       "    progress:not([value]), progress:not([value])::-webkit-progress-bar {\n",
       "        background: repeating-linear-gradient(45deg, #7e7e7e, #7e7e7e 10px, #5c5c5c 10px, #5c5c5c 20px);\n",
       "    }\n",
       "    .progress-bar-interrupted, .progress-bar-interrupted::-webkit-progress-bar {\n",
       "        background: #F44336;\n",
       "    }\n",
       "</style>\n"
      ],
      "text/plain": [
       "<IPython.core.display.HTML object>"
      ]
     },
     "metadata": {},
     "output_type": "display_data"
    },
    {
     "data": {
      "text/html": [
       "\n",
       "    <div>\n",
       "      <progress value='700' class='' max='700' style='width:300px; height:20px; vertical-align: middle;'></progress>\n",
       "      100.00% [700/700 00:08&lt;00:00 Sampling chain 0, 0 divergences]\n",
       "    </div>\n",
       "    "
      ],
      "text/plain": [
       "<IPython.core.display.HTML object>"
      ]
     },
     "metadata": {},
     "output_type": "display_data"
    },
    {
     "name": "stderr",
     "output_type": "stream",
     "text": [
      "Sampling 1 chain for 200 tune and 500 draw iterations (200 + 500 draws total) took 8 seconds.\n",
      "/home/fanpu/Documents/carnegie-mellon/10708/10-708-project/venv/lib/python3.10/site-packages/arviz/data/base.py:221: UserWarning: More chains (500) than draws (1). Passed array should have shape (chains, draws, *shape)\n",
      "  warnings.warn(\n",
      "\n",
      " 26%|████████████████▎                                               | 22/86 [10:34<24:17, 22.77s/it]\u001b[A"
     ]
    },
    {
     "name": "stdout",
     "output_type": "stream",
     "text": [
      "[Vol] NVR\n"
     ]
    },
    {
     "name": "stderr",
     "output_type": "stream",
     "text": [
      "Auto-assigning NUTS sampler...\n",
      "Initializing NUTS using jitter+adapt_diag...\n",
      "Sequential sampling (1 chains in 1 job)\n",
      "NUTS: [sigma, alpha, betas_day, betas_week, betas_month]\n"
     ]
    },
    {
     "data": {
      "text/html": [
       "\n",
       "<style>\n",
       "    /* Turns off some styling */\n",
       "    progress {\n",
       "        /* gets rid of default border in Firefox and Opera. */\n",
       "        border: none;\n",
       "        /* Needs to be in here for Safari polyfill so background images work as expected. */\n",
       "        background-size: auto;\n",
       "    }\n",
       "    progress:not([value]), progress:not([value])::-webkit-progress-bar {\n",
       "        background: repeating-linear-gradient(45deg, #7e7e7e, #7e7e7e 10px, #5c5c5c 10px, #5c5c5c 20px);\n",
       "    }\n",
       "    .progress-bar-interrupted, .progress-bar-interrupted::-webkit-progress-bar {\n",
       "        background: #F44336;\n",
       "    }\n",
       "</style>\n"
      ],
      "text/plain": [
       "<IPython.core.display.HTML object>"
      ]
     },
     "metadata": {},
     "output_type": "display_data"
    },
    {
     "data": {
      "text/html": [
       "\n",
       "    <div>\n",
       "      <progress value='700' class='' max='700' style='width:300px; height:20px; vertical-align: middle;'></progress>\n",
       "      100.00% [700/700 00:06&lt;00:00 Sampling chain 0, 0 divergences]\n",
       "    </div>\n",
       "    "
      ],
      "text/plain": [
       "<IPython.core.display.HTML object>"
      ]
     },
     "metadata": {},
     "output_type": "display_data"
    },
    {
     "name": "stderr",
     "output_type": "stream",
     "text": [
      "Sampling 1 chain for 200 tune and 500 draw iterations (200 + 500 draws total) took 7 seconds.\n",
      "/home/fanpu/Documents/carnegie-mellon/10708/10-708-project/venv/lib/python3.10/site-packages/arviz/data/base.py:221: UserWarning: More chains (500) than draws (1). Passed array should have shape (chains, draws, *shape)\n",
      "  warnings.warn(\n",
      "\n",
      " 27%|█████████████████                                               | 23/86 [10:48<21:14, 20.23s/it]\u001b[A"
     ]
    },
    {
     "name": "stdout",
     "output_type": "stream",
     "text": [
      "[Vol] XEL\n"
     ]
    },
    {
     "name": "stderr",
     "output_type": "stream",
     "text": [
      "Auto-assigning NUTS sampler...\n",
      "Initializing NUTS using jitter+adapt_diag...\n",
      "Sequential sampling (1 chains in 1 job)\n",
      "NUTS: [sigma, alpha, betas_day, betas_week, betas_month]\n"
     ]
    },
    {
     "data": {
      "text/html": [
       "\n",
       "<style>\n",
       "    /* Turns off some styling */\n",
       "    progress {\n",
       "        /* gets rid of default border in Firefox and Opera. */\n",
       "        border: none;\n",
       "        /* Needs to be in here for Safari polyfill so background images work as expected. */\n",
       "        background-size: auto;\n",
       "    }\n",
       "    progress:not([value]), progress:not([value])::-webkit-progress-bar {\n",
       "        background: repeating-linear-gradient(45deg, #7e7e7e, #7e7e7e 10px, #5c5c5c 10px, #5c5c5c 20px);\n",
       "    }\n",
       "    .progress-bar-interrupted, .progress-bar-interrupted::-webkit-progress-bar {\n",
       "        background: #F44336;\n",
       "    }\n",
       "</style>\n"
      ],
      "text/plain": [
       "<IPython.core.display.HTML object>"
      ]
     },
     "metadata": {},
     "output_type": "display_data"
    },
    {
     "data": {
      "text/html": [
       "\n",
       "    <div>\n",
       "      <progress value='700' class='' max='700' style='width:300px; height:20px; vertical-align: middle;'></progress>\n",
       "      100.00% [700/700 00:08&lt;00:00 Sampling chain 0, 0 divergences]\n",
       "    </div>\n",
       "    "
      ],
      "text/plain": [
       "<IPython.core.display.HTML object>"
      ]
     },
     "metadata": {},
     "output_type": "display_data"
    },
    {
     "name": "stderr",
     "output_type": "stream",
     "text": [
      "Sampling 1 chain for 200 tune and 500 draw iterations (200 + 500 draws total) took 8 seconds.\n",
      "/home/fanpu/Documents/carnegie-mellon/10708/10-708-project/venv/lib/python3.10/site-packages/arviz/data/base.py:221: UserWarning: More chains (500) than draws (1). Passed array should have shape (chains, draws, *shape)\n",
      "  warnings.warn(\n",
      "\n",
      " 28%|█████████████████▊                                              | 24/86 [11:05<19:50, 19.20s/it]\u001b[A"
     ]
    },
    {
     "name": "stdout",
     "output_type": "stream",
     "text": [
      "[Vol] TTWO\n"
     ]
    },
    {
     "name": "stderr",
     "output_type": "stream",
     "text": [
      "Auto-assigning NUTS sampler...\n",
      "Initializing NUTS using jitter+adapt_diag...\n",
      "Sequential sampling (1 chains in 1 job)\n",
      "NUTS: [sigma, alpha, betas_day, betas_week, betas_month]\n"
     ]
    },
    {
     "data": {
      "text/html": [
       "\n",
       "<style>\n",
       "    /* Turns off some styling */\n",
       "    progress {\n",
       "        /* gets rid of default border in Firefox and Opera. */\n",
       "        border: none;\n",
       "        /* Needs to be in here for Safari polyfill so background images work as expected. */\n",
       "        background-size: auto;\n",
       "    }\n",
       "    progress:not([value]), progress:not([value])::-webkit-progress-bar {\n",
       "        background: repeating-linear-gradient(45deg, #7e7e7e, #7e7e7e 10px, #5c5c5c 10px, #5c5c5c 20px);\n",
       "    }\n",
       "    .progress-bar-interrupted, .progress-bar-interrupted::-webkit-progress-bar {\n",
       "        background: #F44336;\n",
       "    }\n",
       "</style>\n"
      ],
      "text/plain": [
       "<IPython.core.display.HTML object>"
      ]
     },
     "metadata": {},
     "output_type": "display_data"
    },
    {
     "data": {
      "text/html": [
       "\n",
       "    <div>\n",
       "      <progress value='700' class='' max='700' style='width:300px; height:20px; vertical-align: middle;'></progress>\n",
       "      100.00% [700/700 00:18&lt;00:00 Sampling chain 0, 0 divergences]\n",
       "    </div>\n",
       "    "
      ],
      "text/plain": [
       "<IPython.core.display.HTML object>"
      ]
     },
     "metadata": {},
     "output_type": "display_data"
    },
    {
     "name": "stderr",
     "output_type": "stream",
     "text": [
      "Sampling 1 chain for 200 tune and 500 draw iterations (200 + 500 draws total) took 18 seconds.\n",
      "/home/fanpu/Documents/carnegie-mellon/10708/10-708-project/venv/lib/python3.10/site-packages/arviz/data/base.py:221: UserWarning: More chains (500) than draws (1). Passed array should have shape (chains, draws, *shape)\n",
      "  warnings.warn(\n",
      "\n",
      " 29%|██████████████████▌                                             | 25/86 [11:56<29:19, 28.85s/it]\u001b[A"
     ]
    },
    {
     "name": "stdout",
     "output_type": "stream",
     "text": [
      "[Vol] CMG\n"
     ]
    },
    {
     "name": "stderr",
     "output_type": "stream",
     "text": [
      "Auto-assigning NUTS sampler...\n",
      "Initializing NUTS using jitter+adapt_diag...\n",
      "Sequential sampling (1 chains in 1 job)\n",
      "NUTS: [sigma, alpha, betas_day, betas_week, betas_month]\n"
     ]
    },
    {
     "data": {
      "text/html": [
       "\n",
       "<style>\n",
       "    /* Turns off some styling */\n",
       "    progress {\n",
       "        /* gets rid of default border in Firefox and Opera. */\n",
       "        border: none;\n",
       "        /* Needs to be in here for Safari polyfill so background images work as expected. */\n",
       "        background-size: auto;\n",
       "    }\n",
       "    progress:not([value]), progress:not([value])::-webkit-progress-bar {\n",
       "        background: repeating-linear-gradient(45deg, #7e7e7e, #7e7e7e 10px, #5c5c5c 10px, #5c5c5c 20px);\n",
       "    }\n",
       "    .progress-bar-interrupted, .progress-bar-interrupted::-webkit-progress-bar {\n",
       "        background: #F44336;\n",
       "    }\n",
       "</style>\n"
      ],
      "text/plain": [
       "<IPython.core.display.HTML object>"
      ]
     },
     "metadata": {},
     "output_type": "display_data"
    },
    {
     "data": {
      "text/html": [
       "\n",
       "    <div>\n",
       "      <progress value='700' class='' max='700' style='width:300px; height:20px; vertical-align: middle;'></progress>\n",
       "      100.00% [700/700 00:12&lt;00:00 Sampling chain 0, 0 divergences]\n",
       "    </div>\n",
       "    "
      ],
      "text/plain": [
       "<IPython.core.display.HTML object>"
      ]
     },
     "metadata": {},
     "output_type": "display_data"
    },
    {
     "name": "stderr",
     "output_type": "stream",
     "text": [
      "Sampling 1 chain for 200 tune and 500 draw iterations (200 + 500 draws total) took 13 seconds.\n",
      "/home/fanpu/Documents/carnegie-mellon/10708/10-708-project/venv/lib/python3.10/site-packages/arviz/data/base.py:221: UserWarning: More chains (500) than draws (1). Passed array should have shape (chains, draws, *shape)\n",
      "  warnings.warn(\n",
      "\n",
      " 30%|███████████████████▎                                            | 26/86 [12:24<28:38, 28.64s/it]\u001b[A"
     ]
    },
    {
     "name": "stdout",
     "output_type": "stream",
     "text": [
      "[Vol] GIS\n"
     ]
    },
    {
     "name": "stderr",
     "output_type": "stream",
     "text": [
      "Auto-assigning NUTS sampler...\n",
      "Initializing NUTS using jitter+adapt_diag...\n",
      "Sequential sampling (1 chains in 1 job)\n",
      "NUTS: [sigma, alpha, betas_day, betas_week, betas_month]\n"
     ]
    },
    {
     "data": {
      "text/html": [
       "\n",
       "<style>\n",
       "    /* Turns off some styling */\n",
       "    progress {\n",
       "        /* gets rid of default border in Firefox and Opera. */\n",
       "        border: none;\n",
       "        /* Needs to be in here for Safari polyfill so background images work as expected. */\n",
       "        background-size: auto;\n",
       "    }\n",
       "    progress:not([value]), progress:not([value])::-webkit-progress-bar {\n",
       "        background: repeating-linear-gradient(45deg, #7e7e7e, #7e7e7e 10px, #5c5c5c 10px, #5c5c5c 20px);\n",
       "    }\n",
       "    .progress-bar-interrupted, .progress-bar-interrupted::-webkit-progress-bar {\n",
       "        background: #F44336;\n",
       "    }\n",
       "</style>\n"
      ],
      "text/plain": [
       "<IPython.core.display.HTML object>"
      ]
     },
     "metadata": {},
     "output_type": "display_data"
    },
    {
     "data": {
      "text/html": [
       "\n",
       "    <div>\n",
       "      <progress value='700' class='' max='700' style='width:300px; height:20px; vertical-align: middle;'></progress>\n",
       "      100.00% [700/700 00:16&lt;00:00 Sampling chain 0, 0 divergences]\n",
       "    </div>\n",
       "    "
      ],
      "text/plain": [
       "<IPython.core.display.HTML object>"
      ]
     },
     "metadata": {},
     "output_type": "display_data"
    },
    {
     "name": "stderr",
     "output_type": "stream",
     "text": [
      "Sampling 1 chain for 200 tune and 500 draw iterations (200 + 500 draws total) took 16 seconds.\n",
      "/home/fanpu/Documents/carnegie-mellon/10708/10-708-project/venv/lib/python3.10/site-packages/arviz/data/base.py:221: UserWarning: More chains (500) than draws (1). Passed array should have shape (chains, draws, *shape)\n",
      "  warnings.warn(\n",
      "\n",
      " 31%|████████████████████                                            | 27/86 [13:06<31:54, 32.44s/it]\u001b[A"
     ]
    },
    {
     "name": "stdout",
     "output_type": "stream",
     "text": [
      "[Vol] WST\n"
     ]
    },
    {
     "name": "stderr",
     "output_type": "stream",
     "text": [
      "Auto-assigning NUTS sampler...\n",
      "Initializing NUTS using jitter+adapt_diag...\n",
      "Sequential sampling (1 chains in 1 job)\n",
      "NUTS: [sigma, alpha, betas_day, betas_week, betas_month]\n"
     ]
    },
    {
     "data": {
      "text/html": [
       "\n",
       "<style>\n",
       "    /* Turns off some styling */\n",
       "    progress {\n",
       "        /* gets rid of default border in Firefox and Opera. */\n",
       "        border: none;\n",
       "        /* Needs to be in here for Safari polyfill so background images work as expected. */\n",
       "        background-size: auto;\n",
       "    }\n",
       "    progress:not([value]), progress:not([value])::-webkit-progress-bar {\n",
       "        background: repeating-linear-gradient(45deg, #7e7e7e, #7e7e7e 10px, #5c5c5c 10px, #5c5c5c 20px);\n",
       "    }\n",
       "    .progress-bar-interrupted, .progress-bar-interrupted::-webkit-progress-bar {\n",
       "        background: #F44336;\n",
       "    }\n",
       "</style>\n"
      ],
      "text/plain": [
       "<IPython.core.display.HTML object>"
      ]
     },
     "metadata": {},
     "output_type": "display_data"
    },
    {
     "data": {
      "text/html": [
       "\n",
       "    <div>\n",
       "      <progress value='700' class='' max='700' style='width:300px; height:20px; vertical-align: middle;'></progress>\n",
       "      100.00% [700/700 00:11&lt;00:00 Sampling chain 0, 0 divergences]\n",
       "    </div>\n",
       "    "
      ],
      "text/plain": [
       "<IPython.core.display.HTML object>"
      ]
     },
     "metadata": {},
     "output_type": "display_data"
    },
    {
     "name": "stderr",
     "output_type": "stream",
     "text": [
      "Sampling 1 chain for 200 tune and 500 draw iterations (200 + 500 draws total) took 12 seconds.\n",
      "/home/fanpu/Documents/carnegie-mellon/10708/10-708-project/venv/lib/python3.10/site-packages/arviz/data/base.py:221: UserWarning: More chains (500) than draws (1). Passed array should have shape (chains, draws, *shape)\n",
      "  warnings.warn(\n",
      "\n",
      " 33%|████████████████████▊                                           | 28/86 [13:37<31:10, 32.26s/it]\u001b[A"
     ]
    },
    {
     "name": "stdout",
     "output_type": "stream",
     "text": [
      "[Vol] CAT\n"
     ]
    },
    {
     "name": "stderr",
     "output_type": "stream",
     "text": [
      "Auto-assigning NUTS sampler...\n",
      "Initializing NUTS using jitter+adapt_diag...\n",
      "Sequential sampling (1 chains in 1 job)\n",
      "NUTS: [sigma, alpha, betas_day, betas_week, betas_month]\n"
     ]
    },
    {
     "data": {
      "text/html": [
       "\n",
       "<style>\n",
       "    /* Turns off some styling */\n",
       "    progress {\n",
       "        /* gets rid of default border in Firefox and Opera. */\n",
       "        border: none;\n",
       "        /* Needs to be in here for Safari polyfill so background images work as expected. */\n",
       "        background-size: auto;\n",
       "    }\n",
       "    progress:not([value]), progress:not([value])::-webkit-progress-bar {\n",
       "        background: repeating-linear-gradient(45deg, #7e7e7e, #7e7e7e 10px, #5c5c5c 10px, #5c5c5c 20px);\n",
       "    }\n",
       "    .progress-bar-interrupted, .progress-bar-interrupted::-webkit-progress-bar {\n",
       "        background: #F44336;\n",
       "    }\n",
       "</style>\n"
      ],
      "text/plain": [
       "<IPython.core.display.HTML object>"
      ]
     },
     "metadata": {},
     "output_type": "display_data"
    },
    {
     "data": {
      "text/html": [
       "\n",
       "    <div>\n",
       "      <progress value='700' class='' max='700' style='width:300px; height:20px; vertical-align: middle;'></progress>\n",
       "      100.00% [700/700 00:15&lt;00:00 Sampling chain 0, 0 divergences]\n",
       "    </div>\n",
       "    "
      ],
      "text/plain": [
       "<IPython.core.display.HTML object>"
      ]
     },
     "metadata": {},
     "output_type": "display_data"
    },
    {
     "name": "stderr",
     "output_type": "stream",
     "text": [
      "Sampling 1 chain for 200 tune and 500 draw iterations (200 + 500 draws total) took 16 seconds.\n",
      "/home/fanpu/Documents/carnegie-mellon/10708/10-708-project/venv/lib/python3.10/site-packages/arviz/data/base.py:221: UserWarning: More chains (500) than draws (1). Passed array should have shape (chains, draws, *shape)\n",
      "  warnings.warn(\n",
      "\n",
      " 34%|█████████████████████▌                                          | 29/86 [14:21<33:46, 35.55s/it]\u001b[A"
     ]
    },
    {
     "name": "stdout",
     "output_type": "stream",
     "text": [
      "[Vol] XRAY\n"
     ]
    },
    {
     "name": "stderr",
     "output_type": "stream",
     "text": [
      "Auto-assigning NUTS sampler...\n",
      "Initializing NUTS using jitter+adapt_diag...\n",
      "Sequential sampling (1 chains in 1 job)\n",
      "NUTS: [sigma, alpha, betas_day, betas_week, betas_month]\n"
     ]
    },
    {
     "data": {
      "text/html": [
       "\n",
       "<style>\n",
       "    /* Turns off some styling */\n",
       "    progress {\n",
       "        /* gets rid of default border in Firefox and Opera. */\n",
       "        border: none;\n",
       "        /* Needs to be in here for Safari polyfill so background images work as expected. */\n",
       "        background-size: auto;\n",
       "    }\n",
       "    progress:not([value]), progress:not([value])::-webkit-progress-bar {\n",
       "        background: repeating-linear-gradient(45deg, #7e7e7e, #7e7e7e 10px, #5c5c5c 10px, #5c5c5c 20px);\n",
       "    }\n",
       "    .progress-bar-interrupted, .progress-bar-interrupted::-webkit-progress-bar {\n",
       "        background: #F44336;\n",
       "    }\n",
       "</style>\n"
      ],
      "text/plain": [
       "<IPython.core.display.HTML object>"
      ]
     },
     "metadata": {},
     "output_type": "display_data"
    },
    {
     "data": {
      "text/html": [
       "\n",
       "    <div>\n",
       "      <progress value='700' class='' max='700' style='width:300px; height:20px; vertical-align: middle;'></progress>\n",
       "      100.00% [700/700 00:09&lt;00:00 Sampling chain 0, 0 divergences]\n",
       "    </div>\n",
       "    "
      ],
      "text/plain": [
       "<IPython.core.display.HTML object>"
      ]
     },
     "metadata": {},
     "output_type": "display_data"
    },
    {
     "name": "stderr",
     "output_type": "stream",
     "text": [
      "Sampling 1 chain for 200 tune and 500 draw iterations (200 + 500 draws total) took 10 seconds.\n",
      "/home/fanpu/Documents/carnegie-mellon/10708/10-708-project/venv/lib/python3.10/site-packages/arviz/data/base.py:221: UserWarning: More chains (500) than draws (1). Passed array should have shape (chains, draws, *shape)\n",
      "  warnings.warn(\n",
      "\n",
      " 35%|██████████████████████▎                                         | 30/86 [14:45<29:57, 32.10s/it]\u001b[A"
     ]
    },
    {
     "name": "stdout",
     "output_type": "stream",
     "text": [
      "[Vol] ANSS\n"
     ]
    },
    {
     "name": "stderr",
     "output_type": "stream",
     "text": [
      "Auto-assigning NUTS sampler...\n",
      "Initializing NUTS using jitter+adapt_diag...\n",
      "Sequential sampling (1 chains in 1 job)\n",
      "NUTS: [sigma, alpha, betas_day, betas_week, betas_month]\n"
     ]
    },
    {
     "data": {
      "text/html": [
       "\n",
       "<style>\n",
       "    /* Turns off some styling */\n",
       "    progress {\n",
       "        /* gets rid of default border in Firefox and Opera. */\n",
       "        border: none;\n",
       "        /* Needs to be in here for Safari polyfill so background images work as expected. */\n",
       "        background-size: auto;\n",
       "    }\n",
       "    progress:not([value]), progress:not([value])::-webkit-progress-bar {\n",
       "        background: repeating-linear-gradient(45deg, #7e7e7e, #7e7e7e 10px, #5c5c5c 10px, #5c5c5c 20px);\n",
       "    }\n",
       "    .progress-bar-interrupted, .progress-bar-interrupted::-webkit-progress-bar {\n",
       "        background: #F44336;\n",
       "    }\n",
       "</style>\n"
      ],
      "text/plain": [
       "<IPython.core.display.HTML object>"
      ]
     },
     "metadata": {},
     "output_type": "display_data"
    },
    {
     "data": {
      "text/html": [
       "\n",
       "    <div>\n",
       "      <progress value='700' class='' max='700' style='width:300px; height:20px; vertical-align: middle;'></progress>\n",
       "      100.00% [700/700 00:12&lt;00:00 Sampling chain 0, 0 divergences]\n",
       "    </div>\n",
       "    "
      ],
      "text/plain": [
       "<IPython.core.display.HTML object>"
      ]
     },
     "metadata": {},
     "output_type": "display_data"
    },
    {
     "name": "stderr",
     "output_type": "stream",
     "text": [
      "Sampling 1 chain for 200 tune and 500 draw iterations (200 + 500 draws total) took 13 seconds.\n",
      "/home/fanpu/Documents/carnegie-mellon/10708/10-708-project/venv/lib/python3.10/site-packages/arviz/data/base.py:221: UserWarning: More chains (500) than draws (1). Passed array should have shape (chains, draws, *shape)\n",
      "  warnings.warn(\n",
      "\n",
      " 36%|███████████████████████                                         | 31/86 [15:18<29:50, 32.55s/it]\u001b[A"
     ]
    },
    {
     "name": "stdout",
     "output_type": "stream",
     "text": [
      "[Vol] QCOM\n"
     ]
    },
    {
     "name": "stderr",
     "output_type": "stream",
     "text": [
      "Auto-assigning NUTS sampler...\n",
      "Initializing NUTS using jitter+adapt_diag...\n",
      "Sequential sampling (1 chains in 1 job)\n",
      "NUTS: [sigma, alpha, betas_day, betas_week, betas_month]\n"
     ]
    },
    {
     "data": {
      "text/html": [
       "\n",
       "<style>\n",
       "    /* Turns off some styling */\n",
       "    progress {\n",
       "        /* gets rid of default border in Firefox and Opera. */\n",
       "        border: none;\n",
       "        /* Needs to be in here for Safari polyfill so background images work as expected. */\n",
       "        background-size: auto;\n",
       "    }\n",
       "    progress:not([value]), progress:not([value])::-webkit-progress-bar {\n",
       "        background: repeating-linear-gradient(45deg, #7e7e7e, #7e7e7e 10px, #5c5c5c 10px, #5c5c5c 20px);\n",
       "    }\n",
       "    .progress-bar-interrupted, .progress-bar-interrupted::-webkit-progress-bar {\n",
       "        background: #F44336;\n",
       "    }\n",
       "</style>\n"
      ],
      "text/plain": [
       "<IPython.core.display.HTML object>"
      ]
     },
     "metadata": {},
     "output_type": "display_data"
    },
    {
     "data": {
      "text/html": [
       "\n",
       "    <div>\n",
       "      <progress value='700' class='' max='700' style='width:300px; height:20px; vertical-align: middle;'></progress>\n",
       "      100.00% [700/700 00:09&lt;00:00 Sampling chain 0, 0 divergences]\n",
       "    </div>\n",
       "    "
      ],
      "text/plain": [
       "<IPython.core.display.HTML object>"
      ]
     },
     "metadata": {},
     "output_type": "display_data"
    },
    {
     "name": "stderr",
     "output_type": "stream",
     "text": [
      "Sampling 1 chain for 200 tune and 500 draw iterations (200 + 500 draws total) took 10 seconds.\n",
      "/home/fanpu/Documents/carnegie-mellon/10708/10-708-project/venv/lib/python3.10/site-packages/arviz/data/base.py:221: UserWarning: More chains (500) than draws (1). Passed array should have shape (chains, draws, *shape)\n",
      "  warnings.warn(\n",
      "\n",
      " 37%|███████████████████████▊                                        | 32/86 [15:42<26:51, 29.84s/it]\u001b[A"
     ]
    },
    {
     "name": "stdout",
     "output_type": "stream",
     "text": [
      "[Vol] INTC\n"
     ]
    },
    {
     "name": "stderr",
     "output_type": "stream",
     "text": [
      "Auto-assigning NUTS sampler...\n",
      "Initializing NUTS using jitter+adapt_diag...\n",
      "Sequential sampling (1 chains in 1 job)\n",
      "NUTS: [sigma, alpha, betas_day, betas_week, betas_month]\n"
     ]
    },
    {
     "data": {
      "text/html": [
       "\n",
       "<style>\n",
       "    /* Turns off some styling */\n",
       "    progress {\n",
       "        /* gets rid of default border in Firefox and Opera. */\n",
       "        border: none;\n",
       "        /* Needs to be in here for Safari polyfill so background images work as expected. */\n",
       "        background-size: auto;\n",
       "    }\n",
       "    progress:not([value]), progress:not([value])::-webkit-progress-bar {\n",
       "        background: repeating-linear-gradient(45deg, #7e7e7e, #7e7e7e 10px, #5c5c5c 10px, #5c5c5c 20px);\n",
       "    }\n",
       "    .progress-bar-interrupted, .progress-bar-interrupted::-webkit-progress-bar {\n",
       "        background: #F44336;\n",
       "    }\n",
       "</style>\n"
      ],
      "text/plain": [
       "<IPython.core.display.HTML object>"
      ]
     },
     "metadata": {},
     "output_type": "display_data"
    },
    {
     "data": {
      "text/html": [
       "\n",
       "    <div>\n",
       "      <progress value='700' class='' max='700' style='width:300px; height:20px; vertical-align: middle;'></progress>\n",
       "      100.00% [700/700 00:09&lt;00:00 Sampling chain 0, 0 divergences]\n",
       "    </div>\n",
       "    "
      ],
      "text/plain": [
       "<IPython.core.display.HTML object>"
      ]
     },
     "metadata": {},
     "output_type": "display_data"
    },
    {
     "name": "stderr",
     "output_type": "stream",
     "text": [
      "Sampling 1 chain for 200 tune and 500 draw iterations (200 + 500 draws total) took 10 seconds.\n",
      "/home/fanpu/Documents/carnegie-mellon/10708/10-708-project/venv/lib/python3.10/site-packages/arviz/data/base.py:221: UserWarning: More chains (500) than draws (1). Passed array should have shape (chains, draws, *shape)\n",
      "  warnings.warn(\n",
      "\n",
      " 38%|████████████████████████▌                                       | 33/86 [16:13<26:41, 30.22s/it]\u001b[A"
     ]
    },
    {
     "name": "stdout",
     "output_type": "stream",
     "text": [
      "[Vol] LIN\n"
     ]
    },
    {
     "name": "stderr",
     "output_type": "stream",
     "text": [
      "Auto-assigning NUTS sampler...\n",
      "Initializing NUTS using jitter+adapt_diag...\n",
      "Sequential sampling (1 chains in 1 job)\n",
      "NUTS: [sigma, alpha, betas_day, betas_week, betas_month]\n"
     ]
    },
    {
     "data": {
      "text/html": [
       "\n",
       "<style>\n",
       "    /* Turns off some styling */\n",
       "    progress {\n",
       "        /* gets rid of default border in Firefox and Opera. */\n",
       "        border: none;\n",
       "        /* Needs to be in here for Safari polyfill so background images work as expected. */\n",
       "        background-size: auto;\n",
       "    }\n",
       "    progress:not([value]), progress:not([value])::-webkit-progress-bar {\n",
       "        background: repeating-linear-gradient(45deg, #7e7e7e, #7e7e7e 10px, #5c5c5c 10px, #5c5c5c 20px);\n",
       "    }\n",
       "    .progress-bar-interrupted, .progress-bar-interrupted::-webkit-progress-bar {\n",
       "        background: #F44336;\n",
       "    }\n",
       "</style>\n"
      ],
      "text/plain": [
       "<IPython.core.display.HTML object>"
      ]
     },
     "metadata": {},
     "output_type": "display_data"
    },
    {
     "data": {
      "text/html": [
       "\n",
       "    <div>\n",
       "      <progress value='700' class='' max='700' style='width:300px; height:20px; vertical-align: middle;'></progress>\n",
       "      100.00% [700/700 00:12&lt;00:00 Sampling chain 0, 0 divergences]\n",
       "    </div>\n",
       "    "
      ],
      "text/plain": [
       "<IPython.core.display.HTML object>"
      ]
     },
     "metadata": {},
     "output_type": "display_data"
    },
    {
     "name": "stderr",
     "output_type": "stream",
     "text": [
      "Sampling 1 chain for 200 tune and 500 draw iterations (200 + 500 draws total) took 12 seconds.\n",
      "/home/fanpu/Documents/carnegie-mellon/10708/10-708-project/venv/lib/python3.10/site-packages/arviz/data/base.py:221: UserWarning: More chains (500) than draws (1). Passed array should have shape (chains, draws, *shape)\n",
      "  warnings.warn(\n",
      "\n",
      " 40%|█████████████████████████▎                                      | 34/86 [16:39<25:14, 29.13s/it]\u001b[A"
     ]
    },
    {
     "name": "stdout",
     "output_type": "stream",
     "text": [
      "[Vol] MU\n"
     ]
    },
    {
     "name": "stderr",
     "output_type": "stream",
     "text": [
      "Auto-assigning NUTS sampler...\n",
      "Initializing NUTS using jitter+adapt_diag...\n",
      "Sequential sampling (1 chains in 1 job)\n",
      "NUTS: [sigma, alpha, betas_day, betas_week, betas_month]\n"
     ]
    },
    {
     "data": {
      "text/html": [
       "\n",
       "<style>\n",
       "    /* Turns off some styling */\n",
       "    progress {\n",
       "        /* gets rid of default border in Firefox and Opera. */\n",
       "        border: none;\n",
       "        /* Needs to be in here for Safari polyfill so background images work as expected. */\n",
       "        background-size: auto;\n",
       "    }\n",
       "    progress:not([value]), progress:not([value])::-webkit-progress-bar {\n",
       "        background: repeating-linear-gradient(45deg, #7e7e7e, #7e7e7e 10px, #5c5c5c 10px, #5c5c5c 20px);\n",
       "    }\n",
       "    .progress-bar-interrupted, .progress-bar-interrupted::-webkit-progress-bar {\n",
       "        background: #F44336;\n",
       "    }\n",
       "</style>\n"
      ],
      "text/plain": [
       "<IPython.core.display.HTML object>"
      ]
     },
     "metadata": {},
     "output_type": "display_data"
    },
    {
     "data": {
      "text/html": [
       "\n",
       "    <div>\n",
       "      <progress value='700' class='' max='700' style='width:300px; height:20px; vertical-align: middle;'></progress>\n",
       "      100.00% [700/700 00:11&lt;00:00 Sampling chain 0, 0 divergences]\n",
       "    </div>\n",
       "    "
      ],
      "text/plain": [
       "<IPython.core.display.HTML object>"
      ]
     },
     "metadata": {},
     "output_type": "display_data"
    },
    {
     "name": "stderr",
     "output_type": "stream",
     "text": [
      "Sampling 1 chain for 200 tune and 500 draw iterations (200 + 500 draws total) took 12 seconds.\n",
      "/home/fanpu/Documents/carnegie-mellon/10708/10-708-project/venv/lib/python3.10/site-packages/arviz/data/base.py:221: UserWarning: More chains (500) than draws (1). Passed array should have shape (chains, draws, *shape)\n",
      "  warnings.warn(\n",
      "\n",
      " 41%|██████████████████████████                                      | 35/86 [17:14<26:14, 30.88s/it]\u001b[A"
     ]
    },
    {
     "name": "stdout",
     "output_type": "stream",
     "text": [
      "[Vol] GPC\n"
     ]
    },
    {
     "name": "stderr",
     "output_type": "stream",
     "text": [
      "Auto-assigning NUTS sampler...\n",
      "Initializing NUTS using jitter+adapt_diag...\n",
      "Sequential sampling (1 chains in 1 job)\n",
      "NUTS: [sigma, alpha, betas_day, betas_week, betas_month]\n"
     ]
    },
    {
     "data": {
      "text/html": [
       "\n",
       "<style>\n",
       "    /* Turns off some styling */\n",
       "    progress {\n",
       "        /* gets rid of default border in Firefox and Opera. */\n",
       "        border: none;\n",
       "        /* Needs to be in here for Safari polyfill so background images work as expected. */\n",
       "        background-size: auto;\n",
       "    }\n",
       "    progress:not([value]), progress:not([value])::-webkit-progress-bar {\n",
       "        background: repeating-linear-gradient(45deg, #7e7e7e, #7e7e7e 10px, #5c5c5c 10px, #5c5c5c 20px);\n",
       "    }\n",
       "    .progress-bar-interrupted, .progress-bar-interrupted::-webkit-progress-bar {\n",
       "        background: #F44336;\n",
       "    }\n",
       "</style>\n"
      ],
      "text/plain": [
       "<IPython.core.display.HTML object>"
      ]
     },
     "metadata": {},
     "output_type": "display_data"
    },
    {
     "data": {
      "text/html": [
       "\n",
       "    <div>\n",
       "      <progress value='700' class='' max='700' style='width:300px; height:20px; vertical-align: middle;'></progress>\n",
       "      100.00% [700/700 00:12&lt;00:00 Sampling chain 0, 0 divergences]\n",
       "    </div>\n",
       "    "
      ],
      "text/plain": [
       "<IPython.core.display.HTML object>"
      ]
     },
     "metadata": {},
     "output_type": "display_data"
    },
    {
     "name": "stderr",
     "output_type": "stream",
     "text": [
      "Sampling 1 chain for 200 tune and 500 draw iterations (200 + 500 draws total) took 13 seconds.\n",
      "/home/fanpu/Documents/carnegie-mellon/10708/10-708-project/venv/lib/python3.10/site-packages/arviz/data/base.py:221: UserWarning: More chains (500) than draws (1). Passed array should have shape (chains, draws, *shape)\n",
      "  warnings.warn(\n",
      "\n",
      " 42%|██████████████████████████▊                                     | 36/86 [17:43<25:15, 30.32s/it]\u001b[A"
     ]
    },
    {
     "name": "stdout",
     "output_type": "stream",
     "text": [
      "[Vol] ITW\n"
     ]
    },
    {
     "name": "stderr",
     "output_type": "stream",
     "text": [
      "Auto-assigning NUTS sampler...\n",
      "Initializing NUTS using jitter+adapt_diag...\n",
      "Sequential sampling (1 chains in 1 job)\n",
      "NUTS: [sigma, alpha, betas_day, betas_week, betas_month]\n"
     ]
    },
    {
     "data": {
      "text/html": [
       "\n",
       "<style>\n",
       "    /* Turns off some styling */\n",
       "    progress {\n",
       "        /* gets rid of default border in Firefox and Opera. */\n",
       "        border: none;\n",
       "        /* Needs to be in here for Safari polyfill so background images work as expected. */\n",
       "        background-size: auto;\n",
       "    }\n",
       "    progress:not([value]), progress:not([value])::-webkit-progress-bar {\n",
       "        background: repeating-linear-gradient(45deg, #7e7e7e, #7e7e7e 10px, #5c5c5c 10px, #5c5c5c 20px);\n",
       "    }\n",
       "    .progress-bar-interrupted, .progress-bar-interrupted::-webkit-progress-bar {\n",
       "        background: #F44336;\n",
       "    }\n",
       "</style>\n"
      ],
      "text/plain": [
       "<IPython.core.display.HTML object>"
      ]
     },
     "metadata": {},
     "output_type": "display_data"
    },
    {
     "data": {
      "text/html": [
       "\n",
       "    <div>\n",
       "      <progress value='700' class='' max='700' style='width:300px; height:20px; vertical-align: middle;'></progress>\n",
       "      100.00% [700/700 00:08&lt;00:00 Sampling chain 0, 0 divergences]\n",
       "    </div>\n",
       "    "
      ],
      "text/plain": [
       "<IPython.core.display.HTML object>"
      ]
     },
     "metadata": {},
     "output_type": "display_data"
    },
    {
     "name": "stderr",
     "output_type": "stream",
     "text": [
      "Sampling 1 chain for 200 tune and 500 draw iterations (200 + 500 draws total) took 9 seconds.\n",
      "/home/fanpu/Documents/carnegie-mellon/10708/10-708-project/venv/lib/python3.10/site-packages/arviz/data/base.py:221: UserWarning: More chains (500) than draws (1). Passed array should have shape (chains, draws, *shape)\n",
      "  warnings.warn(\n",
      "\n",
      " 43%|███████████████████████████▌                                    | 37/86 [18:06<22:53, 28.03s/it]\u001b[A"
     ]
    },
    {
     "name": "stdout",
     "output_type": "stream",
     "text": [
      "[Vol] EL\n"
     ]
    },
    {
     "name": "stderr",
     "output_type": "stream",
     "text": [
      "Auto-assigning NUTS sampler...\n",
      "Initializing NUTS using jitter+adapt_diag...\n",
      "Sequential sampling (1 chains in 1 job)\n",
      "NUTS: [sigma, alpha, betas_day, betas_week, betas_month]\n"
     ]
    },
    {
     "data": {
      "text/html": [
       "\n",
       "<style>\n",
       "    /* Turns off some styling */\n",
       "    progress {\n",
       "        /* gets rid of default border in Firefox and Opera. */\n",
       "        border: none;\n",
       "        /* Needs to be in here for Safari polyfill so background images work as expected. */\n",
       "        background-size: auto;\n",
       "    }\n",
       "    progress:not([value]), progress:not([value])::-webkit-progress-bar {\n",
       "        background: repeating-linear-gradient(45deg, #7e7e7e, #7e7e7e 10px, #5c5c5c 10px, #5c5c5c 20px);\n",
       "    }\n",
       "    .progress-bar-interrupted, .progress-bar-interrupted::-webkit-progress-bar {\n",
       "        background: #F44336;\n",
       "    }\n",
       "</style>\n"
      ],
      "text/plain": [
       "<IPython.core.display.HTML object>"
      ]
     },
     "metadata": {},
     "output_type": "display_data"
    },
    {
     "data": {
      "text/html": [
       "\n",
       "    <div>\n",
       "      <progress value='700' class='' max='700' style='width:300px; height:20px; vertical-align: middle;'></progress>\n",
       "      100.00% [700/700 00:09&lt;00:00 Sampling chain 0, 0 divergences]\n",
       "    </div>\n",
       "    "
      ],
      "text/plain": [
       "<IPython.core.display.HTML object>"
      ]
     },
     "metadata": {},
     "output_type": "display_data"
    },
    {
     "name": "stderr",
     "output_type": "stream",
     "text": [
      "Sampling 1 chain for 200 tune and 500 draw iterations (200 + 500 draws total) took 10 seconds.\n",
      "/home/fanpu/Documents/carnegie-mellon/10708/10-708-project/venv/lib/python3.10/site-packages/arviz/data/base.py:221: UserWarning: More chains (500) than draws (1). Passed array should have shape (chains, draws, *shape)\n",
      "  warnings.warn(\n",
      "\n",
      " 44%|████████████████████████████▎                                   | 38/86 [18:38<23:15, 29.08s/it]\u001b[A"
     ]
    },
    {
     "name": "stdout",
     "output_type": "stream",
     "text": [
      "[Vol] DXCM\n"
     ]
    },
    {
     "name": "stderr",
     "output_type": "stream",
     "text": [
      "Auto-assigning NUTS sampler...\n",
      "Initializing NUTS using jitter+adapt_diag...\n",
      "Sequential sampling (1 chains in 1 job)\n",
      "NUTS: [sigma, alpha, betas_day, betas_week, betas_month]\n"
     ]
    },
    {
     "data": {
      "text/html": [
       "\n",
       "<style>\n",
       "    /* Turns off some styling */\n",
       "    progress {\n",
       "        /* gets rid of default border in Firefox and Opera. */\n",
       "        border: none;\n",
       "        /* Needs to be in here for Safari polyfill so background images work as expected. */\n",
       "        background-size: auto;\n",
       "    }\n",
       "    progress:not([value]), progress:not([value])::-webkit-progress-bar {\n",
       "        background: repeating-linear-gradient(45deg, #7e7e7e, #7e7e7e 10px, #5c5c5c 10px, #5c5c5c 20px);\n",
       "    }\n",
       "    .progress-bar-interrupted, .progress-bar-interrupted::-webkit-progress-bar {\n",
       "        background: #F44336;\n",
       "    }\n",
       "</style>\n"
      ],
      "text/plain": [
       "<IPython.core.display.HTML object>"
      ]
     },
     "metadata": {},
     "output_type": "display_data"
    },
    {
     "data": {
      "text/html": [
       "\n",
       "    <div>\n",
       "      <progress value='700' class='' max='700' style='width:300px; height:20px; vertical-align: middle;'></progress>\n",
       "      100.00% [700/700 00:13&lt;00:00 Sampling chain 0, 0 divergences]\n",
       "    </div>\n",
       "    "
      ],
      "text/plain": [
       "<IPython.core.display.HTML object>"
      ]
     },
     "metadata": {},
     "output_type": "display_data"
    },
    {
     "name": "stderr",
     "output_type": "stream",
     "text": [
      "Sampling 1 chain for 200 tune and 500 draw iterations (200 + 500 draws total) took 13 seconds.\n",
      "/home/fanpu/Documents/carnegie-mellon/10708/10-708-project/venv/lib/python3.10/site-packages/arviz/data/base.py:221: UserWarning: More chains (500) than draws (1). Passed array should have shape (chains, draws, *shape)\n",
      "  warnings.warn(\n",
      "\n",
      " 45%|█████████████████████████████                                   | 39/86 [19:10<23:27, 29.96s/it]\u001b[A"
     ]
    },
    {
     "name": "stdout",
     "output_type": "stream",
     "text": [
      "[Vol] COO\n"
     ]
    },
    {
     "name": "stderr",
     "output_type": "stream",
     "text": [
      "Auto-assigning NUTS sampler...\n",
      "Initializing NUTS using jitter+adapt_diag...\n",
      "Sequential sampling (1 chains in 1 job)\n",
      "NUTS: [sigma, alpha, betas_day, betas_week, betas_month]\n"
     ]
    },
    {
     "data": {
      "text/html": [
       "\n",
       "<style>\n",
       "    /* Turns off some styling */\n",
       "    progress {\n",
       "        /* gets rid of default border in Firefox and Opera. */\n",
       "        border: none;\n",
       "        /* Needs to be in here for Safari polyfill so background images work as expected. */\n",
       "        background-size: auto;\n",
       "    }\n",
       "    progress:not([value]), progress:not([value])::-webkit-progress-bar {\n",
       "        background: repeating-linear-gradient(45deg, #7e7e7e, #7e7e7e 10px, #5c5c5c 10px, #5c5c5c 20px);\n",
       "    }\n",
       "    .progress-bar-interrupted, .progress-bar-interrupted::-webkit-progress-bar {\n",
       "        background: #F44336;\n",
       "    }\n",
       "</style>\n"
      ],
      "text/plain": [
       "<IPython.core.display.HTML object>"
      ]
     },
     "metadata": {},
     "output_type": "display_data"
    },
    {
     "data": {
      "text/html": [
       "\n",
       "    <div>\n",
       "      <progress value='700' class='' max='700' style='width:300px; height:20px; vertical-align: middle;'></progress>\n",
       "      100.00% [700/700 00:10&lt;00:00 Sampling chain 0, 0 divergences]\n",
       "    </div>\n",
       "    "
      ],
      "text/plain": [
       "<IPython.core.display.HTML object>"
      ]
     },
     "metadata": {},
     "output_type": "display_data"
    },
    {
     "name": "stderr",
     "output_type": "stream",
     "text": [
      "Sampling 1 chain for 200 tune and 500 draw iterations (200 + 500 draws total) took 11 seconds.\n",
      "/home/fanpu/Documents/carnegie-mellon/10708/10-708-project/venv/lib/python3.10/site-packages/arviz/data/base.py:221: UserWarning: More chains (500) than draws (1). Passed array should have shape (chains, draws, *shape)\n",
      "  warnings.warn(\n",
      "\n",
      " 47%|█████████████████████████████▊                                  | 40/86 [19:41<23:19, 30.43s/it]\u001b[A"
     ]
    },
    {
     "name": "stdout",
     "output_type": "stream",
     "text": [
      "[Vol] PKG\n"
     ]
    },
    {
     "name": "stderr",
     "output_type": "stream",
     "text": [
      "Auto-assigning NUTS sampler...\n",
      "Initializing NUTS using jitter+adapt_diag...\n",
      "Sequential sampling (1 chains in 1 job)\n",
      "NUTS: [sigma, alpha, betas_day, betas_week, betas_month]\n"
     ]
    },
    {
     "data": {
      "text/html": [
       "\n",
       "<style>\n",
       "    /* Turns off some styling */\n",
       "    progress {\n",
       "        /* gets rid of default border in Firefox and Opera. */\n",
       "        border: none;\n",
       "        /* Needs to be in here for Safari polyfill so background images work as expected. */\n",
       "        background-size: auto;\n",
       "    }\n",
       "    progress:not([value]), progress:not([value])::-webkit-progress-bar {\n",
       "        background: repeating-linear-gradient(45deg, #7e7e7e, #7e7e7e 10px, #5c5c5c 10px, #5c5c5c 20px);\n",
       "    }\n",
       "    .progress-bar-interrupted, .progress-bar-interrupted::-webkit-progress-bar {\n",
       "        background: #F44336;\n",
       "    }\n",
       "</style>\n"
      ],
      "text/plain": [
       "<IPython.core.display.HTML object>"
      ]
     },
     "metadata": {},
     "output_type": "display_data"
    },
    {
     "data": {
      "text/html": [
       "\n",
       "    <div>\n",
       "      <progress value='700' class='' max='700' style='width:300px; height:20px; vertical-align: middle;'></progress>\n",
       "      100.00% [700/700 00:17&lt;00:00 Sampling chain 0, 0 divergences]\n",
       "    </div>\n",
       "    "
      ],
      "text/plain": [
       "<IPython.core.display.HTML object>"
      ]
     },
     "metadata": {},
     "output_type": "display_data"
    },
    {
     "name": "stderr",
     "output_type": "stream",
     "text": [
      "Sampling 1 chain for 200 tune and 500 draw iterations (200 + 500 draws total) took 17 seconds.\n",
      "/home/fanpu/Documents/carnegie-mellon/10708/10-708-project/venv/lib/python3.10/site-packages/arviz/data/base.py:221: UserWarning: More chains (500) than draws (1). Passed array should have shape (chains, draws, *shape)\n",
      "  warnings.warn(\n",
      "\n",
      " 48%|██████████████████████████████▌                                 | 41/86 [20:23<25:16, 33.71s/it]\u001b[A"
     ]
    },
    {
     "name": "stdout",
     "output_type": "stream",
     "text": [
      "[Vol] AMD\n"
     ]
    },
    {
     "name": "stderr",
     "output_type": "stream",
     "text": [
      "Auto-assigning NUTS sampler...\n",
      "Initializing NUTS using jitter+adapt_diag...\n",
      "Sequential sampling (1 chains in 1 job)\n",
      "NUTS: [sigma, alpha, betas_day, betas_week, betas_month]\n"
     ]
    },
    {
     "data": {
      "text/html": [
       "\n",
       "<style>\n",
       "    /* Turns off some styling */\n",
       "    progress {\n",
       "        /* gets rid of default border in Firefox and Opera. */\n",
       "        border: none;\n",
       "        /* Needs to be in here for Safari polyfill so background images work as expected. */\n",
       "        background-size: auto;\n",
       "    }\n",
       "    progress:not([value]), progress:not([value])::-webkit-progress-bar {\n",
       "        background: repeating-linear-gradient(45deg, #7e7e7e, #7e7e7e 10px, #5c5c5c 10px, #5c5c5c 20px);\n",
       "    }\n",
       "    .progress-bar-interrupted, .progress-bar-interrupted::-webkit-progress-bar {\n",
       "        background: #F44336;\n",
       "    }\n",
       "</style>\n"
      ],
      "text/plain": [
       "<IPython.core.display.HTML object>"
      ]
     },
     "metadata": {},
     "output_type": "display_data"
    },
    {
     "data": {
      "text/html": [
       "\n",
       "    <div>\n",
       "      <progress value='700' class='' max='700' style='width:300px; height:20px; vertical-align: middle;'></progress>\n",
       "      100.00% [700/700 00:08&lt;00:00 Sampling chain 0, 0 divergences]\n",
       "    </div>\n",
       "    "
      ],
      "text/plain": [
       "<IPython.core.display.HTML object>"
      ]
     },
     "metadata": {},
     "output_type": "display_data"
    },
    {
     "name": "stderr",
     "output_type": "stream",
     "text": [
      "Sampling 1 chain for 200 tune and 500 draw iterations (200 + 500 draws total) took 9 seconds.\n",
      "/home/fanpu/Documents/carnegie-mellon/10708/10-708-project/venv/lib/python3.10/site-packages/arviz/data/base.py:221: UserWarning: More chains (500) than draws (1). Passed array should have shape (chains, draws, *shape)\n",
      "  warnings.warn(\n",
      "\n",
      " 49%|███████████████████████████████▎                                | 42/86 [20:48<22:48, 31.11s/it]\u001b[A"
     ]
    },
    {
     "name": "stdout",
     "output_type": "stream",
     "text": [
      "[Vol] ETN\n"
     ]
    },
    {
     "name": "stderr",
     "output_type": "stream",
     "text": [
      "Auto-assigning NUTS sampler...\n",
      "Initializing NUTS using jitter+adapt_diag...\n",
      "Sequential sampling (1 chains in 1 job)\n",
      "NUTS: [sigma, alpha, betas_day, betas_week, betas_month]\n"
     ]
    },
    {
     "data": {
      "text/html": [
       "\n",
       "<style>\n",
       "    /* Turns off some styling */\n",
       "    progress {\n",
       "        /* gets rid of default border in Firefox and Opera. */\n",
       "        border: none;\n",
       "        /* Needs to be in here for Safari polyfill so background images work as expected. */\n",
       "        background-size: auto;\n",
       "    }\n",
       "    progress:not([value]), progress:not([value])::-webkit-progress-bar {\n",
       "        background: repeating-linear-gradient(45deg, #7e7e7e, #7e7e7e 10px, #5c5c5c 10px, #5c5c5c 20px);\n",
       "    }\n",
       "    .progress-bar-interrupted, .progress-bar-interrupted::-webkit-progress-bar {\n",
       "        background: #F44336;\n",
       "    }\n",
       "</style>\n"
      ],
      "text/plain": [
       "<IPython.core.display.HTML object>"
      ]
     },
     "metadata": {},
     "output_type": "display_data"
    },
    {
     "data": {
      "text/html": [
       "\n",
       "    <div>\n",
       "      <progress value='700' class='' max='700' style='width:300px; height:20px; vertical-align: middle;'></progress>\n",
       "      100.00% [700/700 00:10&lt;00:00 Sampling chain 0, 0 divergences]\n",
       "    </div>\n",
       "    "
      ],
      "text/plain": [
       "<IPython.core.display.HTML object>"
      ]
     },
     "metadata": {},
     "output_type": "display_data"
    },
    {
     "name": "stderr",
     "output_type": "stream",
     "text": [
      "Sampling 1 chain for 200 tune and 500 draw iterations (200 + 500 draws total) took 11 seconds.\n",
      "/home/fanpu/Documents/carnegie-mellon/10708/10-708-project/venv/lib/python3.10/site-packages/arviz/data/base.py:221: UserWarning: More chains (500) than draws (1). Passed array should have shape (chains, draws, *shape)\n",
      "  warnings.warn(\n",
      "\n",
      " 50%|████████████████████████████████                                | 43/86 [21:22<23:02, 32.15s/it]\u001b[A"
     ]
    },
    {
     "name": "stdout",
     "output_type": "stream",
     "text": [
      "[Vol] MHK\n"
     ]
    },
    {
     "name": "stderr",
     "output_type": "stream",
     "text": [
      "Auto-assigning NUTS sampler...\n",
      "Initializing NUTS using jitter+adapt_diag...\n",
      "Sequential sampling (1 chains in 1 job)\n",
      "NUTS: [sigma, alpha, betas_day, betas_week, betas_month]\n"
     ]
    },
    {
     "data": {
      "text/html": [
       "\n",
       "<style>\n",
       "    /* Turns off some styling */\n",
       "    progress {\n",
       "        /* gets rid of default border in Firefox and Opera. */\n",
       "        border: none;\n",
       "        /* Needs to be in here for Safari polyfill so background images work as expected. */\n",
       "        background-size: auto;\n",
       "    }\n",
       "    progress:not([value]), progress:not([value])::-webkit-progress-bar {\n",
       "        background: repeating-linear-gradient(45deg, #7e7e7e, #7e7e7e 10px, #5c5c5c 10px, #5c5c5c 20px);\n",
       "    }\n",
       "    .progress-bar-interrupted, .progress-bar-interrupted::-webkit-progress-bar {\n",
       "        background: #F44336;\n",
       "    }\n",
       "</style>\n"
      ],
      "text/plain": [
       "<IPython.core.display.HTML object>"
      ]
     },
     "metadata": {},
     "output_type": "display_data"
    },
    {
     "data": {
      "text/html": [
       "\n",
       "    <div>\n",
       "      <progress value='700' class='' max='700' style='width:300px; height:20px; vertical-align: middle;'></progress>\n",
       "      100.00% [700/700 00:07&lt;00:00 Sampling chain 0, 0 divergences]\n",
       "    </div>\n",
       "    "
      ],
      "text/plain": [
       "<IPython.core.display.HTML object>"
      ]
     },
     "metadata": {},
     "output_type": "display_data"
    },
    {
     "name": "stderr",
     "output_type": "stream",
     "text": [
      "Sampling 1 chain for 200 tune and 500 draw iterations (200 + 500 draws total) took 8 seconds.\n",
      "/home/fanpu/Documents/carnegie-mellon/10708/10-708-project/venv/lib/python3.10/site-packages/arviz/data/base.py:221: UserWarning: More chains (500) than draws (1). Passed array should have shape (chains, draws, *shape)\n",
      "  warnings.warn(\n",
      "\n",
      " 51%|████████████████████████████████▋                               | 44/86 [21:43<20:11, 28.83s/it]\u001b[A"
     ]
    },
    {
     "name": "stdout",
     "output_type": "stream",
     "text": [
      "[Vol] IEX\n"
     ]
    },
    {
     "name": "stderr",
     "output_type": "stream",
     "text": [
      "Auto-assigning NUTS sampler...\n",
      "Initializing NUTS using jitter+adapt_diag...\n",
      "Sequential sampling (1 chains in 1 job)\n",
      "NUTS: [sigma, alpha, betas_day, betas_week, betas_month]\n"
     ]
    },
    {
     "data": {
      "text/html": [
       "\n",
       "<style>\n",
       "    /* Turns off some styling */\n",
       "    progress {\n",
       "        /* gets rid of default border in Firefox and Opera. */\n",
       "        border: none;\n",
       "        /* Needs to be in here for Safari polyfill so background images work as expected. */\n",
       "        background-size: auto;\n",
       "    }\n",
       "    progress:not([value]), progress:not([value])::-webkit-progress-bar {\n",
       "        background: repeating-linear-gradient(45deg, #7e7e7e, #7e7e7e 10px, #5c5c5c 10px, #5c5c5c 20px);\n",
       "    }\n",
       "    .progress-bar-interrupted, .progress-bar-interrupted::-webkit-progress-bar {\n",
       "        background: #F44336;\n",
       "    }\n",
       "</style>\n"
      ],
      "text/plain": [
       "<IPython.core.display.HTML object>"
      ]
     },
     "metadata": {},
     "output_type": "display_data"
    },
    {
     "data": {
      "text/html": [
       "\n",
       "    <div>\n",
       "      <progress value='700' class='' max='700' style='width:300px; height:20px; vertical-align: middle;'></progress>\n",
       "      100.00% [700/700 00:11&lt;00:00 Sampling chain 0, 0 divergences]\n",
       "    </div>\n",
       "    "
      ],
      "text/plain": [
       "<IPython.core.display.HTML object>"
      ]
     },
     "metadata": {},
     "output_type": "display_data"
    },
    {
     "name": "stderr",
     "output_type": "stream",
     "text": [
      "Sampling 1 chain for 200 tune and 500 draw iterations (200 + 500 draws total) took 11 seconds.\n",
      "/home/fanpu/Documents/carnegie-mellon/10708/10-708-project/venv/lib/python3.10/site-packages/arviz/data/base.py:221: UserWarning: More chains (500) than draws (1). Passed array should have shape (chains, draws, *shape)\n",
      "  warnings.warn(\n",
      "\n",
      " 52%|█████████████████████████████████▍                              | 45/86 [22:14<20:08, 29.48s/it]\u001b[A"
     ]
    },
    {
     "name": "stdout",
     "output_type": "stream",
     "text": [
      "[Vol] HON\n"
     ]
    },
    {
     "name": "stderr",
     "output_type": "stream",
     "text": [
      "Auto-assigning NUTS sampler...\n",
      "Initializing NUTS using jitter+adapt_diag...\n",
      "Sequential sampling (1 chains in 1 job)\n",
      "NUTS: [sigma, alpha, betas_day, betas_week, betas_month]\n"
     ]
    },
    {
     "data": {
      "text/html": [
       "\n",
       "<style>\n",
       "    /* Turns off some styling */\n",
       "    progress {\n",
       "        /* gets rid of default border in Firefox and Opera. */\n",
       "        border: none;\n",
       "        /* Needs to be in here for Safari polyfill so background images work as expected. */\n",
       "        background-size: auto;\n",
       "    }\n",
       "    progress:not([value]), progress:not([value])::-webkit-progress-bar {\n",
       "        background: repeating-linear-gradient(45deg, #7e7e7e, #7e7e7e 10px, #5c5c5c 10px, #5c5c5c 20px);\n",
       "    }\n",
       "    .progress-bar-interrupted, .progress-bar-interrupted::-webkit-progress-bar {\n",
       "        background: #F44336;\n",
       "    }\n",
       "</style>\n"
      ],
      "text/plain": [
       "<IPython.core.display.HTML object>"
      ]
     },
     "metadata": {},
     "output_type": "display_data"
    },
    {
     "data": {
      "text/html": [
       "\n",
       "    <div>\n",
       "      <progress value='700' class='' max='700' style='width:300px; height:20px; vertical-align: middle;'></progress>\n",
       "      100.00% [700/700 00:11&lt;00:00 Sampling chain 0, 0 divergences]\n",
       "    </div>\n",
       "    "
      ],
      "text/plain": [
       "<IPython.core.display.HTML object>"
      ]
     },
     "metadata": {},
     "output_type": "display_data"
    },
    {
     "name": "stderr",
     "output_type": "stream",
     "text": [
      "Sampling 1 chain for 200 tune and 500 draw iterations (200 + 500 draws total) took 11 seconds.\n",
      "/home/fanpu/Documents/carnegie-mellon/10708/10-708-project/venv/lib/python3.10/site-packages/arviz/data/base.py:221: UserWarning: More chains (500) than draws (1). Passed array should have shape (chains, draws, *shape)\n",
      "  warnings.warn(\n",
      "\n",
      " 53%|██████████████████████████████████▏                             | 46/86 [22:45<19:51, 29.78s/it]\u001b[A"
     ]
    },
    {
     "name": "stdout",
     "output_type": "stream",
     "text": [
      "[Vol] MKC\n"
     ]
    },
    {
     "name": "stderr",
     "output_type": "stream",
     "text": [
      "Auto-assigning NUTS sampler...\n",
      "Initializing NUTS using jitter+adapt_diag...\n",
      "Sequential sampling (1 chains in 1 job)\n",
      "NUTS: [sigma, alpha, betas_day, betas_week, betas_month]\n"
     ]
    },
    {
     "data": {
      "text/html": [
       "\n",
       "<style>\n",
       "    /* Turns off some styling */\n",
       "    progress {\n",
       "        /* gets rid of default border in Firefox and Opera. */\n",
       "        border: none;\n",
       "        /* Needs to be in here for Safari polyfill so background images work as expected. */\n",
       "        background-size: auto;\n",
       "    }\n",
       "    progress:not([value]), progress:not([value])::-webkit-progress-bar {\n",
       "        background: repeating-linear-gradient(45deg, #7e7e7e, #7e7e7e 10px, #5c5c5c 10px, #5c5c5c 20px);\n",
       "    }\n",
       "    .progress-bar-interrupted, .progress-bar-interrupted::-webkit-progress-bar {\n",
       "        background: #F44336;\n",
       "    }\n",
       "</style>\n"
      ],
      "text/plain": [
       "<IPython.core.display.HTML object>"
      ]
     },
     "metadata": {},
     "output_type": "display_data"
    },
    {
     "data": {
      "text/html": [
       "\n",
       "    <div>\n",
       "      <progress value='700' class='' max='700' style='width:300px; height:20px; vertical-align: middle;'></progress>\n",
       "      100.00% [700/700 00:09&lt;00:00 Sampling chain 0, 0 divergences]\n",
       "    </div>\n",
       "    "
      ],
      "text/plain": [
       "<IPython.core.display.HTML object>"
      ]
     },
     "metadata": {},
     "output_type": "display_data"
    },
    {
     "name": "stderr",
     "output_type": "stream",
     "text": [
      "Sampling 1 chain for 200 tune and 500 draw iterations (200 + 500 draws total) took 9 seconds.\n",
      "/home/fanpu/Documents/carnegie-mellon/10708/10-708-project/venv/lib/python3.10/site-packages/arviz/data/base.py:221: UserWarning: More chains (500) than draws (1). Passed array should have shape (chains, draws, *shape)\n",
      "  warnings.warn(\n",
      "\n",
      " 55%|██████████████████████████████████▉                             | 47/86 [23:14<19:17, 29.69s/it]\u001b[A"
     ]
    },
    {
     "name": "stdout",
     "output_type": "stream",
     "text": [
      "[Vol] MO\n"
     ]
    },
    {
     "name": "stderr",
     "output_type": "stream",
     "text": [
      "Auto-assigning NUTS sampler...\n",
      "Initializing NUTS using jitter+adapt_diag...\n",
      "Sequential sampling (1 chains in 1 job)\n",
      "NUTS: [sigma, alpha, betas_day, betas_week, betas_month]\n"
     ]
    },
    {
     "data": {
      "text/html": [
       "\n",
       "<style>\n",
       "    /* Turns off some styling */\n",
       "    progress {\n",
       "        /* gets rid of default border in Firefox and Opera. */\n",
       "        border: none;\n",
       "        /* Needs to be in here for Safari polyfill so background images work as expected. */\n",
       "        background-size: auto;\n",
       "    }\n",
       "    progress:not([value]), progress:not([value])::-webkit-progress-bar {\n",
       "        background: repeating-linear-gradient(45deg, #7e7e7e, #7e7e7e 10px, #5c5c5c 10px, #5c5c5c 20px);\n",
       "    }\n",
       "    .progress-bar-interrupted, .progress-bar-interrupted::-webkit-progress-bar {\n",
       "        background: #F44336;\n",
       "    }\n",
       "</style>\n"
      ],
      "text/plain": [
       "<IPython.core.display.HTML object>"
      ]
     },
     "metadata": {},
     "output_type": "display_data"
    },
    {
     "data": {
      "text/html": [
       "\n",
       "    <div>\n",
       "      <progress value='700' class='' max='700' style='width:300px; height:20px; vertical-align: middle;'></progress>\n",
       "      100.00% [700/700 00:11&lt;00:00 Sampling chain 0, 0 divergences]\n",
       "    </div>\n",
       "    "
      ],
      "text/plain": [
       "<IPython.core.display.HTML object>"
      ]
     },
     "metadata": {},
     "output_type": "display_data"
    },
    {
     "name": "stderr",
     "output_type": "stream",
     "text": [
      "Sampling 1 chain for 200 tune and 500 draw iterations (200 + 500 draws total) took 12 seconds.\n",
      "/home/fanpu/Documents/carnegie-mellon/10708/10-708-project/venv/lib/python3.10/site-packages/arviz/data/base.py:221: UserWarning: More chains (500) than draws (1). Passed array should have shape (chains, draws, *shape)\n",
      "  warnings.warn(\n",
      "\n",
      " 56%|███████████████████████████████████▋                            | 48/86 [23:40<17:59, 28.41s/it]\u001b[A"
     ]
    },
    {
     "name": "stdout",
     "output_type": "stream",
     "text": [
      "[Vol] BIO\n"
     ]
    },
    {
     "name": "stderr",
     "output_type": "stream",
     "text": [
      "Auto-assigning NUTS sampler...\n",
      "Initializing NUTS using jitter+adapt_diag...\n",
      "Sequential sampling (1 chains in 1 job)\n",
      "NUTS: [sigma, alpha, betas_day, betas_week, betas_month]\n"
     ]
    },
    {
     "data": {
      "text/html": [
       "\n",
       "<style>\n",
       "    /* Turns off some styling */\n",
       "    progress {\n",
       "        /* gets rid of default border in Firefox and Opera. */\n",
       "        border: none;\n",
       "        /* Needs to be in here for Safari polyfill so background images work as expected. */\n",
       "        background-size: auto;\n",
       "    }\n",
       "    progress:not([value]), progress:not([value])::-webkit-progress-bar {\n",
       "        background: repeating-linear-gradient(45deg, #7e7e7e, #7e7e7e 10px, #5c5c5c 10px, #5c5c5c 20px);\n",
       "    }\n",
       "    .progress-bar-interrupted, .progress-bar-interrupted::-webkit-progress-bar {\n",
       "        background: #F44336;\n",
       "    }\n",
       "</style>\n"
      ],
      "text/plain": [
       "<IPython.core.display.HTML object>"
      ]
     },
     "metadata": {},
     "output_type": "display_data"
    },
    {
     "data": {
      "text/html": [
       "\n",
       "    <div>\n",
       "      <progress value='700' class='' max='700' style='width:300px; height:20px; vertical-align: middle;'></progress>\n",
       "      100.00% [700/700 00:08&lt;00:00 Sampling chain 0, 0 divergences]\n",
       "    </div>\n",
       "    "
      ],
      "text/plain": [
       "<IPython.core.display.HTML object>"
      ]
     },
     "metadata": {},
     "output_type": "display_data"
    },
    {
     "name": "stderr",
     "output_type": "stream",
     "text": [
      "Sampling 1 chain for 200 tune and 500 draw iterations (200 + 500 draws total) took 9 seconds.\n",
      "/home/fanpu/Documents/carnegie-mellon/10708/10-708-project/venv/lib/python3.10/site-packages/arviz/data/base.py:221: UserWarning: More chains (500) than draws (1). Passed array should have shape (chains, draws, *shape)\n",
      "  warnings.warn(\n",
      "\n",
      " 57%|████████████████████████████████████▍                           | 49/86 [24:04<16:46, 27.21s/it]\u001b[A"
     ]
    },
    {
     "name": "stdout",
     "output_type": "stream",
     "text": [
      "[Vol] DIS\n"
     ]
    },
    {
     "name": "stderr",
     "output_type": "stream",
     "text": [
      "Auto-assigning NUTS sampler...\n",
      "Initializing NUTS using jitter+adapt_diag...\n",
      "Sequential sampling (1 chains in 1 job)\n",
      "NUTS: [sigma, alpha, betas_day, betas_week, betas_month]\n"
     ]
    },
    {
     "data": {
      "text/html": [
       "\n",
       "<style>\n",
       "    /* Turns off some styling */\n",
       "    progress {\n",
       "        /* gets rid of default border in Firefox and Opera. */\n",
       "        border: none;\n",
       "        /* Needs to be in here for Safari polyfill so background images work as expected. */\n",
       "        background-size: auto;\n",
       "    }\n",
       "    progress:not([value]), progress:not([value])::-webkit-progress-bar {\n",
       "        background: repeating-linear-gradient(45deg, #7e7e7e, #7e7e7e 10px, #5c5c5c 10px, #5c5c5c 20px);\n",
       "    }\n",
       "    .progress-bar-interrupted, .progress-bar-interrupted::-webkit-progress-bar {\n",
       "        background: #F44336;\n",
       "    }\n",
       "</style>\n"
      ],
      "text/plain": [
       "<IPython.core.display.HTML object>"
      ]
     },
     "metadata": {},
     "output_type": "display_data"
    },
    {
     "data": {
      "text/html": [
       "\n",
       "    <div>\n",
       "      <progress value='700' class='' max='700' style='width:300px; height:20px; vertical-align: middle;'></progress>\n",
       "      100.00% [700/700 00:08&lt;00:00 Sampling chain 0, 0 divergences]\n",
       "    </div>\n",
       "    "
      ],
      "text/plain": [
       "<IPython.core.display.HTML object>"
      ]
     },
     "metadata": {},
     "output_type": "display_data"
    },
    {
     "name": "stderr",
     "output_type": "stream",
     "text": [
      "Sampling 1 chain for 200 tune and 500 draw iterations (200 + 500 draws total) took 8 seconds.\n",
      "/home/fanpu/Documents/carnegie-mellon/10708/10-708-project/venv/lib/python3.10/site-packages/arviz/data/base.py:221: UserWarning: More chains (500) than draws (1). Passed array should have shape (chains, draws, *shape)\n",
      "  warnings.warn(\n",
      "\n",
      " 58%|█████████████████████████████████████▏                          | 50/86 [24:24<14:58, 24.97s/it]\u001b[A"
     ]
    },
    {
     "name": "stdout",
     "output_type": "stream",
     "text": [
      "[Vol] NFLX\n"
     ]
    },
    {
     "name": "stderr",
     "output_type": "stream",
     "text": [
      "Auto-assigning NUTS sampler...\n",
      "Initializing NUTS using jitter+adapt_diag...\n",
      "Sequential sampling (1 chains in 1 job)\n",
      "NUTS: [sigma, alpha, betas_day, betas_week, betas_month]\n"
     ]
    },
    {
     "data": {
      "text/html": [
       "\n",
       "<style>\n",
       "    /* Turns off some styling */\n",
       "    progress {\n",
       "        /* gets rid of default border in Firefox and Opera. */\n",
       "        border: none;\n",
       "        /* Needs to be in here for Safari polyfill so background images work as expected. */\n",
       "        background-size: auto;\n",
       "    }\n",
       "    progress:not([value]), progress:not([value])::-webkit-progress-bar {\n",
       "        background: repeating-linear-gradient(45deg, #7e7e7e, #7e7e7e 10px, #5c5c5c 10px, #5c5c5c 20px);\n",
       "    }\n",
       "    .progress-bar-interrupted, .progress-bar-interrupted::-webkit-progress-bar {\n",
       "        background: #F44336;\n",
       "    }\n",
       "</style>\n"
      ],
      "text/plain": [
       "<IPython.core.display.HTML object>"
      ]
     },
     "metadata": {},
     "output_type": "display_data"
    },
    {
     "data": {
      "text/html": [
       "\n",
       "    <div>\n",
       "      <progress value='700' class='' max='700' style='width:300px; height:20px; vertical-align: middle;'></progress>\n",
       "      100.00% [700/700 00:11&lt;00:00 Sampling chain 0, 0 divergences]\n",
       "    </div>\n",
       "    "
      ],
      "text/plain": [
       "<IPython.core.display.HTML object>"
      ]
     },
     "metadata": {},
     "output_type": "display_data"
    },
    {
     "name": "stderr",
     "output_type": "stream",
     "text": [
      "Sampling 1 chain for 200 tune and 500 draw iterations (200 + 500 draws total) took 12 seconds.\n",
      "/home/fanpu/Documents/carnegie-mellon/10708/10-708-project/venv/lib/python3.10/site-packages/arviz/data/base.py:221: UserWarning: More chains (500) than draws (1). Passed array should have shape (chains, draws, *shape)\n",
      "  warnings.warn(\n",
      "\n",
      " 59%|█████████████████████████████████████▉                          | 51/86 [24:50<14:51, 25.47s/it]\u001b[A"
     ]
    },
    {
     "name": "stdout",
     "output_type": "stream",
     "text": [
      "[Vol] RL\n"
     ]
    },
    {
     "name": "stderr",
     "output_type": "stream",
     "text": [
      "Auto-assigning NUTS sampler...\n",
      "Initializing NUTS using jitter+adapt_diag...\n",
      "Sequential sampling (1 chains in 1 job)\n",
      "NUTS: [sigma, alpha, betas_day, betas_week, betas_month]\n"
     ]
    },
    {
     "data": {
      "text/html": [
       "\n",
       "<style>\n",
       "    /* Turns off some styling */\n",
       "    progress {\n",
       "        /* gets rid of default border in Firefox and Opera. */\n",
       "        border: none;\n",
       "        /* Needs to be in here for Safari polyfill so background images work as expected. */\n",
       "        background-size: auto;\n",
       "    }\n",
       "    progress:not([value]), progress:not([value])::-webkit-progress-bar {\n",
       "        background: repeating-linear-gradient(45deg, #7e7e7e, #7e7e7e 10px, #5c5c5c 10px, #5c5c5c 20px);\n",
       "    }\n",
       "    .progress-bar-interrupted, .progress-bar-interrupted::-webkit-progress-bar {\n",
       "        background: #F44336;\n",
       "    }\n",
       "</style>\n"
      ],
      "text/plain": [
       "<IPython.core.display.HTML object>"
      ]
     },
     "metadata": {},
     "output_type": "display_data"
    },
    {
     "data": {
      "text/html": [
       "\n",
       "    <div>\n",
       "      <progress value='700' class='' max='700' style='width:300px; height:20px; vertical-align: middle;'></progress>\n",
       "      100.00% [700/700 00:07&lt;00:00 Sampling chain 0, 0 divergences]\n",
       "    </div>\n",
       "    "
      ],
      "text/plain": [
       "<IPython.core.display.HTML object>"
      ]
     },
     "metadata": {},
     "output_type": "display_data"
    },
    {
     "name": "stderr",
     "output_type": "stream",
     "text": [
      "Sampling 1 chain for 200 tune and 500 draw iterations (200 + 500 draws total) took 8 seconds.\n",
      "/home/fanpu/Documents/carnegie-mellon/10708/10-708-project/venv/lib/python3.10/site-packages/arviz/data/base.py:221: UserWarning: More chains (500) than draws (1). Passed array should have shape (chains, draws, *shape)\n",
      "  warnings.warn(\n",
      "\n",
      " 60%|██████████████████████████████████████▋                         | 52/86 [25:06<12:42, 22.41s/it]\u001b[A"
     ]
    },
    {
     "name": "stdout",
     "output_type": "stream",
     "text": [
      "[Vol] CSX\n"
     ]
    },
    {
     "name": "stderr",
     "output_type": "stream",
     "text": [
      "Auto-assigning NUTS sampler...\n",
      "Initializing NUTS using jitter+adapt_diag...\n",
      "Sequential sampling (1 chains in 1 job)\n",
      "NUTS: [sigma, alpha, betas_day, betas_week, betas_month]\n"
     ]
    },
    {
     "data": {
      "text/html": [
       "\n",
       "<style>\n",
       "    /* Turns off some styling */\n",
       "    progress {\n",
       "        /* gets rid of default border in Firefox and Opera. */\n",
       "        border: none;\n",
       "        /* Needs to be in here for Safari polyfill so background images work as expected. */\n",
       "        background-size: auto;\n",
       "    }\n",
       "    progress:not([value]), progress:not([value])::-webkit-progress-bar {\n",
       "        background: repeating-linear-gradient(45deg, #7e7e7e, #7e7e7e 10px, #5c5c5c 10px, #5c5c5c 20px);\n",
       "    }\n",
       "    .progress-bar-interrupted, .progress-bar-interrupted::-webkit-progress-bar {\n",
       "        background: #F44336;\n",
       "    }\n",
       "</style>\n"
      ],
      "text/plain": [
       "<IPython.core.display.HTML object>"
      ]
     },
     "metadata": {},
     "output_type": "display_data"
    },
    {
     "data": {
      "text/html": [
       "\n",
       "    <div>\n",
       "      <progress value='700' class='' max='700' style='width:300px; height:20px; vertical-align: middle;'></progress>\n",
       "      100.00% [700/700 00:09&lt;00:00 Sampling chain 0, 0 divergences]\n",
       "    </div>\n",
       "    "
      ],
      "text/plain": [
       "<IPython.core.display.HTML object>"
      ]
     },
     "metadata": {},
     "output_type": "display_data"
    },
    {
     "name": "stderr",
     "output_type": "stream",
     "text": [
      "Sampling 1 chain for 200 tune and 500 draw iterations (200 + 500 draws total) took 9 seconds.\n",
      "/home/fanpu/Documents/carnegie-mellon/10708/10-708-project/venv/lib/python3.10/site-packages/arviz/data/base.py:221: UserWarning: More chains (500) than draws (1). Passed array should have shape (chains, draws, *shape)\n",
      "  warnings.warn(\n",
      "\n",
      " 62%|███████████████████████████████████████▍                        | 53/86 [25:28<12:16, 22.31s/it]\u001b[A"
     ]
    },
    {
     "name": "stdout",
     "output_type": "stream",
     "text": [
      "[Vol] T\n"
     ]
    },
    {
     "name": "stderr",
     "output_type": "stream",
     "text": [
      "Auto-assigning NUTS sampler...\n",
      "Initializing NUTS using jitter+adapt_diag...\n",
      "Sequential sampling (1 chains in 1 job)\n",
      "NUTS: [sigma, alpha, betas_day, betas_week, betas_month]\n"
     ]
    },
    {
     "data": {
      "text/html": [
       "\n",
       "<style>\n",
       "    /* Turns off some styling */\n",
       "    progress {\n",
       "        /* gets rid of default border in Firefox and Opera. */\n",
       "        border: none;\n",
       "        /* Needs to be in here for Safari polyfill so background images work as expected. */\n",
       "        background-size: auto;\n",
       "    }\n",
       "    progress:not([value]), progress:not([value])::-webkit-progress-bar {\n",
       "        background: repeating-linear-gradient(45deg, #7e7e7e, #7e7e7e 10px, #5c5c5c 10px, #5c5c5c 20px);\n",
       "    }\n",
       "    .progress-bar-interrupted, .progress-bar-interrupted::-webkit-progress-bar {\n",
       "        background: #F44336;\n",
       "    }\n",
       "</style>\n"
      ],
      "text/plain": [
       "<IPython.core.display.HTML object>"
      ]
     },
     "metadata": {},
     "output_type": "display_data"
    },
    {
     "data": {
      "text/html": [
       "\n",
       "    <div>\n",
       "      <progress value='700' class='' max='700' style='width:300px; height:20px; vertical-align: middle;'></progress>\n",
       "      100.00% [700/700 00:09&lt;00:00 Sampling chain 0, 0 divergences]\n",
       "    </div>\n",
       "    "
      ],
      "text/plain": [
       "<IPython.core.display.HTML object>"
      ]
     },
     "metadata": {},
     "output_type": "display_data"
    },
    {
     "name": "stderr",
     "output_type": "stream",
     "text": [
      "Sampling 1 chain for 200 tune and 500 draw iterations (200 + 500 draws total) took 9 seconds.\n",
      "/home/fanpu/Documents/carnegie-mellon/10708/10-708-project/venv/lib/python3.10/site-packages/arviz/data/base.py:221: UserWarning: More chains (500) than draws (1). Passed array should have shape (chains, draws, *shape)\n",
      "  warnings.warn(\n",
      "\n",
      " 63%|████████████████████████████████████████▏                       | 54/86 [25:48<11:31, 21.60s/it]\u001b[A"
     ]
    },
    {
     "name": "stdout",
     "output_type": "stream",
     "text": [
      "[Vol] WM\n"
     ]
    },
    {
     "name": "stderr",
     "output_type": "stream",
     "text": [
      "Auto-assigning NUTS sampler...\n",
      "Initializing NUTS using jitter+adapt_diag...\n",
      "Sequential sampling (1 chains in 1 job)\n",
      "NUTS: [sigma, alpha, betas_day, betas_week, betas_month]\n"
     ]
    },
    {
     "data": {
      "text/html": [
       "\n",
       "<style>\n",
       "    /* Turns off some styling */\n",
       "    progress {\n",
       "        /* gets rid of default border in Firefox and Opera. */\n",
       "        border: none;\n",
       "        /* Needs to be in here for Safari polyfill so background images work as expected. */\n",
       "        background-size: auto;\n",
       "    }\n",
       "    progress:not([value]), progress:not([value])::-webkit-progress-bar {\n",
       "        background: repeating-linear-gradient(45deg, #7e7e7e, #7e7e7e 10px, #5c5c5c 10px, #5c5c5c 20px);\n",
       "    }\n",
       "    .progress-bar-interrupted, .progress-bar-interrupted::-webkit-progress-bar {\n",
       "        background: #F44336;\n",
       "    }\n",
       "</style>\n"
      ],
      "text/plain": [
       "<IPython.core.display.HTML object>"
      ]
     },
     "metadata": {},
     "output_type": "display_data"
    },
    {
     "data": {
      "text/html": [
       "\n",
       "    <div>\n",
       "      <progress value='700' class='' max='700' style='width:300px; height:20px; vertical-align: middle;'></progress>\n",
       "      100.00% [700/700 00:11&lt;00:00 Sampling chain 0, 0 divergences]\n",
       "    </div>\n",
       "    "
      ],
      "text/plain": [
       "<IPython.core.display.HTML object>"
      ]
     },
     "metadata": {},
     "output_type": "display_data"
    },
    {
     "name": "stderr",
     "output_type": "stream",
     "text": [
      "Sampling 1 chain for 200 tune and 500 draw iterations (200 + 500 draws total) took 11 seconds.\n",
      "/home/fanpu/Documents/carnegie-mellon/10708/10-708-project/venv/lib/python3.10/site-packages/arviz/data/base.py:221: UserWarning: More chains (500) than draws (1). Passed array should have shape (chains, draws, *shape)\n",
      "  warnings.warn(\n",
      "\n",
      " 64%|████████████████████████████████████████▉                       | 55/86 [26:13<11:41, 22.63s/it]\u001b[A"
     ]
    },
    {
     "name": "stdout",
     "output_type": "stream",
     "text": [
      "[Vol] TER\n"
     ]
    },
    {
     "name": "stderr",
     "output_type": "stream",
     "text": [
      "Auto-assigning NUTS sampler...\n",
      "Initializing NUTS using jitter+adapt_diag...\n",
      "Sequential sampling (1 chains in 1 job)\n",
      "NUTS: [sigma, alpha, betas_day, betas_week, betas_month]\n"
     ]
    },
    {
     "data": {
      "text/html": [
       "\n",
       "<style>\n",
       "    /* Turns off some styling */\n",
       "    progress {\n",
       "        /* gets rid of default border in Firefox and Opera. */\n",
       "        border: none;\n",
       "        /* Needs to be in here for Safari polyfill so background images work as expected. */\n",
       "        background-size: auto;\n",
       "    }\n",
       "    progress:not([value]), progress:not([value])::-webkit-progress-bar {\n",
       "        background: repeating-linear-gradient(45deg, #7e7e7e, #7e7e7e 10px, #5c5c5c 10px, #5c5c5c 20px);\n",
       "    }\n",
       "    .progress-bar-interrupted, .progress-bar-interrupted::-webkit-progress-bar {\n",
       "        background: #F44336;\n",
       "    }\n",
       "</style>\n"
      ],
      "text/plain": [
       "<IPython.core.display.HTML object>"
      ]
     },
     "metadata": {},
     "output_type": "display_data"
    },
    {
     "data": {
      "text/html": [
       "\n",
       "    <div>\n",
       "      <progress value='700' class='' max='700' style='width:300px; height:20px; vertical-align: middle;'></progress>\n",
       "      100.00% [700/700 00:10&lt;00:00 Sampling chain 0, 0 divergences]\n",
       "    </div>\n",
       "    "
      ],
      "text/plain": [
       "<IPython.core.display.HTML object>"
      ]
     },
     "metadata": {},
     "output_type": "display_data"
    },
    {
     "name": "stderr",
     "output_type": "stream",
     "text": [
      "Sampling 1 chain for 200 tune and 500 draw iterations (200 + 500 draws total) took 11 seconds.\n",
      "/home/fanpu/Documents/carnegie-mellon/10708/10-708-project/venv/lib/python3.10/site-packages/arviz/data/base.py:221: UserWarning: More chains (500) than draws (1). Passed array should have shape (chains, draws, *shape)\n",
      "  warnings.warn(\n",
      "\n",
      " 65%|█████████████████████████████████████████▋                      | 56/86 [26:50<13:28, 26.96s/it]\u001b[A"
     ]
    },
    {
     "name": "stdout",
     "output_type": "stream",
     "text": [
      "[Vol] CRL\n"
     ]
    },
    {
     "name": "stderr",
     "output_type": "stream",
     "text": [
      "Auto-assigning NUTS sampler...\n",
      "Initializing NUTS using jitter+adapt_diag...\n",
      "Sequential sampling (1 chains in 1 job)\n",
      "NUTS: [sigma, alpha, betas_day, betas_week, betas_month]\n"
     ]
    },
    {
     "data": {
      "text/html": [
       "\n",
       "<style>\n",
       "    /* Turns off some styling */\n",
       "    progress {\n",
       "        /* gets rid of default border in Firefox and Opera. */\n",
       "        border: none;\n",
       "        /* Needs to be in here for Safari polyfill so background images work as expected. */\n",
       "        background-size: auto;\n",
       "    }\n",
       "    progress:not([value]), progress:not([value])::-webkit-progress-bar {\n",
       "        background: repeating-linear-gradient(45deg, #7e7e7e, #7e7e7e 10px, #5c5c5c 10px, #5c5c5c 20px);\n",
       "    }\n",
       "    .progress-bar-interrupted, .progress-bar-interrupted::-webkit-progress-bar {\n",
       "        background: #F44336;\n",
       "    }\n",
       "</style>\n"
      ],
      "text/plain": [
       "<IPython.core.display.HTML object>"
      ]
     },
     "metadata": {},
     "output_type": "display_data"
    },
    {
     "data": {
      "text/html": [
       "\n",
       "    <div>\n",
       "      <progress value='700' class='' max='700' style='width:300px; height:20px; vertical-align: middle;'></progress>\n",
       "      100.00% [700/700 00:12&lt;00:00 Sampling chain 0, 0 divergences]\n",
       "    </div>\n",
       "    "
      ],
      "text/plain": [
       "<IPython.core.display.HTML object>"
      ]
     },
     "metadata": {},
     "output_type": "display_data"
    },
    {
     "name": "stderr",
     "output_type": "stream",
     "text": [
      "Sampling 1 chain for 200 tune and 500 draw iterations (200 + 500 draws total) took 13 seconds.\n",
      "/home/fanpu/Documents/carnegie-mellon/10708/10-708-project/venv/lib/python3.10/site-packages/arviz/data/base.py:221: UserWarning: More chains (500) than draws (1). Passed array should have shape (chains, draws, *shape)\n",
      "  warnings.warn(\n",
      "\n",
      " 66%|██████████████████████████████████████████▍                     | 57/86 [27:18<13:12, 27.32s/it]\u001b[A"
     ]
    },
    {
     "name": "stdout",
     "output_type": "stream",
     "text": [
      "[Vol] CL\n"
     ]
    },
    {
     "name": "stderr",
     "output_type": "stream",
     "text": [
      "Auto-assigning NUTS sampler...\n",
      "Initializing NUTS using jitter+adapt_diag...\n",
      "Sequential sampling (1 chains in 1 job)\n",
      "NUTS: [sigma, alpha, betas_day, betas_week, betas_month]\n"
     ]
    },
    {
     "data": {
      "text/html": [
       "\n",
       "<style>\n",
       "    /* Turns off some styling */\n",
       "    progress {\n",
       "        /* gets rid of default border in Firefox and Opera. */\n",
       "        border: none;\n",
       "        /* Needs to be in here for Safari polyfill so background images work as expected. */\n",
       "        background-size: auto;\n",
       "    }\n",
       "    progress:not([value]), progress:not([value])::-webkit-progress-bar {\n",
       "        background: repeating-linear-gradient(45deg, #7e7e7e, #7e7e7e 10px, #5c5c5c 10px, #5c5c5c 20px);\n",
       "    }\n",
       "    .progress-bar-interrupted, .progress-bar-interrupted::-webkit-progress-bar {\n",
       "        background: #F44336;\n",
       "    }\n",
       "</style>\n"
      ],
      "text/plain": [
       "<IPython.core.display.HTML object>"
      ]
     },
     "metadata": {},
     "output_type": "display_data"
    },
    {
     "data": {
      "text/html": [
       "\n",
       "    <div>\n",
       "      <progress value='700' class='' max='700' style='width:300px; height:20px; vertical-align: middle;'></progress>\n",
       "      100.00% [700/700 00:08&lt;00:00 Sampling chain 0, 0 divergences]\n",
       "    </div>\n",
       "    "
      ],
      "text/plain": [
       "<IPython.core.display.HTML object>"
      ]
     },
     "metadata": {},
     "output_type": "display_data"
    },
    {
     "name": "stderr",
     "output_type": "stream",
     "text": [
      "Sampling 1 chain for 200 tune and 500 draw iterations (200 + 500 draws total) took 9 seconds.\n",
      "/home/fanpu/Documents/carnegie-mellon/10708/10-708-project/venv/lib/python3.10/site-packages/arviz/data/base.py:221: UserWarning: More chains (500) than draws (1). Passed array should have shape (chains, draws, *shape)\n",
      "  warnings.warn(\n",
      "\n",
      " 67%|███████████████████████████████████████████▏                    | 58/86 [27:46<12:50, 27.52s/it]\u001b[A"
     ]
    },
    {
     "name": "stdout",
     "output_type": "stream",
     "text": [
      "[Vol] JKHY\n"
     ]
    },
    {
     "name": "stderr",
     "output_type": "stream",
     "text": [
      "Auto-assigning NUTS sampler...\n",
      "Initializing NUTS using jitter+adapt_diag...\n",
      "Sequential sampling (1 chains in 1 job)\n",
      "NUTS: [sigma, alpha, betas_day, betas_week, betas_month]\n"
     ]
    },
    {
     "data": {
      "text/html": [
       "\n",
       "<style>\n",
       "    /* Turns off some styling */\n",
       "    progress {\n",
       "        /* gets rid of default border in Firefox and Opera. */\n",
       "        border: none;\n",
       "        /* Needs to be in here for Safari polyfill so background images work as expected. */\n",
       "        background-size: auto;\n",
       "    }\n",
       "    progress:not([value]), progress:not([value])::-webkit-progress-bar {\n",
       "        background: repeating-linear-gradient(45deg, #7e7e7e, #7e7e7e 10px, #5c5c5c 10px, #5c5c5c 20px);\n",
       "    }\n",
       "    .progress-bar-interrupted, .progress-bar-interrupted::-webkit-progress-bar {\n",
       "        background: #F44336;\n",
       "    }\n",
       "</style>\n"
      ],
      "text/plain": [
       "<IPython.core.display.HTML object>"
      ]
     },
     "metadata": {},
     "output_type": "display_data"
    },
    {
     "data": {
      "text/html": [
       "\n",
       "    <div>\n",
       "      <progress value='700' class='' max='700' style='width:300px; height:20px; vertical-align: middle;'></progress>\n",
       "      100.00% [700/700 00:12&lt;00:00 Sampling chain 0, 0 divergences]\n",
       "    </div>\n",
       "    "
      ],
      "text/plain": [
       "<IPython.core.display.HTML object>"
      ]
     },
     "metadata": {},
     "output_type": "display_data"
    },
    {
     "name": "stderr",
     "output_type": "stream",
     "text": [
      "Sampling 1 chain for 200 tune and 500 draw iterations (200 + 500 draws total) took 12 seconds.\n",
      "/home/fanpu/Documents/carnegie-mellon/10708/10-708-project/venv/lib/python3.10/site-packages/arviz/data/base.py:221: UserWarning: More chains (500) than draws (1). Passed array should have shape (chains, draws, *shape)\n",
      "  warnings.warn(\n",
      "\n",
      " 69%|███████████████████████████████████████████▉                    | 59/86 [28:14<12:25, 27.62s/it]\u001b[A"
     ]
    },
    {
     "name": "stdout",
     "output_type": "stream",
     "text": [
      "[Vol] USB\n"
     ]
    },
    {
     "name": "stderr",
     "output_type": "stream",
     "text": [
      "Auto-assigning NUTS sampler...\n",
      "Initializing NUTS using jitter+adapt_diag...\n",
      "Sequential sampling (1 chains in 1 job)\n",
      "NUTS: [sigma, alpha, betas_day, betas_week, betas_month]\n"
     ]
    },
    {
     "data": {
      "text/html": [
       "\n",
       "<style>\n",
       "    /* Turns off some styling */\n",
       "    progress {\n",
       "        /* gets rid of default border in Firefox and Opera. */\n",
       "        border: none;\n",
       "        /* Needs to be in here for Safari polyfill so background images work as expected. */\n",
       "        background-size: auto;\n",
       "    }\n",
       "    progress:not([value]), progress:not([value])::-webkit-progress-bar {\n",
       "        background: repeating-linear-gradient(45deg, #7e7e7e, #7e7e7e 10px, #5c5c5c 10px, #5c5c5c 20px);\n",
       "    }\n",
       "    .progress-bar-interrupted, .progress-bar-interrupted::-webkit-progress-bar {\n",
       "        background: #F44336;\n",
       "    }\n",
       "</style>\n"
      ],
      "text/plain": [
       "<IPython.core.display.HTML object>"
      ]
     },
     "metadata": {},
     "output_type": "display_data"
    },
    {
     "data": {
      "text/html": [
       "\n",
       "    <div>\n",
       "      <progress value='700' class='' max='700' style='width:300px; height:20px; vertical-align: middle;'></progress>\n",
       "      100.00% [700/700 00:08&lt;00:00 Sampling chain 0, 0 divergences]\n",
       "    </div>\n",
       "    "
      ],
      "text/plain": [
       "<IPython.core.display.HTML object>"
      ]
     },
     "metadata": {},
     "output_type": "display_data"
    },
    {
     "name": "stderr",
     "output_type": "stream",
     "text": [
      "Sampling 1 chain for 200 tune and 500 draw iterations (200 + 500 draws total) took 8 seconds.\n",
      "/home/fanpu/Documents/carnegie-mellon/10708/10-708-project/venv/lib/python3.10/site-packages/arviz/data/base.py:221: UserWarning: More chains (500) than draws (1). Passed array should have shape (chains, draws, *shape)\n",
      "  warnings.warn(\n",
      "\n",
      " 70%|████████████████████████████████████████████▋                   | 60/86 [28:34<11:01, 25.43s/it]\u001b[A"
     ]
    },
    {
     "name": "stdout",
     "output_type": "stream",
     "text": [
      "[Vol] COF\n"
     ]
    },
    {
     "name": "stderr",
     "output_type": "stream",
     "text": [
      "Auto-assigning NUTS sampler...\n",
      "Initializing NUTS using jitter+adapt_diag...\n",
      "Sequential sampling (1 chains in 1 job)\n",
      "NUTS: [sigma, alpha, betas_day, betas_week, betas_month]\n"
     ]
    },
    {
     "data": {
      "text/html": [
       "\n",
       "<style>\n",
       "    /* Turns off some styling */\n",
       "    progress {\n",
       "        /* gets rid of default border in Firefox and Opera. */\n",
       "        border: none;\n",
       "        /* Needs to be in here for Safari polyfill so background images work as expected. */\n",
       "        background-size: auto;\n",
       "    }\n",
       "    progress:not([value]), progress:not([value])::-webkit-progress-bar {\n",
       "        background: repeating-linear-gradient(45deg, #7e7e7e, #7e7e7e 10px, #5c5c5c 10px, #5c5c5c 20px);\n",
       "    }\n",
       "    .progress-bar-interrupted, .progress-bar-interrupted::-webkit-progress-bar {\n",
       "        background: #F44336;\n",
       "    }\n",
       "</style>\n"
      ],
      "text/plain": [
       "<IPython.core.display.HTML object>"
      ]
     },
     "metadata": {},
     "output_type": "display_data"
    },
    {
     "data": {
      "text/html": [
       "\n",
       "    <div>\n",
       "      <progress value='700' class='' max='700' style='width:300px; height:20px; vertical-align: middle;'></progress>\n",
       "      100.00% [700/700 00:08&lt;00:00 Sampling chain 0, 0 divergences]\n",
       "    </div>\n",
       "    "
      ],
      "text/plain": [
       "<IPython.core.display.HTML object>"
      ]
     },
     "metadata": {},
     "output_type": "display_data"
    },
    {
     "name": "stderr",
     "output_type": "stream",
     "text": [
      "Sampling 1 chain for 200 tune and 500 draw iterations (200 + 500 draws total) took 8 seconds.\n",
      "/home/fanpu/Documents/carnegie-mellon/10708/10-708-project/venv/lib/python3.10/site-packages/arviz/data/base.py:221: UserWarning: More chains (500) than draws (1). Passed array should have shape (chains, draws, *shape)\n",
      "  warnings.warn(\n",
      "\n",
      " 71%|█████████████████████████████████████████████▍                  | 61/86 [28:50<09:23, 22.53s/it]\u001b[A"
     ]
    },
    {
     "name": "stdout",
     "output_type": "stream",
     "text": [
      "[Vol] TFC\n"
     ]
    },
    {
     "name": "stderr",
     "output_type": "stream",
     "text": [
      "Auto-assigning NUTS sampler...\n",
      "Initializing NUTS using jitter+adapt_diag...\n",
      "Sequential sampling (1 chains in 1 job)\n",
      "NUTS: [sigma, alpha, betas_day, betas_week, betas_month]\n"
     ]
    },
    {
     "data": {
      "text/html": [
       "\n",
       "<style>\n",
       "    /* Turns off some styling */\n",
       "    progress {\n",
       "        /* gets rid of default border in Firefox and Opera. */\n",
       "        border: none;\n",
       "        /* Needs to be in here for Safari polyfill so background images work as expected. */\n",
       "        background-size: auto;\n",
       "    }\n",
       "    progress:not([value]), progress:not([value])::-webkit-progress-bar {\n",
       "        background: repeating-linear-gradient(45deg, #7e7e7e, #7e7e7e 10px, #5c5c5c 10px, #5c5c5c 20px);\n",
       "    }\n",
       "    .progress-bar-interrupted, .progress-bar-interrupted::-webkit-progress-bar {\n",
       "        background: #F44336;\n",
       "    }\n",
       "</style>\n"
      ],
      "text/plain": [
       "<IPython.core.display.HTML object>"
      ]
     },
     "metadata": {},
     "output_type": "display_data"
    },
    {
     "data": {
      "text/html": [
       "\n",
       "    <div>\n",
       "      <progress value='700' class='' max='700' style='width:300px; height:20px; vertical-align: middle;'></progress>\n",
       "      100.00% [700/700 00:07&lt;00:00 Sampling chain 0, 0 divergences]\n",
       "    </div>\n",
       "    "
      ],
      "text/plain": [
       "<IPython.core.display.HTML object>"
      ]
     },
     "metadata": {},
     "output_type": "display_data"
    },
    {
     "name": "stderr",
     "output_type": "stream",
     "text": [
      "Sampling 1 chain for 200 tune and 500 draw iterations (200 + 500 draws total) took 8 seconds.\n",
      "/home/fanpu/Documents/carnegie-mellon/10708/10-708-project/venv/lib/python3.10/site-packages/arviz/data/base.py:221: UserWarning: More chains (500) than draws (1). Passed array should have shape (chains, draws, *shape)\n",
      "  warnings.warn(\n",
      "\n",
      " 72%|██████████████████████████████████████████████▏                 | 62/86 [29:05<08:08, 20.34s/it]\u001b[A"
     ]
    },
    {
     "name": "stdout",
     "output_type": "stream",
     "text": [
      "[Vol] GS\n"
     ]
    },
    {
     "name": "stderr",
     "output_type": "stream",
     "text": [
      "Auto-assigning NUTS sampler...\n",
      "Initializing NUTS using jitter+adapt_diag...\n",
      "Sequential sampling (1 chains in 1 job)\n",
      "NUTS: [sigma, alpha, betas_day, betas_week, betas_month]\n"
     ]
    },
    {
     "data": {
      "text/html": [
       "\n",
       "<style>\n",
       "    /* Turns off some styling */\n",
       "    progress {\n",
       "        /* gets rid of default border in Firefox and Opera. */\n",
       "        border: none;\n",
       "        /* Needs to be in here for Safari polyfill so background images work as expected. */\n",
       "        background-size: auto;\n",
       "    }\n",
       "    progress:not([value]), progress:not([value])::-webkit-progress-bar {\n",
       "        background: repeating-linear-gradient(45deg, #7e7e7e, #7e7e7e 10px, #5c5c5c 10px, #5c5c5c 20px);\n",
       "    }\n",
       "    .progress-bar-interrupted, .progress-bar-interrupted::-webkit-progress-bar {\n",
       "        background: #F44336;\n",
       "    }\n",
       "</style>\n"
      ],
      "text/plain": [
       "<IPython.core.display.HTML object>"
      ]
     },
     "metadata": {},
     "output_type": "display_data"
    },
    {
     "data": {
      "text/html": [
       "\n",
       "    <div>\n",
       "      <progress value='700' class='' max='700' style='width:300px; height:20px; vertical-align: middle;'></progress>\n",
       "      100.00% [700/700 00:08&lt;00:00 Sampling chain 0, 0 divergences]\n",
       "    </div>\n",
       "    "
      ],
      "text/plain": [
       "<IPython.core.display.HTML object>"
      ]
     },
     "metadata": {},
     "output_type": "display_data"
    },
    {
     "name": "stderr",
     "output_type": "stream",
     "text": [
      "Sampling 1 chain for 200 tune and 500 draw iterations (200 + 500 draws total) took 8 seconds.\n",
      "/home/fanpu/Documents/carnegie-mellon/10708/10-708-project/venv/lib/python3.10/site-packages/arviz/data/base.py:221: UserWarning: More chains (500) than draws (1). Passed array should have shape (chains, draws, *shape)\n",
      "  warnings.warn(\n",
      "\n",
      " 73%|██████████████████████████████████████████████▉                 | 63/86 [29:26<07:49, 20.42s/it]\u001b[A"
     ]
    },
    {
     "name": "stdout",
     "output_type": "stream",
     "text": [
      "[Vol] AVB\n"
     ]
    },
    {
     "name": "stderr",
     "output_type": "stream",
     "text": [
      "Auto-assigning NUTS sampler...\n",
      "Initializing NUTS using jitter+adapt_diag...\n",
      "Sequential sampling (1 chains in 1 job)\n",
      "NUTS: [sigma, alpha, betas_day, betas_week, betas_month]\n"
     ]
    },
    {
     "data": {
      "text/html": [
       "\n",
       "<style>\n",
       "    /* Turns off some styling */\n",
       "    progress {\n",
       "        /* gets rid of default border in Firefox and Opera. */\n",
       "        border: none;\n",
       "        /* Needs to be in here for Safari polyfill so background images work as expected. */\n",
       "        background-size: auto;\n",
       "    }\n",
       "    progress:not([value]), progress:not([value])::-webkit-progress-bar {\n",
       "        background: repeating-linear-gradient(45deg, #7e7e7e, #7e7e7e 10px, #5c5c5c 10px, #5c5c5c 20px);\n",
       "    }\n",
       "    .progress-bar-interrupted, .progress-bar-interrupted::-webkit-progress-bar {\n",
       "        background: #F44336;\n",
       "    }\n",
       "</style>\n"
      ],
      "text/plain": [
       "<IPython.core.display.HTML object>"
      ]
     },
     "metadata": {},
     "output_type": "display_data"
    },
    {
     "data": {
      "text/html": [
       "\n",
       "    <div>\n",
       "      <progress value='700' class='' max='700' style='width:300px; height:20px; vertical-align: middle;'></progress>\n",
       "      100.00% [700/700 00:08&lt;00:00 Sampling chain 0, 0 divergences]\n",
       "    </div>\n",
       "    "
      ],
      "text/plain": [
       "<IPython.core.display.HTML object>"
      ]
     },
     "metadata": {},
     "output_type": "display_data"
    },
    {
     "name": "stderr",
     "output_type": "stream",
     "text": [
      "Sampling 1 chain for 200 tune and 500 draw iterations (200 + 500 draws total) took 8 seconds.\n",
      "/home/fanpu/Documents/carnegie-mellon/10708/10-708-project/venv/lib/python3.10/site-packages/arviz/data/base.py:221: UserWarning: More chains (500) than draws (1). Passed array should have shape (chains, draws, *shape)\n",
      "  warnings.warn(\n",
      "\n",
      " 74%|███████████████████████████████████████████████▋                | 64/86 [29:42<06:58, 19.03s/it]\u001b[A"
     ]
    },
    {
     "name": "stdout",
     "output_type": "stream",
     "text": [
      "[Vol] UDR\n"
     ]
    },
    {
     "name": "stderr",
     "output_type": "stream",
     "text": [
      "Auto-assigning NUTS sampler...\n",
      "Initializing NUTS using jitter+adapt_diag...\n",
      "Sequential sampling (1 chains in 1 job)\n",
      "NUTS: [sigma, alpha, betas_day, betas_week, betas_month]\n"
     ]
    },
    {
     "data": {
      "text/html": [
       "\n",
       "<style>\n",
       "    /* Turns off some styling */\n",
       "    progress {\n",
       "        /* gets rid of default border in Firefox and Opera. */\n",
       "        border: none;\n",
       "        /* Needs to be in here for Safari polyfill so background images work as expected. */\n",
       "        background-size: auto;\n",
       "    }\n",
       "    progress:not([value]), progress:not([value])::-webkit-progress-bar {\n",
       "        background: repeating-linear-gradient(45deg, #7e7e7e, #7e7e7e 10px, #5c5c5c 10px, #5c5c5c 20px);\n",
       "    }\n",
       "    .progress-bar-interrupted, .progress-bar-interrupted::-webkit-progress-bar {\n",
       "        background: #F44336;\n",
       "    }\n",
       "</style>\n"
      ],
      "text/plain": [
       "<IPython.core.display.HTML object>"
      ]
     },
     "metadata": {},
     "output_type": "display_data"
    },
    {
     "data": {
      "text/html": [
       "\n",
       "    <div>\n",
       "      <progress value='700' class='' max='700' style='width:300px; height:20px; vertical-align: middle;'></progress>\n",
       "      100.00% [700/700 00:08&lt;00:00 Sampling chain 0, 0 divergences]\n",
       "    </div>\n",
       "    "
      ],
      "text/plain": [
       "<IPython.core.display.HTML object>"
      ]
     },
     "metadata": {},
     "output_type": "display_data"
    },
    {
     "name": "stderr",
     "output_type": "stream",
     "text": [
      "Sampling 1 chain for 200 tune and 500 draw iterations (200 + 500 draws total) took 8 seconds.\n",
      "/home/fanpu/Documents/carnegie-mellon/10708/10-708-project/venv/lib/python3.10/site-packages/arviz/data/base.py:221: UserWarning: More chains (500) than draws (1). Passed array should have shape (chains, draws, *shape)\n",
      "  warnings.warn(\n",
      "\n",
      " 76%|████████████████████████████████████████████████▎               | 65/86 [29:59<06:29, 18.52s/it]\u001b[A"
     ]
    },
    {
     "name": "stdout",
     "output_type": "stream",
     "text": [
      "[Vol] ESS\n"
     ]
    },
    {
     "name": "stderr",
     "output_type": "stream",
     "text": [
      "Auto-assigning NUTS sampler...\n",
      "Initializing NUTS using jitter+adapt_diag...\n",
      "Sequential sampling (1 chains in 1 job)\n",
      "NUTS: [sigma, alpha, betas_day, betas_week, betas_month]\n"
     ]
    },
    {
     "data": {
      "text/html": [
       "\n",
       "<style>\n",
       "    /* Turns off some styling */\n",
       "    progress {\n",
       "        /* gets rid of default border in Firefox and Opera. */\n",
       "        border: none;\n",
       "        /* Needs to be in here for Safari polyfill so background images work as expected. */\n",
       "        background-size: auto;\n",
       "    }\n",
       "    progress:not([value]), progress:not([value])::-webkit-progress-bar {\n",
       "        background: repeating-linear-gradient(45deg, #7e7e7e, #7e7e7e 10px, #5c5c5c 10px, #5c5c5c 20px);\n",
       "    }\n",
       "    .progress-bar-interrupted, .progress-bar-interrupted::-webkit-progress-bar {\n",
       "        background: #F44336;\n",
       "    }\n",
       "</style>\n"
      ],
      "text/plain": [
       "<IPython.core.display.HTML object>"
      ]
     },
     "metadata": {},
     "output_type": "display_data"
    },
    {
     "data": {
      "text/html": [
       "\n",
       "    <div>\n",
       "      <progress value='700' class='' max='700' style='width:300px; height:20px; vertical-align: middle;'></progress>\n",
       "      100.00% [700/700 00:09&lt;00:00 Sampling chain 0, 0 divergences]\n",
       "    </div>\n",
       "    "
      ],
      "text/plain": [
       "<IPython.core.display.HTML object>"
      ]
     },
     "metadata": {},
     "output_type": "display_data"
    },
    {
     "name": "stderr",
     "output_type": "stream",
     "text": [
      "Sampling 1 chain for 200 tune and 500 draw iterations (200 + 500 draws total) took 9 seconds.\n",
      "/home/fanpu/Documents/carnegie-mellon/10708/10-708-project/venv/lib/python3.10/site-packages/arviz/data/base.py:221: UserWarning: More chains (500) than draws (1). Passed array should have shape (chains, draws, *shape)\n",
      "  warnings.warn(\n",
      "\n",
      " 77%|█████████████████████████████████████████████████               | 66/86 [30:22<06:39, 19.96s/it]\u001b[A"
     ]
    },
    {
     "name": "stdout",
     "output_type": "stream",
     "text": [
      "[Vol] HIG\n"
     ]
    },
    {
     "name": "stderr",
     "output_type": "stream",
     "text": [
      "Auto-assigning NUTS sampler...\n",
      "Initializing NUTS using jitter+adapt_diag...\n",
      "Sequential sampling (1 chains in 1 job)\n",
      "NUTS: [sigma, alpha, betas_day, betas_week, betas_month]\n"
     ]
    },
    {
     "data": {
      "text/html": [
       "\n",
       "<style>\n",
       "    /* Turns off some styling */\n",
       "    progress {\n",
       "        /* gets rid of default border in Firefox and Opera. */\n",
       "        border: none;\n",
       "        /* Needs to be in here for Safari polyfill so background images work as expected. */\n",
       "        background-size: auto;\n",
       "    }\n",
       "    progress:not([value]), progress:not([value])::-webkit-progress-bar {\n",
       "        background: repeating-linear-gradient(45deg, #7e7e7e, #7e7e7e 10px, #5c5c5c 10px, #5c5c5c 20px);\n",
       "    }\n",
       "    .progress-bar-interrupted, .progress-bar-interrupted::-webkit-progress-bar {\n",
       "        background: #F44336;\n",
       "    }\n",
       "</style>\n"
      ],
      "text/plain": [
       "<IPython.core.display.HTML object>"
      ]
     },
     "metadata": {},
     "output_type": "display_data"
    },
    {
     "data": {
      "text/html": [
       "\n",
       "    <div>\n",
       "      <progress value='700' class='' max='700' style='width:300px; height:20px; vertical-align: middle;'></progress>\n",
       "      100.00% [700/700 00:12&lt;00:00 Sampling chain 0, 0 divergences]\n",
       "    </div>\n",
       "    "
      ],
      "text/plain": [
       "<IPython.core.display.HTML object>"
      ]
     },
     "metadata": {},
     "output_type": "display_data"
    },
    {
     "name": "stderr",
     "output_type": "stream",
     "text": [
      "Sampling 1 chain for 200 tune and 500 draw iterations (200 + 500 draws total) took 12 seconds.\n",
      "/home/fanpu/Documents/carnegie-mellon/10708/10-708-project/venv/lib/python3.10/site-packages/arviz/data/base.py:221: UserWarning: More chains (500) than draws (1). Passed array should have shape (chains, draws, *shape)\n",
      "  warnings.warn(\n",
      "\n",
      " 78%|█████████████████████████████████████████████████▊              | 67/86 [30:48<06:50, 21.61s/it]\u001b[A"
     ]
    },
    {
     "name": "stdout",
     "output_type": "stream",
     "text": [
      "[Vol] PEAK\n"
     ]
    },
    {
     "name": "stderr",
     "output_type": "stream",
     "text": [
      "Auto-assigning NUTS sampler...\n",
      "Initializing NUTS using jitter+adapt_diag...\n",
      "Sequential sampling (1 chains in 1 job)\n",
      "NUTS: [sigma, alpha, betas_day, betas_week, betas_month]\n"
     ]
    },
    {
     "data": {
      "text/html": [
       "\n",
       "<style>\n",
       "    /* Turns off some styling */\n",
       "    progress {\n",
       "        /* gets rid of default border in Firefox and Opera. */\n",
       "        border: none;\n",
       "        /* Needs to be in here for Safari polyfill so background images work as expected. */\n",
       "        background-size: auto;\n",
       "    }\n",
       "    progress:not([value]), progress:not([value])::-webkit-progress-bar {\n",
       "        background: repeating-linear-gradient(45deg, #7e7e7e, #7e7e7e 10px, #5c5c5c 10px, #5c5c5c 20px);\n",
       "    }\n",
       "    .progress-bar-interrupted, .progress-bar-interrupted::-webkit-progress-bar {\n",
       "        background: #F44336;\n",
       "    }\n",
       "</style>\n"
      ],
      "text/plain": [
       "<IPython.core.display.HTML object>"
      ]
     },
     "metadata": {},
     "output_type": "display_data"
    },
    {
     "data": {
      "text/html": [
       "\n",
       "    <div>\n",
       "      <progress value='700' class='' max='700' style='width:300px; height:20px; vertical-align: middle;'></progress>\n",
       "      100.00% [700/700 00:11&lt;00:00 Sampling chain 0, 0 divergences]\n",
       "    </div>\n",
       "    "
      ],
      "text/plain": [
       "<IPython.core.display.HTML object>"
      ]
     },
     "metadata": {},
     "output_type": "display_data"
    },
    {
     "name": "stderr",
     "output_type": "stream",
     "text": [
      "Sampling 1 chain for 200 tune and 500 draw iterations (200 + 500 draws total) took 11 seconds.\n",
      "/home/fanpu/Documents/carnegie-mellon/10708/10-708-project/venv/lib/python3.10/site-packages/arviz/data/base.py:221: UserWarning: More chains (500) than draws (1). Passed array should have shape (chains, draws, *shape)\n",
      "  warnings.warn(\n",
      "\n",
      " 79%|██████████████████████████████████████████████████▌             | 68/86 [31:08<06:19, 21.11s/it]\u001b[A"
     ]
    },
    {
     "name": "stdout",
     "output_type": "stream",
     "text": [
      "[Vol] SYY\n"
     ]
    },
    {
     "name": "stderr",
     "output_type": "stream",
     "text": [
      "Auto-assigning NUTS sampler...\n",
      "Initializing NUTS using jitter+adapt_diag...\n",
      "Sequential sampling (1 chains in 1 job)\n",
      "NUTS: [sigma, alpha, betas_day, betas_week, betas_month]\n"
     ]
    },
    {
     "data": {
      "text/html": [
       "\n",
       "<style>\n",
       "    /* Turns off some styling */\n",
       "    progress {\n",
       "        /* gets rid of default border in Firefox and Opera. */\n",
       "        border: none;\n",
       "        /* Needs to be in here for Safari polyfill so background images work as expected. */\n",
       "        background-size: auto;\n",
       "    }\n",
       "    progress:not([value]), progress:not([value])::-webkit-progress-bar {\n",
       "        background: repeating-linear-gradient(45deg, #7e7e7e, #7e7e7e 10px, #5c5c5c 10px, #5c5c5c 20px);\n",
       "    }\n",
       "    .progress-bar-interrupted, .progress-bar-interrupted::-webkit-progress-bar {\n",
       "        background: #F44336;\n",
       "    }\n",
       "</style>\n"
      ],
      "text/plain": [
       "<IPython.core.display.HTML object>"
      ]
     },
     "metadata": {},
     "output_type": "display_data"
    },
    {
     "data": {
      "text/html": [
       "\n",
       "    <div>\n",
       "      <progress value='700' class='' max='700' style='width:300px; height:20px; vertical-align: middle;'></progress>\n",
       "      100.00% [700/700 00:09&lt;00:00 Sampling chain 0, 0 divergences]\n",
       "    </div>\n",
       "    "
      ],
      "text/plain": [
       "<IPython.core.display.HTML object>"
      ]
     },
     "metadata": {},
     "output_type": "display_data"
    },
    {
     "name": "stderr",
     "output_type": "stream",
     "text": [
      "Sampling 1 chain for 200 tune and 500 draw iterations (200 + 500 draws total) took 10 seconds.\n",
      "/home/fanpu/Documents/carnegie-mellon/10708/10-708-project/venv/lib/python3.10/site-packages/arviz/data/base.py:221: UserWarning: More chains (500) than draws (1). Passed array should have shape (chains, draws, *shape)\n",
      "  warnings.warn(\n",
      "\n",
      " 80%|███████████████████████████████████████████████████▎            | 69/86 [31:36<06:36, 23.31s/it]\u001b[A"
     ]
    },
    {
     "name": "stdout",
     "output_type": "stream",
     "text": [
      "[Vol] WAT\n"
     ]
    },
    {
     "name": "stderr",
     "output_type": "stream",
     "text": [
      "Auto-assigning NUTS sampler...\n",
      "Initializing NUTS using jitter+adapt_diag...\n",
      "Sequential sampling (1 chains in 1 job)\n",
      "NUTS: [sigma, alpha, betas_day, betas_week, betas_month]\n"
     ]
    },
    {
     "data": {
      "text/html": [
       "\n",
       "<style>\n",
       "    /* Turns off some styling */\n",
       "    progress {\n",
       "        /* gets rid of default border in Firefox and Opera. */\n",
       "        border: none;\n",
       "        /* Needs to be in here for Safari polyfill so background images work as expected. */\n",
       "        background-size: auto;\n",
       "    }\n",
       "    progress:not([value]), progress:not([value])::-webkit-progress-bar {\n",
       "        background: repeating-linear-gradient(45deg, #7e7e7e, #7e7e7e 10px, #5c5c5c 10px, #5c5c5c 20px);\n",
       "    }\n",
       "    .progress-bar-interrupted, .progress-bar-interrupted::-webkit-progress-bar {\n",
       "        background: #F44336;\n",
       "    }\n",
       "</style>\n"
      ],
      "text/plain": [
       "<IPython.core.display.HTML object>"
      ]
     },
     "metadata": {},
     "output_type": "display_data"
    },
    {
     "data": {
      "text/html": [
       "\n",
       "    <div>\n",
       "      <progress value='700' class='' max='700' style='width:300px; height:20px; vertical-align: middle;'></progress>\n",
       "      100.00% [700/700 00:07&lt;00:00 Sampling chain 0, 0 divergences]\n",
       "    </div>\n",
       "    "
      ],
      "text/plain": [
       "<IPython.core.display.HTML object>"
      ]
     },
     "metadata": {},
     "output_type": "display_data"
    },
    {
     "name": "stderr",
     "output_type": "stream",
     "text": [
      "Sampling 1 chain for 200 tune and 500 draw iterations (200 + 500 draws total) took 7 seconds.\n",
      "/home/fanpu/Documents/carnegie-mellon/10708/10-708-project/venv/lib/python3.10/site-packages/arviz/data/base.py:221: UserWarning: More chains (500) than draws (1). Passed array should have shape (chains, draws, *shape)\n",
      "  warnings.warn(\n",
      "\n",
      " 81%|████████████████████████████████████████████████████            | 70/86 [31:48<05:20, 20.06s/it]\u001b[A"
     ]
    },
    {
     "name": "stdout",
     "output_type": "stream",
     "text": [
      "[Vol] BWA\n"
     ]
    },
    {
     "name": "stderr",
     "output_type": "stream",
     "text": [
      "Auto-assigning NUTS sampler...\n",
      "Initializing NUTS using jitter+adapt_diag...\n",
      "Sequential sampling (1 chains in 1 job)\n",
      "NUTS: [sigma, alpha, betas_day, betas_week, betas_month]\n"
     ]
    },
    {
     "data": {
      "text/html": [
       "\n",
       "<style>\n",
       "    /* Turns off some styling */\n",
       "    progress {\n",
       "        /* gets rid of default border in Firefox and Opera. */\n",
       "        border: none;\n",
       "        /* Needs to be in here for Safari polyfill so background images work as expected. */\n",
       "        background-size: auto;\n",
       "    }\n",
       "    progress:not([value]), progress:not([value])::-webkit-progress-bar {\n",
       "        background: repeating-linear-gradient(45deg, #7e7e7e, #7e7e7e 10px, #5c5c5c 10px, #5c5c5c 20px);\n",
       "    }\n",
       "    .progress-bar-interrupted, .progress-bar-interrupted::-webkit-progress-bar {\n",
       "        background: #F44336;\n",
       "    }\n",
       "</style>\n"
      ],
      "text/plain": [
       "<IPython.core.display.HTML object>"
      ]
     },
     "metadata": {},
     "output_type": "display_data"
    },
    {
     "data": {
      "text/html": [
       "\n",
       "    <div>\n",
       "      <progress value='700' class='' max='700' style='width:300px; height:20px; vertical-align: middle;'></progress>\n",
       "      100.00% [700/700 00:12&lt;00:00 Sampling chain 0, 0 divergences]\n",
       "    </div>\n",
       "    "
      ],
      "text/plain": [
       "<IPython.core.display.HTML object>"
      ]
     },
     "metadata": {},
     "output_type": "display_data"
    },
    {
     "name": "stderr",
     "output_type": "stream",
     "text": [
      "Sampling 1 chain for 200 tune and 500 draw iterations (200 + 500 draws total) took 12 seconds.\n",
      "/home/fanpu/Documents/carnegie-mellon/10708/10-708-project/venv/lib/python3.10/site-packages/arviz/data/base.py:221: UserWarning: More chains (500) than draws (1). Passed array should have shape (chains, draws, *shape)\n",
      "  warnings.warn(\n",
      "\n",
      " 83%|████████████████████████████████████████████████████▊           | 71/86 [32:21<05:57, 23.80s/it]\u001b[A"
     ]
    },
    {
     "name": "stdout",
     "output_type": "stream",
     "text": [
      "[Vol] NEE\n"
     ]
    },
    {
     "name": "stderr",
     "output_type": "stream",
     "text": [
      "Auto-assigning NUTS sampler...\n",
      "Initializing NUTS using jitter+adapt_diag...\n",
      "Sequential sampling (1 chains in 1 job)\n",
      "NUTS: [sigma, alpha, betas_day, betas_week, betas_month]\n"
     ]
    },
    {
     "data": {
      "text/html": [
       "\n",
       "<style>\n",
       "    /* Turns off some styling */\n",
       "    progress {\n",
       "        /* gets rid of default border in Firefox and Opera. */\n",
       "        border: none;\n",
       "        /* Needs to be in here for Safari polyfill so background images work as expected. */\n",
       "        background-size: auto;\n",
       "    }\n",
       "    progress:not([value]), progress:not([value])::-webkit-progress-bar {\n",
       "        background: repeating-linear-gradient(45deg, #7e7e7e, #7e7e7e 10px, #5c5c5c 10px, #5c5c5c 20px);\n",
       "    }\n",
       "    .progress-bar-interrupted, .progress-bar-interrupted::-webkit-progress-bar {\n",
       "        background: #F44336;\n",
       "    }\n",
       "</style>\n"
      ],
      "text/plain": [
       "<IPython.core.display.HTML object>"
      ]
     },
     "metadata": {},
     "output_type": "display_data"
    },
    {
     "data": {
      "text/html": [
       "\n",
       "    <div>\n",
       "      <progress value='700' class='' max='700' style='width:300px; height:20px; vertical-align: middle;'></progress>\n",
       "      100.00% [700/700 00:05&lt;00:00 Sampling chain 0, 0 divergences]\n",
       "    </div>\n",
       "    "
      ],
      "text/plain": [
       "<IPython.core.display.HTML object>"
      ]
     },
     "metadata": {},
     "output_type": "display_data"
    },
    {
     "name": "stderr",
     "output_type": "stream",
     "text": [
      "Sampling 1 chain for 200 tune and 500 draw iterations (200 + 500 draws total) took 6 seconds.\n",
      "/home/fanpu/Documents/carnegie-mellon/10708/10-708-project/venv/lib/python3.10/site-packages/arviz/data/base.py:221: UserWarning: More chains (500) than draws (1). Passed array should have shape (chains, draws, *shape)\n",
      "  warnings.warn(\n",
      "\n",
      " 84%|█████████████████████████████████████████████████████▌          | 72/86 [32:32<04:37, 19.82s/it]\u001b[A"
     ]
    },
    {
     "name": "stdout",
     "output_type": "stream",
     "text": [
      "[Vol] PPL\n"
     ]
    },
    {
     "name": "stderr",
     "output_type": "stream",
     "text": [
      "Auto-assigning NUTS sampler...\n",
      "Initializing NUTS using jitter+adapt_diag...\n",
      "Sequential sampling (1 chains in 1 job)\n",
      "NUTS: [sigma, alpha, betas_day, betas_week, betas_month]\n"
     ]
    },
    {
     "data": {
      "text/html": [
       "\n",
       "<style>\n",
       "    /* Turns off some styling */\n",
       "    progress {\n",
       "        /* gets rid of default border in Firefox and Opera. */\n",
       "        border: none;\n",
       "        /* Needs to be in here for Safari polyfill so background images work as expected. */\n",
       "        background-size: auto;\n",
       "    }\n",
       "    progress:not([value]), progress:not([value])::-webkit-progress-bar {\n",
       "        background: repeating-linear-gradient(45deg, #7e7e7e, #7e7e7e 10px, #5c5c5c 10px, #5c5c5c 20px);\n",
       "    }\n",
       "    .progress-bar-interrupted, .progress-bar-interrupted::-webkit-progress-bar {\n",
       "        background: #F44336;\n",
       "    }\n",
       "</style>\n"
      ],
      "text/plain": [
       "<IPython.core.display.HTML object>"
      ]
     },
     "metadata": {},
     "output_type": "display_data"
    },
    {
     "data": {
      "text/html": [
       "\n",
       "    <div>\n",
       "      <progress value='700' class='' max='700' style='width:300px; height:20px; vertical-align: middle;'></progress>\n",
       "      100.00% [700/700 00:07&lt;00:00 Sampling chain 0, 0 divergences]\n",
       "    </div>\n",
       "    "
      ],
      "text/plain": [
       "<IPython.core.display.HTML object>"
      ]
     },
     "metadata": {},
     "output_type": "display_data"
    },
    {
     "name": "stderr",
     "output_type": "stream",
     "text": [
      "Sampling 1 chain for 200 tune and 500 draw iterations (200 + 500 draws total) took 8 seconds.\n",
      "/home/fanpu/Documents/carnegie-mellon/10708/10-708-project/venv/lib/python3.10/site-packages/arviz/data/base.py:221: UserWarning: More chains (500) than draws (1). Passed array should have shape (chains, draws, *shape)\n",
      "  warnings.warn(\n",
      "\n",
      " 85%|██████████████████████████████████████████████████████▎         | 73/86 [32:53<04:22, 20.18s/it]\u001b[A"
     ]
    },
    {
     "name": "stdout",
     "output_type": "stream",
     "text": [
      "[Vol] LLY\n"
     ]
    },
    {
     "name": "stderr",
     "output_type": "stream",
     "text": [
      "Auto-assigning NUTS sampler...\n",
      "Initializing NUTS using jitter+adapt_diag...\n",
      "Sequential sampling (1 chains in 1 job)\n",
      "NUTS: [sigma, alpha, betas_day, betas_week, betas_month]\n"
     ]
    },
    {
     "data": {
      "text/html": [
       "\n",
       "<style>\n",
       "    /* Turns off some styling */\n",
       "    progress {\n",
       "        /* gets rid of default border in Firefox and Opera. */\n",
       "        border: none;\n",
       "        /* Needs to be in here for Safari polyfill so background images work as expected. */\n",
       "        background-size: auto;\n",
       "    }\n",
       "    progress:not([value]), progress:not([value])::-webkit-progress-bar {\n",
       "        background: repeating-linear-gradient(45deg, #7e7e7e, #7e7e7e 10px, #5c5c5c 10px, #5c5c5c 20px);\n",
       "    }\n",
       "    .progress-bar-interrupted, .progress-bar-interrupted::-webkit-progress-bar {\n",
       "        background: #F44336;\n",
       "    }\n",
       "</style>\n"
      ],
      "text/plain": [
       "<IPython.core.display.HTML object>"
      ]
     },
     "metadata": {},
     "output_type": "display_data"
    },
    {
     "data": {
      "text/html": [
       "\n",
       "    <div>\n",
       "      <progress value='700' class='' max='700' style='width:300px; height:20px; vertical-align: middle;'></progress>\n",
       "      100.00% [700/700 00:09&lt;00:00 Sampling chain 0, 0 divergences]\n",
       "    </div>\n",
       "    "
      ],
      "text/plain": [
       "<IPython.core.display.HTML object>"
      ]
     },
     "metadata": {},
     "output_type": "display_data"
    },
    {
     "name": "stderr",
     "output_type": "stream",
     "text": [
      "Sampling 1 chain for 200 tune and 500 draw iterations (200 + 500 draws total) took 10 seconds.\n",
      "/home/fanpu/Documents/carnegie-mellon/10708/10-708-project/venv/lib/python3.10/site-packages/arviz/data/base.py:221: UserWarning: More chains (500) than draws (1). Passed array should have shape (chains, draws, *shape)\n",
      "  warnings.warn(\n",
      "\n",
      " 86%|███████████████████████████████████████████████████████         | 74/86 [33:18<04:20, 21.70s/it]\u001b[A"
     ]
    },
    {
     "name": "stdout",
     "output_type": "stream",
     "text": [
      "[Vol] INCY\n"
     ]
    },
    {
     "name": "stderr",
     "output_type": "stream",
     "text": [
      "Auto-assigning NUTS sampler...\n",
      "Initializing NUTS using jitter+adapt_diag...\n",
      "Sequential sampling (1 chains in 1 job)\n",
      "NUTS: [sigma, alpha, betas_day, betas_week, betas_month]\n"
     ]
    },
    {
     "data": {
      "text/html": [
       "\n",
       "<style>\n",
       "    /* Turns off some styling */\n",
       "    progress {\n",
       "        /* gets rid of default border in Firefox and Opera. */\n",
       "        border: none;\n",
       "        /* Needs to be in here for Safari polyfill so background images work as expected. */\n",
       "        background-size: auto;\n",
       "    }\n",
       "    progress:not([value]), progress:not([value])::-webkit-progress-bar {\n",
       "        background: repeating-linear-gradient(45deg, #7e7e7e, #7e7e7e 10px, #5c5c5c 10px, #5c5c5c 20px);\n",
       "    }\n",
       "    .progress-bar-interrupted, .progress-bar-interrupted::-webkit-progress-bar {\n",
       "        background: #F44336;\n",
       "    }\n",
       "</style>\n"
      ],
      "text/plain": [
       "<IPython.core.display.HTML object>"
      ]
     },
     "metadata": {},
     "output_type": "display_data"
    },
    {
     "data": {
      "text/html": [
       "\n",
       "    <div>\n",
       "      <progress value='700' class='' max='700' style='width:300px; height:20px; vertical-align: middle;'></progress>\n",
       "      100.00% [700/700 00:10&lt;00:00 Sampling chain 0, 0 divergences]\n",
       "    </div>\n",
       "    "
      ],
      "text/plain": [
       "<IPython.core.display.HTML object>"
      ]
     },
     "metadata": {},
     "output_type": "display_data"
    },
    {
     "name": "stderr",
     "output_type": "stream",
     "text": [
      "Sampling 1 chain for 200 tune and 500 draw iterations (200 + 500 draws total) took 11 seconds.\n",
      "/home/fanpu/Documents/carnegie-mellon/10708/10-708-project/venv/lib/python3.10/site-packages/arviz/data/base.py:221: UserWarning: More chains (500) than draws (1). Passed array should have shape (chains, draws, *shape)\n",
      "  warnings.warn(\n",
      "\n",
      " 87%|███████████████████████████████████████████████████████▊        | 75/86 [33:40<03:58, 21.70s/it]\u001b[A"
     ]
    },
    {
     "name": "stdout",
     "output_type": "stream",
     "text": [
      "[Vol] LVS\n"
     ]
    },
    {
     "name": "stderr",
     "output_type": "stream",
     "text": [
      "Auto-assigning NUTS sampler...\n",
      "Initializing NUTS using jitter+adapt_diag...\n",
      "Sequential sampling (1 chains in 1 job)\n",
      "NUTS: [sigma, alpha, betas_day, betas_week, betas_month]\n"
     ]
    },
    {
     "data": {
      "text/html": [
       "\n",
       "<style>\n",
       "    /* Turns off some styling */\n",
       "    progress {\n",
       "        /* gets rid of default border in Firefox and Opera. */\n",
       "        border: none;\n",
       "        /* Needs to be in here for Safari polyfill so background images work as expected. */\n",
       "        background-size: auto;\n",
       "    }\n",
       "    progress:not([value]), progress:not([value])::-webkit-progress-bar {\n",
       "        background: repeating-linear-gradient(45deg, #7e7e7e, #7e7e7e 10px, #5c5c5c 10px, #5c5c5c 20px);\n",
       "    }\n",
       "    .progress-bar-interrupted, .progress-bar-interrupted::-webkit-progress-bar {\n",
       "        background: #F44336;\n",
       "    }\n",
       "</style>\n"
      ],
      "text/plain": [
       "<IPython.core.display.HTML object>"
      ]
     },
     "metadata": {},
     "output_type": "display_data"
    },
    {
     "data": {
      "text/html": [
       "\n",
       "    <div>\n",
       "      <progress value='700' class='' max='700' style='width:300px; height:20px; vertical-align: middle;'></progress>\n",
       "      100.00% [700/700 00:10&lt;00:00 Sampling chain 0, 0 divergences]\n",
       "    </div>\n",
       "    "
      ],
      "text/plain": [
       "<IPython.core.display.HTML object>"
      ]
     },
     "metadata": {},
     "output_type": "display_data"
    },
    {
     "name": "stderr",
     "output_type": "stream",
     "text": [
      "Sampling 1 chain for 200 tune and 500 draw iterations (200 + 500 draws total) took 11 seconds.\n",
      "/home/fanpu/Documents/carnegie-mellon/10708/10-708-project/venv/lib/python3.10/site-packages/arviz/data/base.py:221: UserWarning: More chains (500) than draws (1). Passed array should have shape (chains, draws, *shape)\n",
      "  warnings.warn(\n",
      "\n",
      " 88%|████████████████████████████████████████████████████████▌       | 76/86 [34:12<04:08, 24.86s/it]\u001b[A"
     ]
    },
    {
     "name": "stdout",
     "output_type": "stream",
     "text": [
      "[Vol] COST\n"
     ]
    },
    {
     "name": "stderr",
     "output_type": "stream",
     "text": [
      "Auto-assigning NUTS sampler...\n",
      "Initializing NUTS using jitter+adapt_diag...\n",
      "Sequential sampling (1 chains in 1 job)\n",
      "NUTS: [sigma, alpha, betas_day, betas_week, betas_month]\n"
     ]
    },
    {
     "data": {
      "text/html": [
       "\n",
       "<style>\n",
       "    /* Turns off some styling */\n",
       "    progress {\n",
       "        /* gets rid of default border in Firefox and Opera. */\n",
       "        border: none;\n",
       "        /* Needs to be in here for Safari polyfill so background images work as expected. */\n",
       "        background-size: auto;\n",
       "    }\n",
       "    progress:not([value]), progress:not([value])::-webkit-progress-bar {\n",
       "        background: repeating-linear-gradient(45deg, #7e7e7e, #7e7e7e 10px, #5c5c5c 10px, #5c5c5c 20px);\n",
       "    }\n",
       "    .progress-bar-interrupted, .progress-bar-interrupted::-webkit-progress-bar {\n",
       "        background: #F44336;\n",
       "    }\n",
       "</style>\n"
      ],
      "text/plain": [
       "<IPython.core.display.HTML object>"
      ]
     },
     "metadata": {},
     "output_type": "display_data"
    },
    {
     "data": {
      "text/html": [
       "\n",
       "    <div>\n",
       "      <progress value='700' class='' max='700' style='width:300px; height:20px; vertical-align: middle;'></progress>\n",
       "      100.00% [700/700 00:16&lt;00:00 Sampling chain 0, 0 divergences]\n",
       "    </div>\n",
       "    "
      ],
      "text/plain": [
       "<IPython.core.display.HTML object>"
      ]
     },
     "metadata": {},
     "output_type": "display_data"
    },
    {
     "name": "stderr",
     "output_type": "stream",
     "text": [
      "Sampling 1 chain for 200 tune and 500 draw iterations (200 + 500 draws total) took 16 seconds.\n",
      "/home/fanpu/Documents/carnegie-mellon/10708/10-708-project/venv/lib/python3.10/site-packages/arviz/data/base.py:221: UserWarning: More chains (500) than draws (1). Passed array should have shape (chains, draws, *shape)\n",
      "  warnings.warn(\n",
      "\n",
      " 90%|█████████████████████████████████████████████████████████▎      | 77/86 [34:53<04:27, 29.76s/it]\u001b[A"
     ]
    },
    {
     "name": "stdout",
     "output_type": "stream",
     "text": [
      "[Vol] XOM\n"
     ]
    },
    {
     "name": "stderr",
     "output_type": "stream",
     "text": [
      "Auto-assigning NUTS sampler...\n",
      "Initializing NUTS using jitter+adapt_diag...\n",
      "Sequential sampling (1 chains in 1 job)\n",
      "NUTS: [sigma, alpha, betas_day, betas_week, betas_month]\n"
     ]
    },
    {
     "data": {
      "text/html": [
       "\n",
       "<style>\n",
       "    /* Turns off some styling */\n",
       "    progress {\n",
       "        /* gets rid of default border in Firefox and Opera. */\n",
       "        border: none;\n",
       "        /* Needs to be in here for Safari polyfill so background images work as expected. */\n",
       "        background-size: auto;\n",
       "    }\n",
       "    progress:not([value]), progress:not([value])::-webkit-progress-bar {\n",
       "        background: repeating-linear-gradient(45deg, #7e7e7e, #7e7e7e 10px, #5c5c5c 10px, #5c5c5c 20px);\n",
       "    }\n",
       "    .progress-bar-interrupted, .progress-bar-interrupted::-webkit-progress-bar {\n",
       "        background: #F44336;\n",
       "    }\n",
       "</style>\n"
      ],
      "text/plain": [
       "<IPython.core.display.HTML object>"
      ]
     },
     "metadata": {},
     "output_type": "display_data"
    },
    {
     "data": {
      "text/html": [
       "\n",
       "    <div>\n",
       "      <progress value='700' class='' max='700' style='width:300px; height:20px; vertical-align: middle;'></progress>\n",
       "      100.00% [700/700 00:12&lt;00:00 Sampling chain 0, 0 divergences]\n",
       "    </div>\n",
       "    "
      ],
      "text/plain": [
       "<IPython.core.display.HTML object>"
      ]
     },
     "metadata": {},
     "output_type": "display_data"
    },
    {
     "name": "stderr",
     "output_type": "stream",
     "text": [
      "Sampling 1 chain for 200 tune and 500 draw iterations (200 + 500 draws total) took 12 seconds.\n",
      "/home/fanpu/Documents/carnegie-mellon/10708/10-708-project/venv/lib/python3.10/site-packages/arviz/data/base.py:221: UserWarning: More chains (500) than draws (1). Passed array should have shape (chains, draws, *shape)\n",
      "  warnings.warn(\n",
      "\n",
      " 91%|██████████████████████████████████████████████████████████      | 78/86 [35:18<03:47, 28.38s/it]\u001b[A"
     ]
    },
    {
     "name": "stdout",
     "output_type": "stream",
     "text": [
      "[Vol] SLB\n"
     ]
    },
    {
     "name": "stderr",
     "output_type": "stream",
     "text": [
      "Auto-assigning NUTS sampler...\n",
      "Initializing NUTS using jitter+adapt_diag...\n",
      "Sequential sampling (1 chains in 1 job)\n",
      "NUTS: [sigma, alpha, betas_day, betas_week, betas_month]\n"
     ]
    },
    {
     "data": {
      "text/html": [
       "\n",
       "<style>\n",
       "    /* Turns off some styling */\n",
       "    progress {\n",
       "        /* gets rid of default border in Firefox and Opera. */\n",
       "        border: none;\n",
       "        /* Needs to be in here for Safari polyfill so background images work as expected. */\n",
       "        background-size: auto;\n",
       "    }\n",
       "    progress:not([value]), progress:not([value])::-webkit-progress-bar {\n",
       "        background: repeating-linear-gradient(45deg, #7e7e7e, #7e7e7e 10px, #5c5c5c 10px, #5c5c5c 20px);\n",
       "    }\n",
       "    .progress-bar-interrupted, .progress-bar-interrupted::-webkit-progress-bar {\n",
       "        background: #F44336;\n",
       "    }\n",
       "</style>\n"
      ],
      "text/plain": [
       "<IPython.core.display.HTML object>"
      ]
     },
     "metadata": {},
     "output_type": "display_data"
    },
    {
     "data": {
      "text/html": [
       "\n",
       "    <div>\n",
       "      <progress value='700' class='' max='700' style='width:300px; height:20px; vertical-align: middle;'></progress>\n",
       "      100.00% [700/700 00:09&lt;00:00 Sampling chain 0, 0 divergences]\n",
       "    </div>\n",
       "    "
      ],
      "text/plain": [
       "<IPython.core.display.HTML object>"
      ]
     },
     "metadata": {},
     "output_type": "display_data"
    },
    {
     "name": "stderr",
     "output_type": "stream",
     "text": [
      "Sampling 1 chain for 200 tune and 500 draw iterations (200 + 500 draws total) took 9 seconds.\n",
      "/home/fanpu/Documents/carnegie-mellon/10708/10-708-project/venv/lib/python3.10/site-packages/arviz/data/base.py:221: UserWarning: More chains (500) than draws (1). Passed array should have shape (chains, draws, *shape)\n",
      "  warnings.warn(\n",
      "\n",
      " 92%|██████████████████████████████████████████████████████████▊     | 79/86 [35:41<03:06, 26.59s/it]\u001b[A"
     ]
    },
    {
     "name": "stdout",
     "output_type": "stream",
     "text": [
      "[Vol] DVN\n"
     ]
    },
    {
     "name": "stderr",
     "output_type": "stream",
     "text": [
      "Auto-assigning NUTS sampler...\n",
      "Initializing NUTS using jitter+adapt_diag...\n",
      "Sequential sampling (1 chains in 1 job)\n",
      "NUTS: [sigma, alpha, betas_day, betas_week, betas_month]\n"
     ]
    },
    {
     "data": {
      "text/html": [
       "\n",
       "<style>\n",
       "    /* Turns off some styling */\n",
       "    progress {\n",
       "        /* gets rid of default border in Firefox and Opera. */\n",
       "        border: none;\n",
       "        /* Needs to be in here for Safari polyfill so background images work as expected. */\n",
       "        background-size: auto;\n",
       "    }\n",
       "    progress:not([value]), progress:not([value])::-webkit-progress-bar {\n",
       "        background: repeating-linear-gradient(45deg, #7e7e7e, #7e7e7e 10px, #5c5c5c 10px, #5c5c5c 20px);\n",
       "    }\n",
       "    .progress-bar-interrupted, .progress-bar-interrupted::-webkit-progress-bar {\n",
       "        background: #F44336;\n",
       "    }\n",
       "</style>\n"
      ],
      "text/plain": [
       "<IPython.core.display.HTML object>"
      ]
     },
     "metadata": {},
     "output_type": "display_data"
    },
    {
     "data": {
      "text/html": [
       "\n",
       "    <div>\n",
       "      <progress value='700' class='' max='700' style='width:300px; height:20px; vertical-align: middle;'></progress>\n",
       "      100.00% [700/700 00:10&lt;00:00 Sampling chain 0, 0 divergences]\n",
       "    </div>\n",
       "    "
      ],
      "text/plain": [
       "<IPython.core.display.HTML object>"
      ]
     },
     "metadata": {},
     "output_type": "display_data"
    },
    {
     "name": "stderr",
     "output_type": "stream",
     "text": [
      "Sampling 1 chain for 200 tune and 500 draw iterations (200 + 500 draws total) took 10 seconds.\n",
      "/home/fanpu/Documents/carnegie-mellon/10708/10-708-project/venv/lib/python3.10/site-packages/arviz/data/base.py:221: UserWarning: More chains (500) than draws (1). Passed array should have shape (chains, draws, *shape)\n",
      "  warnings.warn(\n",
      "\n",
      " 93%|███████████████████████████████████████████████████████████▌    | 80/86 [36:01<02:29, 24.89s/it]\u001b[A"
     ]
    },
    {
     "name": "stdout",
     "output_type": "stream",
     "text": [
      "[Vol] WMB\n"
     ]
    },
    {
     "name": "stderr",
     "output_type": "stream",
     "text": [
      "Auto-assigning NUTS sampler...\n",
      "Initializing NUTS using jitter+adapt_diag...\n",
      "Sequential sampling (1 chains in 1 job)\n",
      "NUTS: [sigma, alpha, betas_day, betas_week, betas_month]\n"
     ]
    },
    {
     "data": {
      "text/html": [
       "\n",
       "<style>\n",
       "    /* Turns off some styling */\n",
       "    progress {\n",
       "        /* gets rid of default border in Firefox and Opera. */\n",
       "        border: none;\n",
       "        /* Needs to be in here for Safari polyfill so background images work as expected. */\n",
       "        background-size: auto;\n",
       "    }\n",
       "    progress:not([value]), progress:not([value])::-webkit-progress-bar {\n",
       "        background: repeating-linear-gradient(45deg, #7e7e7e, #7e7e7e 10px, #5c5c5c 10px, #5c5c5c 20px);\n",
       "    }\n",
       "    .progress-bar-interrupted, .progress-bar-interrupted::-webkit-progress-bar {\n",
       "        background: #F44336;\n",
       "    }\n",
       "</style>\n"
      ],
      "text/plain": [
       "<IPython.core.display.HTML object>"
      ]
     },
     "metadata": {},
     "output_type": "display_data"
    },
    {
     "data": {
      "text/html": [
       "\n",
       "    <div>\n",
       "      <progress value='700' class='' max='700' style='width:300px; height:20px; vertical-align: middle;'></progress>\n",
       "      100.00% [700/700 00:07&lt;00:00 Sampling chain 0, 0 divergences]\n",
       "    </div>\n",
       "    "
      ],
      "text/plain": [
       "<IPython.core.display.HTML object>"
      ]
     },
     "metadata": {},
     "output_type": "display_data"
    },
    {
     "name": "stderr",
     "output_type": "stream",
     "text": [
      "Sampling 1 chain for 200 tune and 500 draw iterations (200 + 500 draws total) took 7 seconds.\n",
      "/home/fanpu/Documents/carnegie-mellon/10708/10-708-project/venv/lib/python3.10/site-packages/arviz/data/base.py:221: UserWarning: More chains (500) than draws (1). Passed array should have shape (chains, draws, *shape)\n",
      "  warnings.warn(\n",
      "\n",
      " 94%|████████████████████████████████████████████████████████████▎   | 81/86 [36:15<01:48, 21.64s/it]\u001b[A"
     ]
    },
    {
     "name": "stdout",
     "output_type": "stream",
     "text": [
      "[Vol] PXD\n"
     ]
    },
    {
     "name": "stderr",
     "output_type": "stream",
     "text": [
      "Auto-assigning NUTS sampler...\n",
      "Initializing NUTS using jitter+adapt_diag...\n"
     ]
    }
   ],
   "source": [
    "dir = \"predictions\"\n",
    "\n",
    "def predict_for_tday(tday):\n",
    "    # Build our training samples\n",
    "    RVt_all = np.zeros((num_prev_trading_days, num_tickers))\n",
    "    RVt1_all = np.zeros((num_prev_trading_days, num_tickers))\n",
    "    RVt25_all = np.zeros((num_prev_trading_days, num_tickers))\n",
    "    RVt626_all = np.zeros((num_prev_trading_days, num_tickers))\n",
    "    xt_all = np.zeros((num_prev_trading_days, corr_len))\n",
    "    xt1_all = np.zeros((num_prev_trading_days, corr_len))\n",
    "    xt25_all = np.zeros((num_prev_trading_days, corr_len))\n",
    "    xt626_all = np.zeros((num_prev_trading_days, corr_len))\n",
    "    for day in range(-num_prev_trading_days, 0):\n",
    "        prev_tday = engine.get_shift_tday(tday, -day) \n",
    "        RVt, RVt1, RVt25, RVt626, xt, xt1, xt25, xt626 = engine.get_HAR_DRD_data(prev_tday)\n",
    "        RVt_all[day + num_prev_trading_days] = RVt\n",
    "        RVt1_all[day + num_prev_trading_days] = RVt1\n",
    "        RVt25_all[day + num_prev_trading_days] = RVt25\n",
    "        RVt626_all[day + num_prev_trading_days] = RVt626\n",
    "        xt_all[day + num_prev_trading_days] = xt\n",
    "        xt1_all[day + num_prev_trading_days] = xt1\n",
    "        xt25_all[day + num_prev_trading_days] = xt25\n",
    "        xt626_all[day + num_prev_trading_days] = xt626\n",
    "        \n",
    "    vol = {}\n",
    "    # corr = {}\n",
    "    \n",
    "    corr = train_correlations_shared_coeff(xt_all, xt1_all, xt25_all, xt626_all)\n",
    "#     for i in range(num_tickers):\n",
    "#         for j in range(i + 1, num_tickers):\n",
    "#             ticker_1 = tickers[i]\n",
    "#             ticker_2 = tickers[j]\n",
    "#             print(\"[Corr]\", ticker_1, ticker_2)\n",
    "#             idata_corr = train_correlations(ticker_1, ticker_2, xt_all, xt1_all, xt25_all, xt626_all)\n",
    "#             corr[(ticker_1, ticker_2)] = idata_corr\n",
    "    \n",
    "    \n",
    "    for ticker in tqdm(tickers):\n",
    "        print(\"[Vol]\", ticker)\n",
    "        idata_vol = train_volatilities(ticker, RVt_all, RVt1_all, RVt25_all, RVt626_all)\n",
    "        vol[ticker] = idata_vol\n",
    "        \n",
    "    with open(f\"predictions/{tday}_vol.pkl\", \"wb\") as f:\n",
    "        pickle.dump(vol, f)\n",
    "    with open(f\"predictions/{tday}_corr.pkl\", \"wb\") as f:\n",
    "        pickle.dump(corr, f)\n",
    "        \n",
    "    return vol, corr \n",
    "        \n",
    "print(\"Months to evaluate: \", months_to_evaluate)\n",
    "USE_YEARLY = True\n",
    "for month_diff in tqdm(range(months_to_evaluate)):\n",
    "    if USE_YEARLY:\n",
    "        year_month = engine.get_shift_month(evaluation_year_month_start, month_diff * 12)\n",
    "    else:\n",
    "        year_month = engine.get_shift_month(evaluation_year_month_start, month_diff)\n",
    "        \n",
    "    start_day = 1\n",
    "    tday = year_month + \"-{:02d}\".format(start_day)\n",
    "    while tday not in engine.trading_day_list:\n",
    "        start_day += 1\n",
    "        tday = year_month + \"-{:02d}\".format(start_day)\n",
    "        \n",
    "    print(f\"Evaluating for {tday}\")\n",
    "    predict_for_tday(tday)\n",
    "        \n",
    "# predict_for_tday('2012-06-08')\n"
   ]
  },
  {
   "cell_type": "code",
   "execution_count": null,
   "id": "e2d0bc02",
   "metadata": {},
   "outputs": [],
   "source": [
    "1 + 1"
   ]
  },
  {
   "cell_type": "code",
   "execution_count": 79,
   "id": "3cf62149",
   "metadata": {},
   "outputs": [
    {
     "data": {
      "text/plain": [
       "['2013-12-24',\n",
       " '2013-12-26',\n",
       " '2013-12-27',\n",
       " '2013-12-30',\n",
       " '2013-12-31',\n",
       " '2014-01-02',\n",
       " '2014-01-03',\n",
       " '2014-01-06',\n",
       " '2014-01-07',\n",
       " '2014-01-08',\n",
       " '2014-01-09',\n",
       " '2014-01-10',\n",
       " '2014-01-13',\n",
       " '2014-01-14',\n",
       " '2014-01-15',\n",
       " '2014-01-16',\n",
       " '2014-01-17',\n",
       " '2014-01-21',\n",
       " '2014-01-22',\n",
       " '2014-01-23',\n",
       " '2014-01-24',\n",
       " '2014-01-27',\n",
       " '2014-01-28',\n",
       " '2014-01-29',\n",
       " '2014-01-30',\n",
       " '2014-01-31',\n",
       " '2014-02-03',\n",
       " '2014-02-04',\n",
       " '2014-02-05',\n",
       " '2014-02-06',\n",
       " '2014-02-07',\n",
       " '2014-02-10',\n",
       " '2014-02-11',\n",
       " '2014-02-12',\n",
       " '2014-02-13',\n",
       " '2014-02-14',\n",
       " '2014-02-18',\n",
       " '2014-02-19',\n",
       " '2014-02-20',\n",
       " '2014-02-21',\n",
       " '2014-02-24',\n",
       " '2014-02-25',\n",
       " '2014-02-26',\n",
       " '2014-02-27',\n",
       " '2014-02-28',\n",
       " '2014-03-03',\n",
       " '2014-03-04',\n",
       " '2014-03-05',\n",
       " '2014-03-06',\n",
       " '2014-03-07',\n",
       " '2014-03-10',\n",
       " '2014-03-11',\n",
       " '2014-03-12',\n",
       " '2014-03-13',\n",
       " '2014-03-14',\n",
       " '2014-03-17',\n",
       " '2014-03-18',\n",
       " '2014-03-19',\n",
       " '2014-03-20',\n",
       " '2014-03-21',\n",
       " '2014-03-24',\n",
       " '2014-03-25',\n",
       " '2014-03-26',\n",
       " '2014-03-27',\n",
       " '2014-03-28',\n",
       " '2014-03-31',\n",
       " '2014-04-01',\n",
       " '2014-04-02',\n",
       " '2014-04-03',\n",
       " '2014-04-04',\n",
       " '2014-04-07',\n",
       " '2014-04-08',\n",
       " '2014-04-09',\n",
       " '2014-04-10',\n",
       " '2014-04-11',\n",
       " '2014-04-14',\n",
       " '2014-04-15',\n",
       " '2014-04-16',\n",
       " '2014-04-17',\n",
       " '2014-04-21',\n",
       " '2014-04-22',\n",
       " '2014-04-23',\n",
       " '2014-04-24',\n",
       " '2014-04-25',\n",
       " '2014-04-28',\n",
       " '2014-04-29',\n",
       " '2014-04-30',\n",
       " '2014-05-01',\n",
       " '2014-05-02',\n",
       " '2014-05-05',\n",
       " '2014-05-06',\n",
       " '2014-05-07',\n",
       " '2014-05-08',\n",
       " '2014-05-09',\n",
       " '2014-05-12',\n",
       " '2014-05-13',\n",
       " '2014-05-14',\n",
       " '2014-05-15',\n",
       " '2014-05-16',\n",
       " '2014-05-19',\n",
       " '2014-05-20',\n",
       " '2014-05-21',\n",
       " '2014-05-22',\n",
       " '2014-05-23',\n",
       " '2014-05-27',\n",
       " '2014-05-28',\n",
       " '2014-05-29',\n",
       " '2014-05-30',\n",
       " '2014-06-02',\n",
       " '2014-06-03',\n",
       " '2014-06-04',\n",
       " '2014-06-05',\n",
       " '2014-06-06',\n",
       " '2014-06-09',\n",
       " '2014-06-10',\n",
       " '2014-06-11',\n",
       " '2014-06-12',\n",
       " '2014-06-13',\n",
       " '2014-06-16',\n",
       " '2014-06-17',\n",
       " '2014-06-18',\n",
       " '2014-06-19',\n",
       " '2014-06-20',\n",
       " '2014-06-23',\n",
       " '2014-06-24',\n",
       " '2014-06-25',\n",
       " '2014-06-26',\n",
       " '2014-06-27',\n",
       " '2014-06-30',\n",
       " '2014-07-01',\n",
       " '2014-07-02',\n",
       " '2014-07-03',\n",
       " '2014-07-07',\n",
       " '2014-07-08',\n",
       " '2014-07-09',\n",
       " '2014-07-10',\n",
       " '2014-07-11',\n",
       " '2014-07-14',\n",
       " '2014-07-15',\n",
       " '2014-07-16',\n",
       " '2014-07-17',\n",
       " '2014-07-18',\n",
       " '2014-07-21',\n",
       " '2014-07-22',\n",
       " '2014-07-23',\n",
       " '2014-07-24',\n",
       " '2014-07-25',\n",
       " '2014-07-28',\n",
       " '2014-07-29',\n",
       " '2014-07-30',\n",
       " '2014-07-31',\n",
       " '2014-08-01',\n",
       " '2014-08-04',\n",
       " '2014-08-05',\n",
       " '2014-08-06',\n",
       " '2014-08-07',\n",
       " '2014-08-08',\n",
       " '2014-08-11',\n",
       " '2014-08-12',\n",
       " '2014-08-13',\n",
       " '2014-08-14',\n",
       " '2014-08-15',\n",
       " '2014-08-18',\n",
       " '2014-08-19',\n",
       " '2014-08-20',\n",
       " '2014-08-21',\n",
       " '2014-08-22',\n",
       " '2014-08-25',\n",
       " '2014-08-26',\n",
       " '2014-08-27',\n",
       " '2014-08-28',\n",
       " '2014-08-29',\n",
       " '2014-09-02',\n",
       " '2014-09-03',\n",
       " '2014-09-04',\n",
       " '2014-09-05',\n",
       " '2014-09-08',\n",
       " '2014-09-09',\n",
       " '2014-09-10',\n",
       " '2014-09-11',\n",
       " '2014-09-12',\n",
       " '2014-09-15',\n",
       " '2014-09-16',\n",
       " '2014-09-17',\n",
       " '2014-09-18',\n",
       " '2014-09-19',\n",
       " '2014-09-22',\n",
       " '2014-09-23',\n",
       " '2014-09-24',\n",
       " '2014-09-25',\n",
       " '2014-09-26',\n",
       " '2014-09-29',\n",
       " '2014-09-30',\n",
       " '2014-10-01',\n",
       " '2014-10-02',\n",
       " '2014-10-03',\n",
       " '2014-10-06',\n",
       " '2014-10-07',\n",
       " '2014-10-08',\n",
       " '2014-10-09',\n",
       " '2014-10-10',\n",
       " '2014-10-13',\n",
       " '2014-10-14',\n",
       " '2014-10-15',\n",
       " '2014-10-16',\n",
       " '2014-10-17',\n",
       " '2014-10-20',\n",
       " '2014-10-21',\n",
       " '2014-10-22',\n",
       " '2014-10-23',\n",
       " '2014-10-24',\n",
       " '2014-10-27',\n",
       " '2014-10-28',\n",
       " '2014-10-29',\n",
       " '2014-10-30',\n",
       " '2014-10-31',\n",
       " '2014-11-03',\n",
       " '2014-11-04',\n",
       " '2014-11-05',\n",
       " '2014-11-06',\n",
       " '2014-11-07',\n",
       " '2014-11-10',\n",
       " '2014-11-11',\n",
       " '2014-11-12',\n",
       " '2014-11-13',\n",
       " '2014-11-14',\n",
       " '2014-11-17',\n",
       " '2014-11-18',\n",
       " '2014-11-19',\n",
       " '2014-11-20',\n",
       " '2014-11-21',\n",
       " '2014-11-24',\n",
       " '2014-11-25',\n",
       " '2014-11-26',\n",
       " '2014-11-28',\n",
       " '2014-12-01',\n",
       " '2014-12-02',\n",
       " '2014-12-03',\n",
       " '2014-12-04',\n",
       " '2014-12-05',\n",
       " '2014-12-08',\n",
       " '2014-12-09',\n",
       " '2014-12-10',\n",
       " '2014-12-11',\n",
       " '2014-12-12',\n",
       " '2014-12-15',\n",
       " '2014-12-16',\n",
       " '2014-12-17',\n",
       " '2014-12-18',\n",
       " '2014-12-19',\n",
       " '2014-12-22',\n",
       " '2014-12-23',\n",
       " '2014-12-24',\n",
       " '2014-12-26',\n",
       " '2014-12-29',\n",
       " '2014-12-30',\n",
       " '2014-12-31',\n",
       " '2015-01-02',\n",
       " '2015-01-05',\n",
       " '2015-01-06',\n",
       " '2015-01-07',\n",
       " '2015-01-08',\n",
       " '2015-01-09',\n",
       " '2015-01-12',\n",
       " '2015-01-13',\n",
       " '2015-01-14',\n",
       " '2015-01-15',\n",
       " '2015-01-16',\n",
       " '2015-01-20',\n",
       " '2015-01-21',\n",
       " '2015-01-22',\n",
       " '2015-01-23',\n",
       " '2015-01-26',\n",
       " '2015-01-27',\n",
       " '2015-01-28',\n",
       " '2015-01-29',\n",
       " '2015-01-30',\n",
       " '2015-02-02',\n",
       " '2015-02-03',\n",
       " '2015-02-04',\n",
       " '2015-02-05',\n",
       " '2015-02-06',\n",
       " '2015-02-09',\n",
       " '2015-02-10',\n",
       " '2015-02-11',\n",
       " '2015-02-12',\n",
       " '2015-02-13',\n",
       " '2015-02-17',\n",
       " '2015-02-18',\n",
       " '2015-02-19',\n",
       " '2015-02-20',\n",
       " '2015-02-23',\n",
       " '2015-02-24',\n",
       " '2015-02-25',\n",
       " '2015-02-26',\n",
       " '2015-02-27',\n",
       " '2015-03-02',\n",
       " '2015-03-03',\n",
       " '2015-03-04',\n",
       " '2015-03-05',\n",
       " '2015-03-06',\n",
       " '2015-03-09',\n",
       " '2015-03-10',\n",
       " '2015-03-11',\n",
       " '2015-03-12',\n",
       " '2015-03-13',\n",
       " '2015-03-16',\n",
       " '2015-03-17',\n",
       " '2015-03-18',\n",
       " '2015-03-19',\n",
       " '2015-03-20',\n",
       " '2015-03-23',\n",
       " '2015-03-24',\n",
       " '2015-03-25',\n",
       " '2015-03-26',\n",
       " '2015-03-27',\n",
       " '2015-03-30',\n",
       " '2015-03-31',\n",
       " '2015-04-01',\n",
       " '2015-04-02',\n",
       " '2015-04-06',\n",
       " '2015-04-07',\n",
       " '2015-04-08',\n",
       " '2015-04-09',\n",
       " '2015-04-10',\n",
       " '2015-04-13',\n",
       " '2015-04-14',\n",
       " '2015-04-15',\n",
       " '2015-04-16',\n",
       " '2015-04-17',\n",
       " '2015-04-20',\n",
       " '2015-04-21',\n",
       " '2015-04-22',\n",
       " '2015-04-23',\n",
       " '2015-04-24',\n",
       " '2015-04-27',\n",
       " '2015-04-28',\n",
       " '2015-04-29',\n",
       " '2015-04-30',\n",
       " '2015-05-01',\n",
       " '2015-05-04',\n",
       " '2015-05-05',\n",
       " '2015-05-06',\n",
       " '2015-05-07',\n",
       " '2015-05-08',\n",
       " '2015-05-11',\n",
       " '2015-05-12',\n",
       " '2015-05-13',\n",
       " '2015-05-14',\n",
       " '2015-05-15',\n",
       " '2015-05-18',\n",
       " '2015-05-19',\n",
       " '2015-05-20',\n",
       " '2015-05-21',\n",
       " '2015-05-22',\n",
       " '2015-05-26',\n",
       " '2015-05-27',\n",
       " '2015-05-28',\n",
       " '2015-05-29',\n",
       " '2015-06-01',\n",
       " '2015-06-02',\n",
       " '2015-06-03',\n",
       " '2015-06-04',\n",
       " '2015-06-05',\n",
       " '2015-06-08',\n",
       " '2015-06-09',\n",
       " '2015-06-10',\n",
       " '2015-06-11',\n",
       " '2015-06-12',\n",
       " '2015-06-15',\n",
       " '2015-06-16',\n",
       " '2015-06-17',\n",
       " '2015-06-18',\n",
       " '2015-06-19',\n",
       " '2015-06-22',\n",
       " '2015-06-23',\n",
       " '2015-06-24',\n",
       " '2015-06-25',\n",
       " '2015-06-26',\n",
       " '2015-06-29',\n",
       " '2015-06-30',\n",
       " '2015-07-01',\n",
       " '2015-07-02',\n",
       " '2015-07-06',\n",
       " '2015-07-07',\n",
       " '2015-07-08',\n",
       " '2015-07-09',\n",
       " '2015-07-10',\n",
       " '2015-07-13',\n",
       " '2015-07-14',\n",
       " '2015-07-15',\n",
       " '2015-07-16',\n",
       " '2015-07-17',\n",
       " '2015-07-20',\n",
       " '2015-07-21',\n",
       " '2015-07-22',\n",
       " '2015-07-23',\n",
       " '2015-07-24',\n",
       " '2015-07-27',\n",
       " '2015-07-28',\n",
       " '2015-07-29',\n",
       " '2015-07-30',\n",
       " '2015-07-31',\n",
       " '2015-08-03',\n",
       " '2015-08-04',\n",
       " '2015-08-05',\n",
       " '2015-08-06',\n",
       " '2015-08-07',\n",
       " '2015-08-10',\n",
       " '2015-08-11',\n",
       " '2015-08-12',\n",
       " '2015-08-13',\n",
       " '2015-08-14',\n",
       " '2015-08-17',\n",
       " '2015-08-18',\n",
       " '2015-08-19',\n",
       " '2015-08-20',\n",
       " '2015-08-21',\n",
       " '2015-08-24',\n",
       " '2015-08-25',\n",
       " '2015-08-26',\n",
       " '2015-08-27',\n",
       " '2015-08-28',\n",
       " '2015-08-31',\n",
       " '2015-09-01',\n",
       " '2015-09-02',\n",
       " '2015-09-03',\n",
       " '2015-09-04',\n",
       " '2015-09-08',\n",
       " '2015-09-09',\n",
       " '2015-09-10',\n",
       " '2015-09-11',\n",
       " '2015-09-14',\n",
       " '2015-09-15',\n",
       " '2015-09-16',\n",
       " '2015-09-17',\n",
       " '2015-09-18',\n",
       " '2015-09-21',\n",
       " '2015-09-22',\n",
       " '2015-09-23',\n",
       " '2015-09-24',\n",
       " '2015-09-25',\n",
       " '2015-09-28',\n",
       " '2015-09-29',\n",
       " '2015-09-30',\n",
       " '2015-10-01',\n",
       " '2015-10-02',\n",
       " '2015-10-05',\n",
       " '2015-10-06',\n",
       " '2015-10-07',\n",
       " '2015-10-08',\n",
       " '2015-10-09',\n",
       " '2015-10-12',\n",
       " '2015-10-13',\n",
       " '2015-10-14',\n",
       " '2015-10-15',\n",
       " '2015-10-16',\n",
       " '2015-10-19',\n",
       " '2015-10-20',\n",
       " '2015-10-21',\n",
       " '2015-10-22',\n",
       " '2015-10-23',\n",
       " '2015-10-26',\n",
       " '2015-10-27',\n",
       " '2015-10-28',\n",
       " '2015-10-29',\n",
       " '2015-10-30',\n",
       " '2015-11-02',\n",
       " '2015-11-03',\n",
       " '2015-11-04',\n",
       " '2015-11-05',\n",
       " '2015-11-06',\n",
       " '2015-11-09',\n",
       " '2015-11-10',\n",
       " '2015-11-11',\n",
       " '2015-11-12',\n",
       " '2015-11-13',\n",
       " '2015-11-16',\n",
       " '2015-11-17',\n",
       " '2015-11-18',\n",
       " '2015-11-19',\n",
       " '2015-11-20',\n",
       " '2015-11-23',\n",
       " '2015-11-24',\n",
       " '2015-11-25',\n",
       " '2015-11-27',\n",
       " '2015-11-30',\n",
       " '2015-12-01',\n",
       " '2015-12-02',\n",
       " '2015-12-03',\n",
       " '2015-12-04',\n",
       " '2015-12-07',\n",
       " '2015-12-08',\n",
       " '2015-12-09',\n",
       " '2015-12-10',\n",
       " '2015-12-11',\n",
       " '2015-12-14',\n",
       " '2015-12-15',\n",
       " '2015-12-16',\n",
       " '2015-12-17',\n",
       " '2015-12-18',\n",
       " '2015-12-21',\n",
       " '2015-12-22',\n",
       " '2015-12-23',\n",
       " '2015-12-24',\n",
       " '2015-12-28',\n",
       " '2015-12-29',\n",
       " '2015-12-30',\n",
       " '2015-12-31',\n",
       " '2016-01-04',\n",
       " '2016-01-05',\n",
       " '2016-01-06',\n",
       " '2016-01-07',\n",
       " '2016-01-08',\n",
       " '2016-01-11',\n",
       " '2016-01-12',\n",
       " '2016-01-13',\n",
       " '2016-01-14',\n",
       " '2016-01-15',\n",
       " '2016-01-19',\n",
       " '2016-01-20',\n",
       " '2016-01-21',\n",
       " '2016-01-22',\n",
       " '2016-01-25',\n",
       " '2016-01-26',\n",
       " '2016-01-27',\n",
       " '2016-01-28',\n",
       " '2016-01-29',\n",
       " '2016-02-01',\n",
       " '2016-02-02',\n",
       " '2016-02-03',\n",
       " '2016-02-04',\n",
       " '2016-02-05',\n",
       " '2016-02-08',\n",
       " '2016-02-09',\n",
       " '2016-02-10',\n",
       " '2016-02-11',\n",
       " '2016-02-12',\n",
       " '2016-02-16',\n",
       " '2016-02-17',\n",
       " '2016-02-18',\n",
       " '2016-02-19',\n",
       " '2016-02-22',\n",
       " '2016-02-23',\n",
       " '2016-02-24',\n",
       " '2016-02-25',\n",
       " '2016-02-26',\n",
       " '2016-02-29',\n",
       " '2016-03-01',\n",
       " '2016-03-02',\n",
       " '2016-03-03',\n",
       " '2016-03-04',\n",
       " '2016-03-07',\n",
       " '2016-03-08',\n",
       " '2016-03-09',\n",
       " '2016-03-10',\n",
       " '2016-03-11',\n",
       " '2016-03-14',\n",
       " '2016-03-15',\n",
       " '2016-03-16',\n",
       " '2016-03-17',\n",
       " '2016-03-18',\n",
       " '2016-03-21',\n",
       " '2016-03-22',\n",
       " '2016-03-23',\n",
       " '2016-03-24',\n",
       " '2016-03-28',\n",
       " '2016-03-29',\n",
       " '2016-03-30',\n",
       " '2016-03-31',\n",
       " '2016-04-01',\n",
       " '2016-04-04',\n",
       " '2016-04-05',\n",
       " '2016-04-06',\n",
       " '2016-04-07',\n",
       " '2016-04-08',\n",
       " '2016-04-11',\n",
       " '2016-04-12',\n",
       " '2016-04-13',\n",
       " '2016-04-14',\n",
       " '2016-04-15',\n",
       " '2016-04-18',\n",
       " '2016-04-19',\n",
       " '2016-04-20',\n",
       " '2016-04-21',\n",
       " '2016-04-22',\n",
       " '2016-04-25',\n",
       " '2016-04-26',\n",
       " '2016-04-27',\n",
       " '2016-04-28',\n",
       " '2016-04-29',\n",
       " '2016-05-02',\n",
       " '2016-05-03',\n",
       " '2016-05-04',\n",
       " '2016-05-05',\n",
       " '2016-05-06',\n",
       " '2016-05-09',\n",
       " '2016-05-10',\n",
       " '2016-05-11',\n",
       " '2016-05-12',\n",
       " '2016-05-13',\n",
       " '2016-05-16',\n",
       " '2016-05-17',\n",
       " '2016-05-18',\n",
       " '2016-05-19',\n",
       " '2016-05-20',\n",
       " '2016-05-23',\n",
       " '2016-05-24',\n",
       " '2016-05-25',\n",
       " '2016-05-26',\n",
       " '2016-05-27',\n",
       " '2016-05-31',\n",
       " '2016-06-01',\n",
       " '2016-06-02',\n",
       " '2016-06-03',\n",
       " '2016-06-06',\n",
       " '2016-06-07',\n",
       " '2016-06-08',\n",
       " '2016-06-09',\n",
       " '2016-06-10',\n",
       " '2016-06-13',\n",
       " '2016-06-14',\n",
       " '2016-06-15',\n",
       " '2016-06-16',\n",
       " '2016-06-17',\n",
       " '2016-06-20',\n",
       " '2016-06-21',\n",
       " '2016-06-22',\n",
       " '2016-06-23',\n",
       " '2016-06-24',\n",
       " '2016-06-27',\n",
       " '2016-06-28',\n",
       " '2016-06-29',\n",
       " '2016-06-30',\n",
       " '2016-07-01',\n",
       " '2016-07-05',\n",
       " '2016-07-06',\n",
       " '2016-07-07',\n",
       " '2016-07-08',\n",
       " '2016-07-11',\n",
       " '2016-07-12',\n",
       " '2016-07-13',\n",
       " '2016-07-14',\n",
       " '2016-07-15',\n",
       " '2016-07-18',\n",
       " '2016-07-19',\n",
       " '2016-07-20',\n",
       " '2016-07-21',\n",
       " '2016-07-22',\n",
       " '2016-07-25',\n",
       " '2016-07-26',\n",
       " '2016-07-27',\n",
       " '2016-07-28',\n",
       " '2016-07-29',\n",
       " '2016-08-01',\n",
       " '2016-08-02',\n",
       " '2016-08-03',\n",
       " '2016-08-04',\n",
       " '2016-08-05',\n",
       " '2016-08-08',\n",
       " '2016-08-09',\n",
       " '2016-08-10',\n",
       " '2016-08-11',\n",
       " '2016-08-12',\n",
       " '2016-08-15',\n",
       " '2016-08-16',\n",
       " '2016-08-17',\n",
       " '2016-08-18',\n",
       " '2016-08-19',\n",
       " '2016-08-22',\n",
       " '2016-08-23',\n",
       " '2016-08-24',\n",
       " '2016-08-25',\n",
       " '2016-08-26',\n",
       " '2016-08-29',\n",
       " '2016-08-30',\n",
       " '2016-08-31',\n",
       " '2016-09-01',\n",
       " '2016-09-02',\n",
       " '2016-09-06',\n",
       " '2016-09-07',\n",
       " '2016-09-08',\n",
       " '2016-09-09',\n",
       " '2016-09-12',\n",
       " '2016-09-13',\n",
       " '2016-09-14',\n",
       " '2016-09-15',\n",
       " '2016-09-16',\n",
       " '2016-09-19',\n",
       " '2016-09-20',\n",
       " '2016-09-21',\n",
       " '2016-09-22',\n",
       " '2016-09-23',\n",
       " '2016-09-26',\n",
       " '2016-09-27',\n",
       " '2016-09-28',\n",
       " '2016-09-29',\n",
       " '2016-09-30',\n",
       " '2016-10-03',\n",
       " '2016-10-04',\n",
       " '2016-10-05',\n",
       " '2016-10-06',\n",
       " '2016-10-07',\n",
       " '2016-10-10',\n",
       " '2016-10-11',\n",
       " '2016-10-12',\n",
       " '2016-10-13',\n",
       " '2016-10-14',\n",
       " '2016-10-17',\n",
       " '2016-10-18',\n",
       " '2016-10-19',\n",
       " '2016-10-20',\n",
       " '2016-10-21',\n",
       " '2016-10-24',\n",
       " '2016-10-25',\n",
       " '2016-10-26',\n",
       " '2016-10-27',\n",
       " '2016-10-28',\n",
       " '2016-10-31',\n",
       " '2016-11-01',\n",
       " '2016-11-02',\n",
       " '2016-11-03',\n",
       " '2016-11-04',\n",
       " '2016-11-07',\n",
       " '2016-11-08',\n",
       " '2016-11-09',\n",
       " '2016-11-10',\n",
       " '2016-11-11',\n",
       " '2016-11-14',\n",
       " '2016-11-15',\n",
       " '2016-11-16',\n",
       " '2016-11-17',\n",
       " '2016-11-18',\n",
       " '2016-11-21',\n",
       " '2016-11-22',\n",
       " '2016-11-23',\n",
       " '2016-11-25',\n",
       " '2016-11-28',\n",
       " '2016-11-29',\n",
       " '2016-11-30',\n",
       " '2016-12-01',\n",
       " '2016-12-02',\n",
       " '2016-12-05',\n",
       " '2016-12-06',\n",
       " '2016-12-07',\n",
       " '2016-12-08',\n",
       " '2016-12-09',\n",
       " '2016-12-12',\n",
       " '2016-12-13',\n",
       " '2016-12-14',\n",
       " '2016-12-15',\n",
       " '2016-12-16',\n",
       " '2016-12-19',\n",
       " '2016-12-20',\n",
       " '2016-12-21',\n",
       " '2016-12-22',\n",
       " '2016-12-23',\n",
       " '2016-12-27',\n",
       " '2016-12-28',\n",
       " '2016-12-29',\n",
       " '2016-12-30',\n",
       " '2017-01-03',\n",
       " '2017-01-04',\n",
       " '2017-01-05',\n",
       " '2017-01-06',\n",
       " '2017-01-09',\n",
       " '2017-01-10',\n",
       " '2017-01-11',\n",
       " '2017-01-12',\n",
       " '2017-01-13',\n",
       " '2017-01-17',\n",
       " '2017-01-18',\n",
       " '2017-01-19',\n",
       " '2017-01-20',\n",
       " '2017-01-23',\n",
       " '2017-01-24',\n",
       " '2017-01-25',\n",
       " '2017-01-26',\n",
       " '2017-01-27',\n",
       " '2017-01-30',\n",
       " '2017-01-31',\n",
       " '2017-02-01',\n",
       " '2017-02-02',\n",
       " '2017-02-03',\n",
       " '2017-02-06',\n",
       " '2017-02-07',\n",
       " '2017-02-08',\n",
       " '2017-02-09',\n",
       " '2017-02-10',\n",
       " '2017-02-13',\n",
       " '2017-02-14',\n",
       " '2017-02-15',\n",
       " '2017-02-16',\n",
       " '2017-02-17',\n",
       " '2017-02-21',\n",
       " '2017-02-22',\n",
       " '2017-02-23',\n",
       " '2017-02-24',\n",
       " '2017-02-27',\n",
       " '2017-02-28',\n",
       " '2017-03-01',\n",
       " '2017-03-02',\n",
       " '2017-03-03',\n",
       " '2017-03-06',\n",
       " '2017-03-07',\n",
       " '2017-03-08',\n",
       " '2017-03-09',\n",
       " '2017-03-10',\n",
       " '2017-03-13',\n",
       " '2017-03-14',\n",
       " '2017-03-15',\n",
       " '2017-03-16',\n",
       " '2017-03-17',\n",
       " '2017-03-20',\n",
       " '2017-03-21',\n",
       " '2017-03-22',\n",
       " '2017-03-23',\n",
       " '2017-03-24',\n",
       " '2017-03-27',\n",
       " '2017-03-28',\n",
       " '2017-03-29',\n",
       " '2017-03-30',\n",
       " '2017-03-31',\n",
       " '2017-04-03',\n",
       " '2017-04-04',\n",
       " '2017-04-05',\n",
       " '2017-04-06',\n",
       " '2017-04-07',\n",
       " '2017-04-10',\n",
       " '2017-04-11',\n",
       " '2017-04-12',\n",
       " '2017-04-13',\n",
       " '2017-04-17',\n",
       " '2017-04-18',\n",
       " '2017-04-19',\n",
       " '2017-04-20',\n",
       " '2017-04-21',\n",
       " '2017-04-24',\n",
       " '2017-04-25',\n",
       " '2017-04-26',\n",
       " '2017-04-27',\n",
       " '2017-04-28',\n",
       " '2017-05-01',\n",
       " '2017-05-02',\n",
       " '2017-05-03',\n",
       " '2017-05-04',\n",
       " '2017-05-05',\n",
       " '2017-05-08',\n",
       " '2017-05-09',\n",
       " '2017-05-10',\n",
       " '2017-05-11',\n",
       " '2017-05-12',\n",
       " '2017-05-15',\n",
       " '2017-05-16',\n",
       " '2017-05-17',\n",
       " '2017-05-18',\n",
       " '2017-05-19',\n",
       " '2017-05-22',\n",
       " '2017-05-23',\n",
       " '2017-05-24',\n",
       " '2017-05-25',\n",
       " '2017-05-26',\n",
       " '2017-05-30',\n",
       " '2017-05-31',\n",
       " '2017-06-01',\n",
       " '2017-06-02',\n",
       " '2017-06-05',\n",
       " '2017-06-06',\n",
       " '2017-06-07',\n",
       " '2017-06-08',\n",
       " '2017-06-09',\n",
       " '2017-06-12',\n",
       " '2017-06-13',\n",
       " '2017-06-14',\n",
       " '2017-06-15',\n",
       " '2017-06-16',\n",
       " '2017-06-19',\n",
       " '2017-06-20',\n",
       " '2017-06-21',\n",
       " '2017-06-22',\n",
       " '2017-06-23',\n",
       " '2017-06-26',\n",
       " '2017-06-27',\n",
       " '2017-06-28',\n",
       " '2017-06-29',\n",
       " '2017-06-30',\n",
       " '2017-07-03',\n",
       " '2017-07-05',\n",
       " '2017-07-06',\n",
       " '2017-07-07',\n",
       " '2017-07-10',\n",
       " '2017-07-11',\n",
       " '2017-07-12',\n",
       " '2017-07-13',\n",
       " '2017-07-14',\n",
       " '2017-07-17',\n",
       " '2017-07-18',\n",
       " '2017-07-19',\n",
       " '2017-07-20',\n",
       " '2017-07-21',\n",
       " '2017-07-24',\n",
       " '2017-07-25',\n",
       " '2017-07-26',\n",
       " '2017-07-27',\n",
       " '2017-07-28',\n",
       " '2017-07-31',\n",
       " '2017-08-01',\n",
       " '2017-08-02',\n",
       " '2017-08-03',\n",
       " '2017-08-04',\n",
       " '2017-08-07',\n",
       " '2017-08-08',\n",
       " '2017-08-09',\n",
       " '2017-08-10',\n",
       " '2017-08-11',\n",
       " '2017-08-14',\n",
       " '2017-08-15',\n",
       " '2017-08-16',\n",
       " '2017-08-17',\n",
       " '2017-08-18',\n",
       " '2017-08-21',\n",
       " '2017-08-22',\n",
       " '2017-08-23',\n",
       " '2017-08-24',\n",
       " '2017-08-25',\n",
       " '2017-08-28',\n",
       " '2017-08-29',\n",
       " '2017-08-30',\n",
       " '2017-08-31',\n",
       " '2017-09-01',\n",
       " '2017-09-05',\n",
       " '2017-09-06',\n",
       " '2017-09-07',\n",
       " '2017-09-08',\n",
       " '2017-09-11',\n",
       " '2017-09-12',\n",
       " '2017-09-13',\n",
       " '2017-09-14',\n",
       " '2017-09-15',\n",
       " '2017-09-18',\n",
       " '2017-09-19',\n",
       " '2017-09-20',\n",
       " '2017-09-21',\n",
       " '2017-09-22',\n",
       " '2017-09-25',\n",
       " '2017-09-26',\n",
       " '2017-09-27',\n",
       " '2017-09-28',\n",
       " '2017-09-29',\n",
       " '2017-10-02',\n",
       " '2017-10-03',\n",
       " '2017-10-04',\n",
       " '2017-10-05',\n",
       " '2017-10-06',\n",
       " '2017-10-09',\n",
       " '2017-10-10',\n",
       " '2017-10-11',\n",
       " '2017-10-12',\n",
       " '2017-10-13',\n",
       " '2017-10-16',\n",
       " '2017-10-17',\n",
       " '2017-10-18',\n",
       " '2017-10-19',\n",
       " '2017-10-20',\n",
       " '2017-10-23',\n",
       " '2017-10-24',\n",
       " '2017-10-25',\n",
       " '2017-10-26',\n",
       " '2017-10-27',\n",
       " '2017-10-30',\n",
       " '2017-10-31',\n",
       " '2017-11-01',\n",
       " '2017-11-02',\n",
       " '2017-11-03',\n",
       " '2017-11-06',\n",
       " '2017-11-07',\n",
       " '2017-11-08',\n",
       " '2017-11-09',\n",
       " '2017-11-10',\n",
       " '2017-11-13',\n",
       " '2017-11-14',\n",
       " '2017-11-15',\n",
       " '2017-11-16',\n",
       " '2017-11-17',\n",
       " '2017-11-20',\n",
       " '2017-11-21',\n",
       " '2017-11-22',\n",
       " '2017-11-24',\n",
       " '2017-11-27',\n",
       " '2017-11-28',\n",
       " '2017-11-29',\n",
       " '2017-11-30',\n",
       " '2017-12-01',\n",
       " '2017-12-04',\n",
       " '2017-12-05',\n",
       " '2017-12-06',\n",
       " '2017-12-07',\n",
       " '2017-12-08',\n",
       " '2017-12-11',\n",
       " '2017-12-12',\n",
       " ...]"
      ]
     },
     "execution_count": 79,
     "metadata": {},
     "output_type": "execute_result"
    }
   ],
   "source": [
    "engine.trading_day_list[1000:]"
   ]
  },
  {
   "cell_type": "code",
   "execution_count": null,
   "id": "c29e6879",
   "metadata": {},
   "outputs": [],
   "source": []
  },
  {
   "cell_type": "code",
   "execution_count": null,
   "id": "1c55f63f",
   "metadata": {},
   "outputs": [],
   "source": [
    "import arviz as az\n",
    "import matplotlib.pyplot as plt\n",
    "import numpy as np\n",
    "import pandas as pd\n",
    "import pymc as pm\n",
    "import xarray as xr\n",
    "\n",
    "from pymc import HalfCauchy, Model, Normal, sample\n",
    "RANDOM_SEED = 8927\n",
    "rng = np.random.default_rng(RANDOM_SEED)\n",
    "\n",
    "%config InlineBackend.figure_format = 'retina'\n",
    "az.style.use(\"arviz-darkgrid\")\n",
    "\n",
    "\n",
    "size = 200\n",
    "true_intercept = 1\n",
    "true_slope = 2\n",
    "\n",
    "x = np.linspace(0, 1, size)\n",
    "# y = a + b*x\n",
    "true_regression_line = true_intercept + true_slope * x\n",
    "# add noise\n",
    "y = true_regression_line + rng.normal(scale=0.5, size=size)\n",
    "\n",
    "data = pd.DataFrame(dict(x=x, y=y))\n",
    "fig = plt.figure(figsize=(7, 7))\n",
    "ax = fig.add_subplot(111, xlabel=\"x\", ylabel=\"y\", title=\"Generated data and underlying model\")\n",
    "ax.plot(x, y, \"x\", label=\"sampled data\")\n",
    "ax.plot(x, true_regression_line, label=\"true regression line\", lw=2.0)\n",
    "plt.legend(loc=0);"
   ]
  },
  {
   "cell_type": "code",
   "execution_count": 10,
   "id": "3cdf04bd",
   "metadata": {},
   "outputs": [
    {
     "name": "stderr",
     "output_type": "stream",
     "text": [
      "Only 4 samples in chain.\n",
      "Auto-assigning NUTS sampler...\n",
      "Initializing NUTS using jitter+adapt_diag...\n",
      "Multiprocess sampling (4 chains in 4 jobs)\n",
      "NUTS: [sigma, Intercept, slope]\n"
     ]
    },
    {
     "data": {
      "text/html": [
       "\n",
       "<style>\n",
       "    /* Turns off some styling */\n",
       "    progress {\n",
       "        /* gets rid of default border in Firefox and Opera. */\n",
       "        border: none;\n",
       "        /* Needs to be in here for Safari polyfill so background images work as expected. */\n",
       "        background-size: auto;\n",
       "    }\n",
       "    progress:not([value]), progress:not([value])::-webkit-progress-bar {\n",
       "        background: repeating-linear-gradient(45deg, #7e7e7e, #7e7e7e 10px, #5c5c5c 10px, #5c5c5c 20px);\n",
       "    }\n",
       "    .progress-bar-interrupted, .progress-bar-interrupted::-webkit-progress-bar {\n",
       "        background: #F44336;\n",
       "    }\n",
       "</style>\n"
      ],
      "text/plain": [
       "<IPython.core.display.HTML object>"
      ]
     },
     "metadata": {},
     "output_type": "display_data"
    },
    {
     "data": {
      "text/html": [
       "\n",
       "    <div>\n",
       "      <progress value='4016' class='' max='4016' style='width:300px; height:20px; vertical-align: middle;'></progress>\n",
       "      100.00% [4016/4016 00:01&lt;00:00 Sampling 4 chains, 0 divergences]\n",
       "    </div>\n",
       "    "
      ],
      "text/plain": [
       "<IPython.core.display.HTML object>"
      ]
     },
     "metadata": {},
     "output_type": "display_data"
    },
    {
     "name": "stderr",
     "output_type": "stream",
     "text": [
      "Sampling 4 chains for 1_000 tune and 4 draw iterations (4_000 + 16 draws total) took 1 seconds.\n",
      "/tmp/ipykernel_130024/3114496352.py:13: UserWarning: The number of samples is too small to check convergence reliably.\n",
      "  idata = sample(4)\n"
     ]
    }
   ],
   "source": [
    "idata = None\n",
    "with Model() as model:  # model specifications in PyMC are wrapped in a with-statement\n",
    "    # Define priors\n",
    "    sigma = HalfCauchy(\"sigma\", beta=10)\n",
    "    intercept = Normal(\"Intercept\", 0, sigma=20)\n",
    "    slope = Normal(\"slope\", 0, sigma=20)\n",
    "\n",
    "    # Define likelihood\n",
    "    likelihood = Normal(\"y\", mu=intercept + slope * x, sigma=sigma, observed=y)\n",
    "\n",
    "    # Inference!\n",
    "    # draw 3000 posterior samples using NUTS sampling\n",
    "    idata = sample(4)\n"
   ]
  },
  {
   "cell_type": "code",
   "execution_count": 25,
   "id": "fe6f900c",
   "metadata": {},
   "outputs": [
    {
     "data": {
      "text/plain": [
       "array(0.51696728)"
      ]
     },
     "execution_count": 25,
     "metadata": {},
     "output_type": "execute_result"
    }
   ],
   "source": [
    "idata[\"posterior\"]['sigma'][0][-1].to_numpy()"
   ]
  },
  {
   "cell_type": "code",
   "execution_count": null,
   "id": "0eaab2ef",
   "metadata": {},
   "outputs": [],
   "source": []
  }
 ],
 "metadata": {
  "kernelspec": {
   "display_name": "Python 3 (ipykernel)",
   "language": "python",
   "name": "python3"
  },
  "language_info": {
   "codemirror_mode": {
    "name": "ipython",
    "version": 3
   },
   "file_extension": ".py",
   "mimetype": "text/x-python",
   "name": "python",
   "nbconvert_exporter": "python",
   "pygments_lexer": "ipython3",
   "version": "3.10.8"
  }
 },
 "nbformat": 4,
 "nbformat_minor": 5
}
