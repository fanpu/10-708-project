{
  "cells": [
    {
      "cell_type": "code",
      "execution_count": 5,
      "metadata": {
        "id": "ZPSrMH1pPPLD"
      },
      "outputs": [],
      "source": [
        "import pickle\n",
        "import networkx as nx\n",
        "import pandas as pd\n",
        "import os\n",
        "import numpy as np\n",
        "import statsmodels.api as sm\n",
        "from statsmodels.regression.linear_model import OLSResults\n",
        "import pickle\n",
        "from tqdm import tqdm\n",
        "from pprint import pprint\n",
        "import yfinance as yf\n",
        "from tqdm import tqdm, trange"
      ]
    },
    {
      "cell_type": "code",
      "execution_count": 6,
      "metadata": {
        "id": "DAhmCDiaQORx"
      },
      "outputs": [],
      "source": [
        "with open('adj_mat.pkl', 'rb') as f:\n",
        "    G = pickle.load(f)"
      ]
    },
    {
      "cell_type": "code",
      "execution_count": 10,
      "metadata": {
        "id": "v4vDMD1vfPRi"
      },
      "outputs": [],
      "source": [
        "# tickers = list(G.nodes)\n",
        "tickers = pd.read_csv('tickers.csv',header=None)[0].to_list()\n",
        "# tickers"
      ]
    },
    {
      "cell_type": "markdown",
      "metadata": {
        "id": "tocFhlB8ivxN"
      },
      "source": [
        "### Data Aquisition\n",
        "\n",
        "### Preprocessing\n",
        "- Due to data limitation, we could only get daily return data. Thus, the realized covariance is calculated using daily return data, while the t-1 is equal to the previous month data"
      ]
    },
    {
      "cell_type": "markdown",
      "metadata": {
        "id": "YBsrc93gGKBA"
      },
      "source": [
        "### HAR-DRD Model"
      ]
    },
    {
      "cell_type": "code",
      "execution_count": 11,
      "metadata": {
        "id": "TkL2FpPP4iR5"
      },
      "outputs": [],
      "source": [
        "def check_symmetric(a, rtol=1e-05, atol=1e-08):\n",
        "    return np.allclose(a, a.T, rtol=rtol, atol=atol)\n",
        "\n",
        "def is_pos_def(x):\n",
        "    return np.all(np.linalg.eigvals(x) > 0)\n",
        "    \n",
        "class StockEngine():\n",
        "    def __init__(self, tickers, start_date=\"2007-01-01\", end_date=\"2022-12-31\"):\n",
        "        # Raw Data From yFinance\n",
        "        self.raw_data = yf.download(' '.join(tickers), \n",
        "                                    start=start_date,\n",
        "                                    end=end_date,\n",
        "                                    group_by='ticker', \n",
        "                                    interval = \"1d\",\n",
        "                                    actions=False)\n",
        "        # Return Data\n",
        "        ret_df = pd.DataFrame()\n",
        "        for ticker in tqdm(tickers):\n",
        "            ret_df[ticker] = (self.raw_data[ticker]['Adj Close']/self.raw_data[ticker]['Adj Close'].shift(1)-1)\n",
        "        ## temporary solution\n",
        "        self.ret_df = ret_df.drop(['DVA', 'ULTA'],axis=1).dropna()\n",
        "        ret_df = ret_df[sorted(list(ret_df))]\n",
        "        self.tickers = list(self.ret_df)\n",
        "\n",
        "        # Year Month\n",
        "        year_month_list = []\n",
        "        for year in np.arange(int(start_date[:4]),int(end_date[:4])+1):\n",
        "            for month in np.arange(1,13):\n",
        "              year_month_list.append(str(year)+'-'+str(month).zfill(2))\n",
        "        self.year_month_list = year_month_list\n",
        "        self.trading_day_list = list(self.ret_df.index.strftime('%Y-%m-%d'))\n",
        "\n",
        "        # load connection matrix\n",
        "        with open('Wmat.npy', 'rb') as f:\n",
        "            W = np.load(f)\n",
        "            Wfull = np.load(f)\n",
        "        self.W = W\n",
        "        self.Wfull = Wfull\n",
        "    \n",
        "    def get_shift_month(self, year_month, diff):\n",
        "        \"\"\"\n",
        "        Shift year month\n",
        "        \"\"\"\n",
        "        idx = self.year_month_list.index(year_month) + diff\n",
        "        assert(idx>=0)\n",
        "        return self.year_month_list[idx]\n",
        "\n",
        "    def get_shift_tday(self, tday, diff):\n",
        "        \"\"\"\n",
        "        Shift trading days\n",
        "        \"\"\"\n",
        "        idx = self.trading_day_list.index(tday) + diff\n",
        "        assert(idx>=0)\n",
        "        return self.trading_day_list[idx]\n",
        "\n",
        "    def get_HAR_DRD(self, tday):\n",
        "        \"\"\"\n",
        "        Get HAR DRD for the 21 days ending on given trading day\n",
        "        \"\"\"\n",
        "        r = self.ret_df.loc[self.get_shift_tday(tday,-21*1+1):self.get_shift_tday(tday,0)]\n",
        "        # print('Last Trading Day', self.get_shift_tday(tday,-21*1+1))\n",
        "        # Ht = np.cov(r.T)\n",
        "        # Rt = np.corrcoef(r.T)\n",
        "        # RVt = np.diag(Ht)\n",
        "        # Dt = np.diag(np.sqrt(RVt))\n",
        "\n",
        "        Ht = np.zeros((r.shape[1], r.shape[1]))\n",
        "        for i in range(r.shape[0]):\n",
        "            Ht+=np.outer(r.iloc[i].values, r.iloc[i].values)\n",
        "        RVt = np.diag(Ht)\n",
        "        Dt = np.diag(np.sqrt(RVt))\n",
        "        Dt_inverse = np.diag(1/np.sqrt(RVt))\n",
        "        Rt = Dt_inverse @ Ht @ Dt_inverse\n",
        "\n",
        "        return Ht, Rt, Dt, RVt\n",
        "\n",
        "    def get_HAR_DRD_data(self, tday):\n",
        "        \"\"\"\n",
        "        Get HAR DRD training data for the trading month (21 days) ending on a given trading day\n",
        "        \"\"\"\n",
        "        Ht, Rt, Dt, RVt = self.get_HAR_DRD(tday)\n",
        "        Ht1, Rt1, Dt1, RVt1 = self.get_HAR_DRD(self.get_shift_tday(tday, -21))\n",
        "\n",
        "        il = np.tril_indices(Rt.shape[0], -1)\n",
        "        xt = Rt[il]\n",
        "        xt1 = Rt1[il]\n",
        "\n",
        "        RVt25 = np.zeros_like(RVt)\n",
        "        xt25 = np.zeros_like(xt)\n",
        "\n",
        "        for i in range(2, 6):\n",
        "            prev_tday = self.get_shift_tday(tday, -i*21)\n",
        "            # print('Previous Trading Day:',prev_tday)\n",
        "            Htp, Rtp, Dtp, RVtp = self.get_HAR_DRD(prev_tday)\n",
        "            # print(prev_year_month)\n",
        "            il = np.tril_indices(Rtp.shape[0], -1)\n",
        "            xtp = Rtp[il]\n",
        "\n",
        "            # Add up to explanatory variables\n",
        "            RVt25 += 0.25*RVtp\n",
        "            xt25 += 0.25*xtp\n",
        "\n",
        "        RVt626 = np.zeros_like(RVt)\n",
        "        xt626 = np.zeros_like(xt)\n",
        "        # print('#####')\n",
        "        for i in range(6, 23):\n",
        "            prev_tday = self.get_shift_tday(tday, -i*21)\n",
        "            # print('Previous Trading Day:',prev_tday)\n",
        "            Htp, Rtp, Dtp, RVtp = self.get_HAR_DRD(prev_tday)\n",
        "            il = np.tril_indices(Rtp.shape[0], -1)\n",
        "            xtp = Rtp[il]\n",
        "\n",
        "            # Add up to explanatory variables\n",
        "            RVt626 += RVtp/17\n",
        "            xt626 += xtp/17\n",
        "        return RVt, RVt1, RVt25, RVt626, xt, xt1, xt25, xt626\n",
        "\n",
        "    def get_GHAR_DRD_data(self, tday):\n",
        "        RVt, RVt1, RVt25, RVt626, xt, xt1, xt25, xt626 = self.get_HAR_DRD_data(tday)\n",
        "        WRVt, WRVt1, WRVt25, WRVt626 = self.W @ RVt, self.W @ RVt1, self.W @ RVt25, self.W @ RVt626\n",
        "\n",
        "        return RVt, RVt1, RVt25, RVt626, xt, xt1, xt25, xt626, WRVt, WRVt1, WRVt25, WRVt626\n",
        "\n",
        "    def get_GHAR_DRD_F_data(self, tday):\n",
        "        RVt, RVt1, RVt25, RVt626, xt, xt1, xt25, xt626 = self.get_HAR_DRD_data(tday)\n",
        "        WRVt, WRVt1, WRVt25, WRVt626 = self.Wfull @ RVt, self.Wfull @ RVt1, self.Wfull @ RVt25, self.Wfull @ RVt626\n",
        "\n",
        "        return RVt, RVt1, RVt25, RVt626, xt, xt1, xt25, xt626, WRVt, WRVt1, WRVt25, WRVt626"
      ]
    },
    {
      "cell_type": "code",
      "execution_count": 12,
      "metadata": {
        "colab": {
          "base_uri": "https://localhost:8080/"
        },
        "id": "LQWMTCqb6wnq",
        "outputId": "f605ecd0-b04a-4aa5-b223-27023fdd7846"
      },
      "outputs": [
        {
          "name": "stdout",
          "output_type": "stream",
          "text": [
            "[*********************100%***********************]  88 of 88 completed\n"
          ]
        },
        {
          "name": "stderr",
          "output_type": "stream",
          "text": [
            "100%|██████████| 88/88 [00:00<00:00, 214.95it/s]\n"
          ]
        }
      ],
      "source": [
        "engine = StockEngine(tickers, start_date=\"2009-01-01\", end_date=\"2022-12-31\")"
      ]
    },
    {
      "cell_type": "markdown",
      "metadata": {
        "id": "7dDdYFJYlZDK"
      },
      "source": [
        "### HAR-DRD coefficients estimations (Daily)"
      ]
    },
    {
      "cell_type": "code",
      "execution_count": 15,
      "metadata": {
        "id": "TXbFaUDM0mvz"
      },
      "outputs": [],
      "source": [
        "month_start_list = []\n",
        "year_month_start_idx = engine.year_month_list.index('2012-01')\n",
        "trading_day_list = np.array(engine.trading_day_list)\n",
        "for idx in range(year_month_start_idx, len(engine.year_month_list)):\n",
        "    month_start_list.append(trading_day_list[trading_day_list>=engine.year_month_list[idx]][0])\n",
        "month_start_list = np.array(month_start_list)"
      ]
    },
    {
      "cell_type": "code",
      "execution_count": 16,
      "metadata": {
        "id": "PGyDNd30tLAS"
      },
      "outputs": [],
      "source": [
        "def generate_model_train_HAR_DRD(tday, interval=1):\n",
        "    # Obtain training data\n",
        "    RVt_list, RVt1_list, RVt25_list, RVt626_list, xt_list, xt1_list, xt25_list, xt626_list = [],[],[],[],[],[],[],[]\n",
        "    for i in trange(1, 251, interval):\n",
        "        ptday = engine.get_shift_tday(tday, -i)\n",
        "        RVt, RVt1, RVt25, RVt626, xt, xt1, xt25, xt626 = engine.get_HAR_DRD_data(ptday)\n",
        "        RVt_list.append(RVt)\n",
        "        RVt1_list.append(RVt1)\n",
        "        RVt25_list.append(RVt25)\n",
        "        RVt626_list.append(RVt626)\n",
        "        xt_list.append(xt)\n",
        "        xt1_list.append(xt1)\n",
        "        xt25_list.append(xt25)\n",
        "        xt626_list.append(xt626)\n",
        "\n",
        "    RVt_data = pd.DataFrame({'RVt':np.concatenate(RVt_list, axis=0),\n",
        "                           'RVt1':np.concatenate(RVt1_list, axis=0),\n",
        "                           'RVt25':np.concatenate(RVt25_list, axis=0),\n",
        "                           'RVt626':np.concatenate(RVt626_list, axis=0)})\n",
        "\n",
        "    # linear regression to estimate coefficients\n",
        "    cols = list(RVt_data)\n",
        "    cols.remove('RVt')\n",
        "    Y = RVt_data['RVt']\n",
        "    X = RVt_data[cols]\n",
        "    X = sm.add_constant(X)\n",
        "    IS_RV_model = sm.OLS(Y,X).fit()\n",
        "\n",
        "    xt_data = pd.DataFrame({'xt':np.concatenate(xt_list, axis=0),\n",
        "                        'xt1':np.concatenate(xt1_list, axis=0),\n",
        "                        'xt25':np.concatenate(xt25_list, axis=0),\n",
        "                        'xt626':np.concatenate(xt626_list, axis=0)})\n",
        "\n",
        "    cols = list(xt_data)\n",
        "    cols.remove('xt')\n",
        "    Y = xt_data['xt']\n",
        "    X = xt_data[cols]\n",
        "    X = sm.add_constant(X)\n",
        "    IS_x_model = sm.OLS(Y,X).fit()\n",
        "    return IS_RV_model, IS_x_model"
      ]
    },
    {
      "cell_type": "code",
      "execution_count": 20,
      "metadata": {
        "colab": {
          "base_uri": "https://localhost:8080/"
        },
        "id": "n7ZVN8qK0mv3",
        "outputId": "078f456a-b278-4737-cb19-61bfb3be589d",
        "scrolled": true
      },
      "outputs": [
        {
          "name": "stderr",
          "output_type": "stream",
          "text": [
            "100%|██████████| 250/250 [01:11<00:00,  3.49it/s]\n",
            "/usr/local/lib/python3.8/dist-packages/statsmodels/tsa/tsatools.py:142: FutureWarning: In a future version of pandas all arguments of concat except for the argument 'objs' will be keyword-only\n",
            "  x = pd.concat(x[::order], 1)\n"
          ]
        }
      ],
      "source": [
        "for tday in month_start_list:\n",
        "    IS_RV_model, IS_x_model = generate_model_train_HAR_DRD(tday, interval=1)\n",
        "    IS_RV_model.save(f'model/IS_RV_{tday}.pkl')\n",
        "    IS_x_model.save(f'model/IS_x_{tday}.pkl')\n",
        "    # break"
      ]
    },
    {
      "cell_type": "markdown",
      "metadata": {
        "id": "fTk0if-OGSga"
      },
      "source": [
        "### GHAR-DRD\n"
      ]
    },
    {
      "cell_type": "code",
      "execution_count": 22,
      "metadata": {
        "id": "YWLqUy4OruzS"
      },
      "outputs": [],
      "source": [
        "def generate_model_train_GHAR_DRD(tday, interval=1):\n",
        "    # Obtain training data\n",
        "    RVt_list, RVt1_list, RVt25_list, RVt626_list, xt_list, xt1_list, xt25_list, xt626_list = [],[],[],[],[],[],[],[]\n",
        "    WRVt1_list, WRVt25_list, WRVt626_list = [],[],[] \n",
        "    for i in trange(1, 251, interval):\n",
        "        ptday = engine.get_shift_tday(tday, -i)\n",
        "        RVt, RVt1, RVt25, RVt626, xt, xt1, xt25, xt626, _, WRVt1, WRVt25, WRVt626 = engine.get_GHAR_DRD_data(ptday)\n",
        "        RVt_list.append(RVt)\n",
        "        RVt1_list.append(RVt1)\n",
        "        RVt25_list.append(RVt25)\n",
        "        RVt626_list.append(RVt626)\n",
        "        xt_list.append(xt)\n",
        "        xt1_list.append(xt1)\n",
        "        xt25_list.append(xt25)\n",
        "        xt626_list.append(xt626)\n",
        "        WRVt1_list.append(WRVt1)\n",
        "        WRVt25_list.append(WRVt25)\n",
        "        WRVt626_list.append(WRVt626)\n",
        "\n",
        "    RVt_data = pd.DataFrame({'RVt':np.concatenate(RVt_list, axis=0),\n",
        "                           'RVt1':np.concatenate(RVt1_list, axis=0),\n",
        "                           'RVt25':np.concatenate(RVt25_list, axis=0),\n",
        "                           'RVt626':np.concatenate(RVt626_list, axis=0),\n",
        "                           'WRVt1':np.concatenate(WRVt1_list, axis=0),\n",
        "                           'WRVt25':np.concatenate(WRVt25_list, axis=0),\n",
        "                           'WRVt626':np.concatenate(WRVt626_list, axis=0)})\n",
        "\n",
        "    # linear regression to estimate coefficients\n",
        "    cols = list(RVt_data)\n",
        "    cols.remove('RVt')\n",
        "    Y = RVt_data['RVt']\n",
        "    X = RVt_data[cols]\n",
        "    X = sm.add_constant(X)\n",
        "    IS_WRV_model = sm.OLS(Y,X).fit()\n",
        "\n",
        "    # xt_data = pd.DataFrame({'xt':np.concatenate(xt_list, axis=0),\n",
        "    #                     'xt1':np.concatenate(xt1_list, axis=0),\n",
        "    #                     'xt25':np.concatenate(xt25_list, axis=0),\n",
        "    #                     'xt626':np.concatenate(xt626_list, axis=0)})\n",
        "\n",
        "    # cols = list(xt_data)\n",
        "    # cols.remove('xt')\n",
        "    # Y = xt_data['xt']\n",
        "    # X = xt_data[cols]\n",
        "    # X = sm.add_constant(X)\n",
        "    # IS_x_model = sm.OLS(Y,X).fit()\n",
        "    return IS_WRV_model"
      ]
    },
    {
      "cell_type": "code",
      "execution_count": 23,
      "metadata": {
        "colab": {
          "base_uri": "https://localhost:8080/"
        },
        "id": "98nKcRQms32D",
        "outputId": "c165748d-2325-4c33-f0ee-e4c49bd91522"
      },
      "outputs": [
        {
          "name": "stderr",
          "output_type": "stream",
          "text": [
            "100%|██████████| 250/250 [01:08<00:00,  3.63it/s]\n",
            "/usr/local/lib/python3.8/dist-packages/statsmodels/tsa/tsatools.py:142: FutureWarning: In a future version of pandas all arguments of concat except for the argument 'objs' will be keyword-only\n",
            "  x = pd.concat(x[::order], 1)\n"
          ]
        }
      ],
      "source": [
        "IS_WRV_model = generate_model_train_GHAR_DRD(tday, interval=1)"
      ]
    },
    {
      "cell_type": "code",
      "execution_count": 24,
      "metadata": {
        "colab": {
          "base_uri": "https://localhost:8080/",
          "height": 555
        },
        "id": "Engl_PIDs36w",
        "outputId": "e5defedd-b274-4b19-8154-3dc1918471ed"
      },
      "outputs": [
        {
          "data": {
            "text/html": [
              "<table class=\"simpletable\">\n",
              "<caption>OLS Regression Results</caption>\n",
              "<tr>\n",
              "  <th>Dep. Variable:</th>           <td>RVt</td>       <th>  R-squared:         </th>  <td>   0.343</td> \n",
              "</tr>\n",
              "<tr>\n",
              "  <th>Model:</th>                   <td>OLS</td>       <th>  Adj. R-squared:    </th>  <td>   0.343</td> \n",
              "</tr>\n",
              "<tr>\n",
              "  <th>Method:</th>             <td>Least Squares</td>  <th>  F-statistic:       </th>  <td>   1872.</td> \n",
              "</tr>\n",
              "<tr>\n",
              "  <th>Date:</th>             <td>Mon, 12 Dec 2022</td> <th>  Prob (F-statistic):</th>   <td>  0.00</td>  \n",
              "</tr>\n",
              "<tr>\n",
              "  <th>Time:</th>                 <td>21:52:10</td>     <th>  Log-Likelihood:    </th>  <td>  69081.</td> \n",
              "</tr>\n",
              "<tr>\n",
              "  <th>No. Observations:</th>      <td> 21500</td>      <th>  AIC:               </th> <td>-1.381e+05</td>\n",
              "</tr>\n",
              "<tr>\n",
              "  <th>Df Residuals:</th>          <td> 21493</td>      <th>  BIC:               </th> <td>-1.381e+05</td>\n",
              "</tr>\n",
              "<tr>\n",
              "  <th>Df Model:</th>              <td>     6</td>      <th>                     </th>      <td> </td>    \n",
              "</tr>\n",
              "<tr>\n",
              "  <th>Covariance Type:</th>      <td>nonrobust</td>    <th>                     </th>      <td> </td>    \n",
              "</tr>\n",
              "</table>\n",
              "<table class=\"simpletable\">\n",
              "<tr>\n",
              "     <td></td>        <th>coef</th>     <th>std err</th>      <th>t</th>      <th>P>|t|</th>  <th>[0.025</th>    <th>0.975]</th>  \n",
              "</tr>\n",
              "<tr>\n",
              "  <th>const</th>   <td>    0.0071</td> <td>    0.000</td> <td>   31.276</td> <td> 0.000</td> <td>    0.007</td> <td>    0.008</td>\n",
              "</tr>\n",
              "<tr>\n",
              "  <th>RVt1</th>    <td>    0.3812</td> <td>    0.011</td> <td>   35.627</td> <td> 0.000</td> <td>    0.360</td> <td>    0.402</td>\n",
              "</tr>\n",
              "<tr>\n",
              "  <th>RVt25</th>   <td>    0.2853</td> <td>    0.020</td> <td>   14.125</td> <td> 0.000</td> <td>    0.246</td> <td>    0.325</td>\n",
              "</tr>\n",
              "<tr>\n",
              "  <th>RVt626</th>  <td>   -0.3053</td> <td>    0.019</td> <td>  -16.012</td> <td> 0.000</td> <td>   -0.343</td> <td>   -0.268</td>\n",
              "</tr>\n",
              "<tr>\n",
              "  <th>WRVt1</th>   <td>   -0.0536</td> <td>    0.014</td> <td>   -3.860</td> <td> 0.000</td> <td>   -0.081</td> <td>   -0.026</td>\n",
              "</tr>\n",
              "<tr>\n",
              "  <th>WRVt25</th>  <td>    0.2917</td> <td>    0.028</td> <td>   10.267</td> <td> 0.000</td> <td>    0.236</td> <td>    0.347</td>\n",
              "</tr>\n",
              "<tr>\n",
              "  <th>WRVt626</th> <td>    0.4310</td> <td>    0.023</td> <td>   18.628</td> <td> 0.000</td> <td>    0.386</td> <td>    0.476</td>\n",
              "</tr>\n",
              "</table>\n",
              "<table class=\"simpletable\">\n",
              "<tr>\n",
              "  <th>Omnibus:</th>       <td>18090.389</td> <th>  Durbin-Watson:     </th>  <td>   1.228</td> \n",
              "</tr>\n",
              "<tr>\n",
              "  <th>Prob(Omnibus):</th>  <td> 0.000</td>   <th>  Jarque-Bera (JB):  </th> <td>750676.128</td>\n",
              "</tr>\n",
              "<tr>\n",
              "  <th>Skew:</th>           <td> 3.844</td>   <th>  Prob(JB):          </th>  <td>    0.00</td> \n",
              "</tr>\n",
              "<tr>\n",
              "  <th>Kurtosis:</th>       <td>30.908</td>   <th>  Cond. No.          </th>  <td>    533.</td> \n",
              "</tr>\n",
              "</table><br/><br/>Notes:<br/>[1] Standard Errors assume that the covariance matrix of the errors is correctly specified."
            ],
            "text/plain": [
              "<class 'statsmodels.iolib.summary.Summary'>\n",
              "\"\"\"\n",
              "                            OLS Regression Results                            \n",
              "==============================================================================\n",
              "Dep. Variable:                    RVt   R-squared:                       0.343\n",
              "Model:                            OLS   Adj. R-squared:                  0.343\n",
              "Method:                 Least Squares   F-statistic:                     1872.\n",
              "Date:                Mon, 12 Dec 2022   Prob (F-statistic):               0.00\n",
              "Time:                        21:52:10   Log-Likelihood:                 69081.\n",
              "No. Observations:               21500   AIC:                        -1.381e+05\n",
              "Df Residuals:                   21493   BIC:                        -1.381e+05\n",
              "Df Model:                           6                                         \n",
              "Covariance Type:            nonrobust                                         \n",
              "==============================================================================\n",
              "                 coef    std err          t      P>|t|      [0.025      0.975]\n",
              "------------------------------------------------------------------------------\n",
              "const          0.0071      0.000     31.276      0.000       0.007       0.008\n",
              "RVt1           0.3812      0.011     35.627      0.000       0.360       0.402\n",
              "RVt25          0.2853      0.020     14.125      0.000       0.246       0.325\n",
              "RVt626        -0.3053      0.019    -16.012      0.000      -0.343      -0.268\n",
              "WRVt1         -0.0536      0.014     -3.860      0.000      -0.081      -0.026\n",
              "WRVt25         0.2917      0.028     10.267      0.000       0.236       0.347\n",
              "WRVt626        0.4310      0.023     18.628      0.000       0.386       0.476\n",
              "==============================================================================\n",
              "Omnibus:                    18090.389   Durbin-Watson:                   1.228\n",
              "Prob(Omnibus):                  0.000   Jarque-Bera (JB):           750676.128\n",
              "Skew:                           3.844   Prob(JB):                         0.00\n",
              "Kurtosis:                      30.908   Cond. No.                         533.\n",
              "==============================================================================\n",
              "\n",
              "Notes:\n",
              "[1] Standard Errors assume that the covariance matrix of the errors is correctly specified.\n",
              "\"\"\""
            ]
          },
          "execution_count": 24,
          "metadata": {},
          "output_type": "execute_result"
        }
      ],
      "source": [
        "IS_WRV_model.summary()"
      ]
    },
    {
      "cell_type": "code",
      "execution_count": 25,
      "metadata": {
        "id": "QQpCJfbos3-9"
      },
      "outputs": [],
      "source": [
        "for tday in month_start_list:\n",
        "    IS_WRV_model = generate_model_train_GHAR_DRD(tday, interval=1)\n",
        "    IS_WRV_model.save(f'model/IS_WRV_{tday}.pkl')\n",
        "    # break"
      ]
    },
    {
      "cell_type": "code",
      "execution_count": null,
      "metadata": {
        "id": "aJDT6fYos4RA"
      },
      "outputs": [],
      "source": []
    },
    {
      "cell_type": "code",
      "execution_count": null,
      "metadata": {
        "id": "pzU_vuzOs4VT"
      },
      "outputs": [],
      "source": []
    },
    {
      "cell_type": "code",
      "execution_count": null,
      "metadata": {
        "id": "W6bVPTlcPTRh"
      },
      "outputs": [],
      "source": []
    }
  ],
  "metadata": {
    "colab": {
      "provenance": [],
      "toc_visible": true
    },
    "kernelspec": {
      "display_name": "Python 3 (ipykernel)",
      "language": "python",
      "name": "python3"
    },
    "language_info": {
      "codemirror_mode": {
        "name": "ipython",
        "version": 3
      },
      "file_extension": ".py",
      "mimetype": "text/x-python",
      "name": "python",
      "nbconvert_exporter": "python",
      "pygments_lexer": "ipython3",
      "version": "3.8.12"
    }
  },
  "nbformat": 4,
  "nbformat_minor": 0
}
